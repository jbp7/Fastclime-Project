{
 "cells": [
  {
   "cell_type": "code",
   "execution_count": 1,
   "metadata": {
    "collapsed": false
   },
   "outputs": [],
   "source": [
    "from __future__ import division\n",
    "import os\n",
    "import sys\n",
    "import glob\n",
    "import matplotlib.pyplot as plt\n",
    "import numpy as np\n",
    "import pandas as pd\n",
    "%matplotlib inline\n",
    "%precision 4\n",
    "plt.style.use('ggplot')\n",
    "\n",
    "from IPython.core.display import Image\n",
    "import uuid \n",
    "\n",
    "import gc"
   ]
  },
  {
   "cell_type": "code",
   "execution_count": 2,
   "metadata": {
    "collapsed": false
   },
   "outputs": [],
   "source": [
    "#R call\n",
    "\n",
    "import rpy2.robjects as robjects\n",
    "from rpy2.robjects.packages import importr\n",
    "fastclime = importr('fastclime')\n",
    "grdevices = importr('grDevices')\n",
    "base = importr('base')\n",
    "stats = importr('stats')"
   ]
  },
  {
   "cell_type": "code",
   "execution_count": 3,
   "metadata": {
    "collapsed": false
   },
   "outputs": [],
   "source": [
    "#Call custom Python module\n",
    "import parametric as param"
   ]
  },
  {
   "cell_type": "code",
   "execution_count": 4,
   "metadata": {
    "collapsed": false
   },
   "outputs": [],
   "source": [
    "def is_Hermitian(m):\n",
    "    #Set missing to zero prior to checking symmetry\n",
    "    m[np.isnan(m)] = 0.\n",
    "\n",
    "    try:\n",
    "        return np.allclose(np.transpose(m,(1,0)), m)\n",
    "    except:\n",
    "        return False"
   ]
  },
  {
   "cell_type": "code",
   "execution_count": 20,
   "metadata": {
    "collapsed": false
   },
   "outputs": [],
   "source": [
    "def fastclime_py(x,lambda_min=0.1,nlambda=50):\n",
    "\n",
    "    cov_input = 1\n",
    "    SigmaInput = x.copy()\n",
    "    \n",
    "    #Check if matrix is symmetric\n",
    "    if not is_Hermitian(SigmaInput):\n",
    "        SigmaInput = np.corrcoef(SigmaInput.T)\n",
    "        cov_input = 0\n",
    "    \n",
    "    #Run parametric simplex linear solver\n",
    "    Sigmahat, mu, maxnlambda, iicov = param.mainfunc(SigmaInput,lambda_min,nlambda)\n",
    "      \n",
    "    #Process output\n",
    "    maxnlambda+=1\n",
    "    \n",
    "    #Reshape the array in Fortran order\n",
    "    #and then slice the array to extract only the top maxnlambda rows\n",
    "    lambdamtx = mu.T.reshape(nlambda, -1, order='F')[:maxnlambda,:]\n",
    "    mu = None\n",
    "    \n",
    "    #Take each row of iicov and convert it to a d x d matrix\n",
    "    d = Sigmahat.shape[1]\n",
    "    icovlist = np.empty((d, d, maxnlambda)) \n",
    "    \n",
    "    for i in range(maxnlambda):\n",
    "        #Extract every other element in each column of iicov before reshaping\n",
    "        icovlist[:,:,i] = iicov[:,i].reshape((d,d)).T\n",
    "    \n",
    "    gc.collect()\n",
    "    \n",
    "    return x, cov_input, Sigmahat, maxnlambda, lambdamtx, icovlist\n",
    "    "
   ]
  },
  {
   "cell_type": "code",
   "execution_count": 6,
   "metadata": {
    "collapsed": false
   },
   "outputs": [
    {
     "name": "stdout",
     "output_type": "stream",
     "text": [
      "Generating data from the multivariate normal distribution with the random graph structure....done.\n"
     ]
    }
   ],
   "source": [
    "#Generate data\n",
    "\n",
    "L = fastclime.fastclime_generator(n = 40, d = 10)\n",
    "pydat = np.array(L.rx2('data'))"
   ]
  },
  {
   "cell_type": "code",
   "execution_count": 23,
   "metadata": {
    "collapsed": false
   },
   "outputs": [
    {
     "data": {
      "text/plain": [
       "array([[ 1.    ,  1.    ,  1.    ,  1.    ,  1.    ,  1.    ,  1.    ,\n",
       "         1.    ,  1.    ,  1.    ],\n",
       "       [ 0.2791,  0.3446,  0.268 ,  0.3193,  0.3641,  0.4125,  0.3446,\n",
       "         0.3193,  0.3641,  0.4125],\n",
       "       [ 0.2649,  0.2948,  0.2656,  0.3163,  0.2183,  0.3181,  0.2981,\n",
       "         0.3156,  0.2922,  0.2934],\n",
       "       [ 0.2431,  0.2887,  0.2281,  0.2551,  0.2121,  0.3174,  0.2563,\n",
       "         0.2749,  0.2681,  0.246 ],\n",
       "       [ 0.1981,  0.2455,  0.2163,  0.2331,  0.1415,  0.31  ,  0.2095,\n",
       "         0.1475,  0.2602,  0.1999],\n",
       "       [ 0.175 ,  0.2333,  0.1475,  0.1812,  0.1019,  0.2716,  0.1804,\n",
       "         0.1461,  0.2015,  0.1699],\n",
       "       [ 0.1728,  0.1595,  0.1396,  0.1321,  0.0954,  0.2062,  0.1786,\n",
       "         0.0723,  0.1875,  0.1474],\n",
       "       [ 0.149 ,  0.1491,  0.1227,  0.1281,  0.    ,  0.1629,  0.1737,\n",
       "         0.    ,  0.1675,  0.1298],\n",
       "       [ 0.1477,  0.1441,  0.1054,  0.0997,  0.    ,  0.1341,  0.1721,\n",
       "         0.    ,  0.1427,  0.1287],\n",
       "       [ 0.1436,  0.134 ,  0.0861,  0.    ,  0.    ,  0.1229,  0.165 ,\n",
       "         0.    ,  0.1421,  0.1269],\n",
       "       [ 0.1385,  0.0638,  0.    ,  0.    ,  0.    ,  0.1224,  0.1599,\n",
       "         0.    ,  0.1349,  0.1236],\n",
       "       [ 0.1382,  0.    ,  0.    ,  0.    ,  0.    ,  0.0196,  0.1385,\n",
       "         0.    ,  0.0779,  0.1201],\n",
       "       [ 0.1376,  0.    ,  0.    ,  0.    ,  0.    ,  0.    ,  0.1156,\n",
       "         0.    ,  0.    ,  0.1151],\n",
       "       [ 0.1375,  0.    ,  0.    ,  0.    ,  0.    ,  0.    ,  0.0764,\n",
       "         0.    ,  0.    ,  0.0988],\n",
       "       [ 0.1309,  0.    ,  0.    ,  0.    ,  0.    ,  0.    ,  0.    ,\n",
       "         0.    ,  0.    ,  0.    ],\n",
       "       [ 0.1197,  0.    ,  0.    ,  0.    ,  0.    ,  0.    ,  0.    ,\n",
       "         0.    ,  0.    ,  0.    ],\n",
       "       [ 0.0928,  0.    ,  0.    ,  0.    ,  0.    ,  0.    ,  0.    ,\n",
       "         0.    ,  0.    ,  0.    ]])"
      ]
     },
     "execution_count": 23,
     "metadata": {},
     "output_type": "execute_result"
    }
   ],
   "source": [
    "Pyout = fastclime_py(pydat,0.1)\n",
    "#Pyout[5][:,2].reshape((10,10)).T\n",
    "Pyout[4]"
   ]
  },
  {
   "cell_type": "code",
   "execution_count": 8,
   "metadata": {
    "collapsed": false
   },
   "outputs": [],
   "source": [
    "#Compare results to R"
   ]
  },
  {
   "cell_type": "code",
   "execution_count": 24,
   "metadata": {
    "collapsed": false
   },
   "outputs": [
    {
     "name": "stdout",
     "output_type": "stream",
     "text": [
      "Allocating memory \n",
      "start recovering \n",
      "preparing precision and path matrix list \n",
      "Done! \n"
     ]
    },
    {
     "data": {
      "text/plain": [
       "array([[ 1.    ,  1.    ,  1.    ,  1.    ,  1.    ,  1.    ,  1.    ,\n",
       "         1.    ,  1.    ,  1.    ],\n",
       "       [ 0.2791,  0.3446,  0.268 ,  0.3193,  0.3641,  0.4125,  0.3446,\n",
       "         0.3193,  0.3641,  0.4125],\n",
       "       [ 0.2649,  0.2948,  0.2656,  0.3163,  0.2183,  0.3181,  0.2981,\n",
       "         0.3156,  0.2922,  0.2934],\n",
       "       [ 0.2431,  0.2887,  0.2281,  0.2551,  0.2121,  0.3174,  0.2563,\n",
       "         0.2749,  0.2681,  0.246 ],\n",
       "       [ 0.1981,  0.2455,  0.2163,  0.2331,  0.1415,  0.31  ,  0.2095,\n",
       "         0.1475,  0.2602,  0.1999],\n",
       "       [ 0.175 ,  0.2333,  0.1475,  0.1812,  0.1019,  0.2716,  0.1804,\n",
       "         0.1461,  0.2015,  0.1699],\n",
       "       [ 0.1728,  0.1595,  0.1396,  0.1321,  0.0954,  0.2062,  0.1786,\n",
       "         0.0723,  0.1875,  0.1474],\n",
       "       [ 0.149 ,  0.1491,  0.1227,  0.1281,  0.    ,  0.1629,  0.1737,\n",
       "         0.    ,  0.1675,  0.1298],\n",
       "       [ 0.1477,  0.1441,  0.1054,  0.0997,  0.    ,  0.1341,  0.1721,\n",
       "         0.    ,  0.1427,  0.1287],\n",
       "       [ 0.1436,  0.134 ,  0.0861,  0.    ,  0.    ,  0.1229,  0.165 ,\n",
       "         0.    ,  0.1421,  0.1269],\n",
       "       [ 0.1385,  0.0638,  0.    ,  0.    ,  0.    ,  0.1224,  0.1599,\n",
       "         0.    ,  0.1349,  0.1236],\n",
       "       [ 0.1382,  0.    ,  0.    ,  0.    ,  0.    ,  0.0196,  0.1385,\n",
       "         0.    ,  0.0779,  0.1201],\n",
       "       [ 0.1376,  0.    ,  0.    ,  0.    ,  0.    ,  0.    ,  0.1156,\n",
       "         0.    ,  0.    ,  0.1151],\n",
       "       [ 0.1375,  0.    ,  0.    ,  0.    ,  0.    ,  0.    ,  0.0764,\n",
       "         0.    ,  0.    ,  0.0988],\n",
       "       [ 0.1309,  0.    ,  0.    ,  0.    ,  0.    ,  0.    ,  0.    ,\n",
       "         0.    ,  0.    ,  0.    ],\n",
       "       [ 0.1197,  0.    ,  0.    ,  0.    ,  0.    ,  0.    ,  0.    ,\n",
       "         0.    ,  0.    ,  0.    ],\n",
       "       [ 0.0928,  0.    ,  0.    ,  0.    ,  0.    ,  0.    ,  0.    ,\n",
       "         0.    ,  0.    ,  0.    ]])"
      ]
     },
     "execution_count": 24,
     "metadata": {},
     "output_type": "execute_result"
    }
   ],
   "source": [
    "#%timeit -n1 -r1 fastclime.fastclime(L.rx2('data'),0.1)\n",
    "Rout = fastclime.fastclime(L.rx2('data'),0.1)\n",
    "#np.array(Rout.rx2('icovlist')[2])\n",
    "np.array(Rout.rx2('lambdamtx'))"
   ]
  },
  {
   "cell_type": "code",
   "execution_count": 10,
   "metadata": {
    "collapsed": false
   },
   "outputs": [],
   "source": [
    "###Draw network graph\n",
    "\n",
    "# \"\"\"\n",
    "# Draw a graph with matplotlib.\n",
    "# You must have matplotlib for this to work.\n",
    "# \"\"\"\n",
    "# try:\n",
    "#     import matplotlib.pyplot as plt\n",
    "# except:\n",
    "#     raise\n",
    "\n",
    "# import networkx as nx\n",
    "\n",
    "# G=nx.path_graph(8)\n",
    "# nx.draw(G)\n",
    "# plt.savefig(\"simple_path.png\") # save as png\n",
    "# plt.show() # display"
   ]
  }
 ],
 "metadata": {
  "kernelspec": {
   "display_name": "Python 2",
   "language": "python",
   "name": "python2"
  },
  "language_info": {
   "codemirror_mode": {
    "name": "ipython",
    "version": 2
   },
   "file_extension": ".py",
   "mimetype": "text/x-python",
   "name": "python",
   "nbconvert_exporter": "python",
   "pygments_lexer": "ipython2",
   "version": "2.7.9"
  }
 },
 "nbformat": 4,
 "nbformat_minor": 0
}
