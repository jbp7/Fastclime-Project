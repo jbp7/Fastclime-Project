{
 "cells": [
  {
   "cell_type": "code",
   "execution_count": 14,
   "metadata": {
    "collapsed": false
   },
   "outputs": [],
   "source": [
    "from __future__ import division\n",
    "import os\n",
    "import sys\n",
    "import glob\n",
    "import matplotlib.pyplot as plt\n",
    "import numpy as np\n",
    "import pandas as pd\n",
    "%matplotlib inline\n",
    "%precision 4\n",
    "plt.style.use('ggplot')\n",
    "\n",
    "from IPython.core.display import Image\n",
    "import uuid \n",
    "\n",
    "import gc"
   ]
  },
  {
   "cell_type": "code",
   "execution_count": 15,
   "metadata": {
    "collapsed": false
   },
   "outputs": [],
   "source": [
    "#R call\n",
    "\n",
    "import rpy2.robjects as robjects\n",
    "from rpy2.robjects.packages import importr\n",
    "fastclime = importr('fastclime')\n",
    "grdevices = importr('grDevices')\n",
    "base = importr('base')\n",
    "stats = importr('stats')"
   ]
  },
  {
   "cell_type": "code",
   "execution_count": 16,
   "metadata": {
    "collapsed": false
   },
   "outputs": [],
   "source": [
    "#Call custom Python module\n",
    "import parametric as param"
   ]
  },
  {
   "cell_type": "code",
   "execution_count": 17,
   "metadata": {
    "collapsed": false
   },
   "outputs": [],
   "source": [
    "def is_Hermitian(m):\n",
    "    #Set missing to zero prior to checking symmetry\n",
    "    m[np.isnan(m)] = 0.\n",
    "\n",
    "    try:\n",
    "        return np.allclose(np.transpose(m,(1,0)), m)\n",
    "    except:\n",
    "        return False"
   ]
  },
  {
   "cell_type": "code",
   "execution_count": 18,
   "metadata": {
    "collapsed": false
   },
   "outputs": [],
   "source": [
    "def fastclime_py(x,lambda_min=0.1,nlambda=50):\n",
    "\n",
    "    cov_input = 1\n",
    "    SigmaInput = x.copy()\n",
    "    \n",
    "    #Check if matrix is symmetric\n",
    "    if not is_Hermitian(SigmaInput):\n",
    "        SigmaInput = np.corrcoef(SigmaInput.T)\n",
    "        cov_input = 0\n",
    "    \n",
    "    #Run parametric simplex linear solver\n",
    "    Sigmahat, mu, maxnlambda, iicov = param.mainfunc(SigmaInput,lambda_min,nlambda)\n",
    "      \n",
    "    #Process output\n",
    "    maxnlambda+=1\n",
    "    \n",
    "    #Reshape the array in Fortran order\n",
    "    #and then slice the array to extract only the top maxnlambda rows\n",
    "    #lambdamtx = mu.T.reshape(nlambda, -1, order='F')[:maxnlambda,:]\n",
    "    #mu = None\n",
    "    \n",
    "    #Take each row of iicov and convert it to a d x d matrix\n",
    "    #d = Sigmahat.shape[1]\n",
    "    #icovlist = np.empty((d, d, maxnlambda)) \n",
    "    \n",
    "    #for i in range(maxnlambda):\n",
    "    #    #Extract every other element in each column of iicov before reshaping\n",
    "    #    icovlist[:,:,i] = iicov[:,i][::2].reshape((d,d)).T\n",
    "    \n",
    "    gc.collect()\n",
    "    \n",
    "    return x, cov_input, Sigmahat, maxnlambda, iicov#lambdamtx, iicov#icovlist,iicov\n",
    "    "
   ]
  },
  {
   "cell_type": "code",
   "execution_count": 19,
   "metadata": {
    "collapsed": false
   },
   "outputs": [
    {
     "name": "stdout",
     "output_type": "stream",
     "text": [
      "Generating data from the multivariate normal distribution with the random graph structure....done.\n"
     ]
    }
   ],
   "source": [
    "#Generate data\n",
    "\n",
    "L = fastclime.fastclime_generator(n = 40, d = 10)\n",
    "pydat = np.array(L.rx2('data'))"
   ]
  },
  {
   "cell_type": "code",
   "execution_count": 20,
   "metadata": {
    "collapsed": false
   },
   "outputs": [
    {
     "data": {
      "text/plain": [
       "array([[ 0.    ,  1.    ,  1.3822],\n",
       "       [ 0.    ,  0.    ,  0.    ],\n",
       "       [ 0.    ,  0.    ,  0.    ],\n",
       "       [ 0.    ,  0.    ,  0.7268],\n",
       "       [ 0.    ,  0.    ,  0.    ],\n",
       "       [ 0.    ,  0.    ,  0.    ],\n",
       "       [ 0.    ,  0.    ,  0.    ],\n",
       "       [ 0.    ,  0.    ,  0.7548],\n",
       "       [ 0.    ,  0.    ,  0.    ],\n",
       "       [ 0.    ,  0.    ,  0.    ],\n",
       "       [ 0.    ,  0.    ,  0.    ],\n",
       "       [ 0.    ,  1.    ,  1.2848],\n",
       "       [ 0.    ,  0.    ,  0.    ],\n",
       "       [ 0.    ,  0.    ,  0.    ],\n",
       "       [ 0.    ,  0.    ,  0.    ],\n",
       "       [ 0.    ,  0.    ,  0.6385],\n",
       "       [ 0.    ,  0.    ,  0.    ],\n",
       "       [ 0.    ,  0.    ,  0.    ],\n",
       "       [ 0.    ,  0.    ,  0.    ],\n",
       "       [ 0.    ,  0.    ,  0.    ],\n",
       "       [ 0.    ,  0.    ,  0.    ],\n",
       "       [ 0.    ,  0.    ,  0.    ],\n",
       "       [ 0.    ,  1.    ,  1.4054],\n",
       "       [ 0.    ,  0.    ,  0.    ],\n",
       "       [ 0.    ,  0.    ,  0.    ],\n",
       "       [ 0.    ,  0.    ,  0.    ],\n",
       "       [ 0.    ,  0.    ,  0.    ],\n",
       "       [ 0.    ,  0.    ,  0.    ],\n",
       "       [ 0.    ,  0.    ,  0.    ],\n",
       "       [ 0.    ,  0.    ,  0.    ],\n",
       "       [ 0.    ,  0.    ,  0.7268],\n",
       "       [ 0.    ,  0.    ,  0.    ],\n",
       "       [ 0.    ,  0.    ,  0.    ],\n",
       "       [ 0.    ,  1.    ,  1.3822],\n",
       "       [ 0.    ,  0.    ,  0.    ],\n",
       "       [ 0.    ,  0.    ,  0.    ],\n",
       "       [ 0.    ,  0.    ,  0.    ],\n",
       "       [ 0.    ,  0.    ,  0.    ],\n",
       "       [ 0.    ,  0.    ,  0.4033],\n",
       "       [ 0.    ,  0.    ,  0.    ],\n",
       "       [ 0.    ,  0.    ,  0.    ],\n",
       "       [ 0.    ,  0.    ,  0.    ],\n",
       "       [ 0.    ,  0.    ,  0.    ],\n",
       "       [ 0.    ,  0.    ,  0.    ],\n",
       "       [ 0.    ,  1.    ,  1.2251],\n",
       "       [ 0.    ,  0.    ,  0.    ],\n",
       "       [ 0.    ,  0.    ,  0.    ],\n",
       "       [ 0.    ,  0.    ,  0.    ],\n",
       "       [ 0.    ,  0.    ,  0.    ],\n",
       "       [ 0.    ,  0.    ,  0.    ]])"
      ]
     },
     "execution_count": 20,
     "metadata": {},
     "output_type": "execute_result"
    }
   ],
   "source": [
    "Pyout = fastclime_py(pydat,0.1)\n",
    "Pyout[4][:,:3]"
   ]
  },
  {
   "cell_type": "code",
   "execution_count": 549,
   "metadata": {
    "collapsed": false
   },
   "outputs": [],
   "source": [
    "#Compare results to R"
   ]
  },
  {
   "cell_type": "code",
   "execution_count": 550,
   "metadata": {
    "collapsed": false
   },
   "outputs": [
    {
     "name": "stdout",
     "output_type": "stream",
     "text": [
      "Allocating memory \n",
      "start recovering \n",
      "preparing precision and path matrix list \n",
      "Done! \n"
     ]
    },
    {
     "data": {
      "text/plain": [
       "array([[ 1.5545,  0.    ,  0.    ,  0.    ,  0.    ,  0.9284,  0.    ,\n",
       "         0.    ,  0.    ,  0.    ],\n",
       "       [ 0.    ,  1.2513,  0.    ,  0.    ,  0.    ,  0.    ,  0.    ,\n",
       "         0.    ,  0.    ,  0.    ],\n",
       "       [ 0.    ,  0.    ,  1.415 ,  0.    ,  0.5651,  0.    ,  0.    ,\n",
       "         0.    ,  0.    ,  0.7664],\n",
       "       [ 0.    ,  0.    ,  0.    ,  1.2546,  0.    ,  0.    ,  0.    ,\n",
       "         0.    ,  0.    ,  0.    ],\n",
       "       [ 0.    ,  0.    ,  0.    ,  0.    ,  1.2545,  0.    ,  0.    ,\n",
       "         0.    ,  0.    ,  0.    ],\n",
       "       [ 0.9284,  0.    ,  0.    ,  0.    ,  0.    ,  1.5545,  0.    ,\n",
       "         0.    ,  0.    ,  0.    ],\n",
       "       [ 0.    ,  0.    ,  0.    ,  0.    ,  0.    ,  0.    ,  1.3219,\n",
       "         0.    ,  0.    ,  0.    ],\n",
       "       [ 0.    ,  0.    ,  0.    ,  0.    ,  0.    ,  0.    ,  0.    ,\n",
       "         1.2852,  0.6055,  0.    ],\n",
       "       [ 0.    ,  0.    ,  0.    ,  0.    ,  0.    ,  0.    ,  0.    ,\n",
       "         0.6055,  1.2852,  0.    ],\n",
       "       [ 0.    ,  0.5608,  0.7664,  0.    ,  0.    ,  0.    ,  0.    ,\n",
       "         0.    ,  0.    ,  1.415 ]])"
      ]
     },
     "execution_count": 550,
     "metadata": {},
     "output_type": "execute_result"
    }
   ],
   "source": [
    "#%timeit -n1 -r1 fastclime.fastclime(L.rx2('data'),0.1)\n",
    "Rout = fastclime.fastclime(L.rx2('data'),0.1)\n",
    "np.array(Rout.rx2('icovlist')[2])\n",
    "#np.array(Rout.rx2('lambdamtx'))"
   ]
  },
  {
   "cell_type": "code",
   "execution_count": 551,
   "metadata": {
    "collapsed": false
   },
   "outputs": [],
   "source": [
    "###Draw network graph\n",
    "\n",
    "# \"\"\"\n",
    "# Draw a graph with matplotlib.\n",
    "# You must have matplotlib for this to work.\n",
    "# \"\"\"\n",
    "# try:\n",
    "#     import matplotlib.pyplot as plt\n",
    "# except:\n",
    "#     raise\n",
    "\n",
    "# import networkx as nx\n",
    "\n",
    "# G=nx.path_graph(8)\n",
    "# nx.draw(G)\n",
    "# plt.savefig(\"simple_path.png\") # save as png\n",
    "# plt.show() # display"
   ]
  }
 ],
 "metadata": {
  "kernelspec": {
   "display_name": "Python 2",
   "language": "python",
   "name": "python2"
  },
  "language_info": {
   "codemirror_mode": {
    "name": "ipython",
    "version": 2
   },
   "file_extension": ".py",
   "mimetype": "text/x-python",
   "name": "python",
   "nbconvert_exporter": "python",
   "pygments_lexer": "ipython2",
   "version": "2.7.9"
  }
 },
 "nbformat": 4,
 "nbformat_minor": 0
}
