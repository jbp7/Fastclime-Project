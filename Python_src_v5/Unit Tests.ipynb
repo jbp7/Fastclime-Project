{
 "cells": [
  {
   "cell_type": "markdown",
   "metadata": {
    "collapsed": true
   },
   "source": [
    "###Unit tests for fastclime.py functions\n",
    "Author: John Pura                                               \n",
    "Email: <john.pura@duke.edu>   "
   ]
  },
  {
   "cell_type": "code",
   "execution_count": 16,
   "metadata": {
    "collapsed": false
   },
   "outputs": [
    {
     "name": "stdout",
     "output_type": "stream",
     "text": [
      "Overwriting tests.py\n"
     ]
    }
   ],
   "source": [
    "%%file tests.py\n",
    "\n",
    "import fastclime as fc\n",
    "import numpy as np\n",
    "\n",
    "############################# \n",
    "#Unit tests for is_Hermitian\n",
    "#############################\n",
    "\n",
    "#Check that square matrix is successful\n",
    "def test_square():\n",
    "    A = np.eye(2)\n",
    "    assert fc.is_Hermitian(A)\n",
    "\n",
    "#Check that non-square matrix fails\n",
    "def test_nonsquare():\n",
    "    A = np.arange(6).reshape((3,2))\n",
    "    np.testing.assert_equal(fc.is_Hermitian(A),False)\n",
    "\n",
    "#Check that square symmetric matrix with missing values is successful\n",
    "def test_square_miss():\n",
    "    A = np.eye(3)\n",
    "    A[1,:] = np.nan\n",
    "    assert fc.is_Hermitian(A)\n",
    "\n"
   ]
  },
  {
   "cell_type": "code",
   "execution_count": 17,
   "metadata": {
    "collapsed": false
   },
   "outputs": [
    {
     "name": "stdout",
     "output_type": "stream",
     "text": [
      "\u001b[1m============================= test session starts ==============================\u001b[0m\r\n",
      "platform linux2 -- Python 2.7.9 -- py-1.4.25 -- pytest-2.6.3\r\n",
      "\u001b[1m\r",
      "collecting 0 items\u001b[0m\u001b[1m\r",
      "collected 0 items \r\n",
      "\u001b[0m\r\n",
      "\u001b[32m\u001b[1m===============================  in 0.02 seconds ===============================\u001b[0m\r\n"
     ]
    }
   ],
   "source": [
    "! py.test"
   ]
  },
  {
   "cell_type": "code",
   "execution_count": 119,
   "metadata": {
    "collapsed": false
   },
   "outputs": [
    {
     "name": "stdout",
     "output_type": "stream",
     "text": [
      "Generating data from the multivariate normal distribution with the random graph structure....done.\n"
     ]
    }
   ],
   "source": [
    "#Unit tests for fastclime_lambda\n",
    "\n",
    "import fastclime as fc\n",
    "import numpy as np\n",
    "\n",
    "import rpy2.robjects as robjects\n",
    "from rpy2.robjects.packages import importr\n",
    "fastclime = importr('fastclime')\n",
    "grdevices = importr('grDevices')\n",
    "\n",
    "L = fastclime.fastclime_generator(n = 10, d = 5)\n",
    "x = np.array(L.rx2('data'))\n",
    "Omega = np.array(L.rx2('omega'))\n",
    "\n",
    "res = fc.fastclime_R(x,0.1,nlambda=50)"
   ]
  },
  {
   "cell_type": "code",
   "execution_count": null,
   "metadata": {
    "collapsed": true
   },
   "outputs": [],
   "source": [
    "############################# \n",
    "#Unit tests for is_Hermitian\n",
    "#############################\n",
    "\n",
    "#Check that square matrix is successful\n",
    "def test_square():\n",
    "    A = np.eye(2)\n",
    "    assert fc.is_Hermitian(A)\n",
    "\n",
    "#Check that non-square matrix fails\n",
    "def test_nonsquare():\n",
    "    A = np.arange(6).reshape((3,2))\n",
    "    np.testing.assert_equal(fc.is_Hermitian(A),False)\n",
    "\n",
    "#Check that square symmetric matrix with missing values is successful\n",
    "def test_square_miss():\n",
    "    A = np.eye(3)\n",
    "    A[1,:] = np.nan\n",
    "    assert fc.is_Hermitian(A)\n",
    "    \n",
    "############################# \n",
    "#Unit tests for symmetrize\n",
    "#############################\n",
    "\n",
    "#Check that non-square matrix fails\n",
    "def test_nonsquare():\n",
    "    A = np.arange(6).reshape((3,2))\n",
    "    np.testing.assert_raises(TypeError,fc.symmetrize,A)\n",
    "    \n",
    "#Check that inputting np.array([1,0],[5,1]) with min rule gives I_2\n",
    "def test_I2min():\n",
    "    A = np.array([[1,0],[5,1]],dtype=float)\n",
    "    np.testing.assert_equal(fc.symmetrize(A,rule=\"min\"),np.eye(2))\n",
    "\n",
    "#Check that inputting np.array([1,0],[-5,1]) with max rule gives I_2\n",
    "def test_I2max():\n",
    "    A = np.array([[1,0],[-5,1]],dtype=float)\n",
    "    np.testing.assert_equal(fc.symmetrize(A,rule=\"max\"),np.eye(2))\n",
    "\n",
    "#Check that a positive semi-definite matrix flags user warning\n",
    "def test_psd():\n",
    "    Sigma = np.eye(3)\n",
    "    Omega = np.array([[1,0,0],[0,0,0],[0,0,1]])\n",
    "    np.testing.assert_warns(UserWarning,fc.loglik,Sigma,Omega)\n",
    "    \n",
    "############################# \n",
    "#Unit tests for loglik\n",
    "#############################    \n",
    "    \n",
    "#Check that absolute value of log likelihood is <= Inf for at least\n",
    "#   a positive semidefinite precision matrix\n",
    "#PosDef Omega\n",
    "def test_loglikval1():\n",
    "    np.random.seed(1234)\n",
    "    A = np.random.normal(0,1,(3,4))\n",
    "    Sigma = np.corrcoef(A.T)\n",
    "    Omega = np.linalg.inv(Sigma)\n",
    "    assert fc.loglik(Sigma,Omega)<=float('Inf')\n",
    "\n",
    "#PSD Omega\n",
    "def test_loglikval2():\n",
    "    Sigma = np.eye(3,dtype=float)\n",
    "    Omega = np.array([[1,0,0],[0,0,0],[0,0,1]],dtype=float)\n",
    "    assert fc.loglik(Sigma,Omega)<=float('Inf')\n",
    "    \n",
    "#Check that identity matrices (I_3) for both covariance and \n",
    "#   precision ma[list()]trices yield correct likelihood value of -3.0\n",
    "def test_loglikval3():\n",
    "    Sigma = np.eye(3)\n",
    "    Omega = np.eye(3)\n",
    "    np.testing.assert_equal(fc.loglik(Sigma,Omega),-3.0)\n",
    "    \n",
    "import rpy2.robjects as robjects\n",
    "from rpy2.robjects.packages import importr\n",
    "fastclime = importr('fastclime')\n",
    "grdevices = importr('grDevices')\n",
    "\n",
    "############################# \n",
    "#Unit tests for fastclime_R\n",
    "#############################\n",
    "\n",
    "#Generate random data using fastclime.generator in R\n",
    "L = fastclime.fastclime_generator(n = 200, d = 50)\n",
    "x = np.array(L.rx2('data'))\n",
    "Omega = np.array(L.rx2('omega'))\n",
    "\n",
    "Pyout = fc.fastclime_R(x,0.1,nlambda=50)\n",
    "\n",
    "Rout = fastclime.fastclime(L.rx2('data'),0.1,50)\n",
    "\n",
    "#Check that function throws an error when input is not ndarray\n",
    "def test_input():\n",
    "    inarray = [[1,2,3],[4,5,6]]\n",
    "    assert np.testing.assert_raises(TypeError,fc.fastclime_R,inarray)\n",
    "\n",
    "#For a generated problem, check that the Python output matches that in R\n",
    "\n",
    "#Check that x is the same\n",
    "def test_x():\n",
    "    np.testing.assert_equal(Pyout.x,np.array(Rout.rx2('x')))\n",
    "    \n",
    "#Check that cov_input is the same\n",
    "def test_cov_input():\n",
    "    np.testing.assert_equal(Pyout.cov_input,np.array(Rout.rx2('cov.input')))\n",
    "\n",
    "#Check that Sigmahat is the same\n",
    "def test_Sigmahat():\n",
    "    np.testing.assert_equal(Pyout.Sigmahat,np.array(Rout.rx2('Sigmahat')))\n",
    "\n",
    "#Check that maxnlambda is the same\n",
    "def test_maxnlambda():\n",
    "    np.testing.assert_equal(Pyout.maxnlambda,np.array(Rout.rx2('maxnlambda')))\n",
    "\n",
    "#Check that lambdamtx is the same\n",
    "def test_lambdamtx():\n",
    "    np.testing.assert_equal(Pyout.lambdamtx,np.array(Rout.rx2('lambdamtx')))\n",
    "\n",
    "#Check that each icov in icovlist is the same\n",
    "def test_Sigmahat():\n",
    "    for i in range(Pyout.maxnlambda):\n",
    "        np.testing.assert_equal(Pyout.icovlist[:,:,i],np.array(Rout.rx2('icovlist')[i]))\n"
   ]
  }
 ],
 "metadata": {
  "kernelspec": {
   "display_name": "Python 2",
   "language": "python",
   "name": "python2"
  },
  "language_info": {
   "codemirror_mode": {
    "name": "ipython",
    "version": 2
   },
   "file_extension": ".py",
   "mimetype": "text/x-python",
   "name": "python",
   "nbconvert_exporter": "python",
   "pygments_lexer": "ipython2",
   "version": "2.7.9"
  }
 },
 "nbformat": 4,
 "nbformat_minor": 0
}
