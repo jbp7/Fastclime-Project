{
 "cells": [
  {
   "cell_type": "markdown",
   "metadata": {
    "collapsed": true
   },
   "source": [
    "###Profiling tests for `fastclime` module\n",
    "Author: John Pura                                               \n",
    "Email: <john.pura@duke.edu> "
   ]
  },
  {
   "cell_type": "code",
   "execution_count": 1,
   "metadata": {
    "collapsed": false
   },
   "outputs": [],
   "source": [
    "import fastclime as fc\n",
    "import numpy as np"
   ]
  },
  {
   "cell_type": "code",
   "execution_count": 2,
   "metadata": {
    "collapsed": true
   },
   "outputs": [],
   "source": [
    "import rpy2.robjects as robjects\n",
    "from rpy2.robjects.packages import importr\n",
    "fastclime = importr('fastclime')\n",
    "grdevices = importr('grDevices')"
   ]
  },
  {
   "cell_type": "code",
   "execution_count": 3,
   "metadata": {
    "collapsed": false
   },
   "outputs": [
    {
     "name": "stdout",
     "output_type": "stream",
     "text": [
      "Generating data from the multivariate normal distribution with the random graph structure....done.\n"
     ]
    }
   ],
   "source": [
    "#Generate random data using fastclime.generator function in R\n",
    "L = fastclime.fastclime_generator(n = 200, d = 50)\n",
    "pydat = np.array(L.rx2('data'))\n",
    "Omega = np.array(L.rx2('omega'))"
   ]
  },
  {
   "cell_type": "code",
   "execution_count": 4,
   "metadata": {
    "collapsed": false
   },
   "outputs": [],
   "source": [
    "%load_ext line_profiler "
   ]
  },
  {
   "cell_type": "markdown",
   "metadata": {},
   "source": [
    "####This will profile the main fastclime_R function in the fastclime module"
   ]
  },
  {
   "cell_type": "code",
   "execution_count": 5,
   "metadata": {
    "collapsed": false
   },
   "outputs": [],
   "source": [
    "lstats = %lprun -r -f fc.fastclime_R fc.fastclime_R(pydat,0.1,nlambda=50)"
   ]
  },
  {
   "cell_type": "code",
   "execution_count": 7,
   "metadata": {
    "collapsed": false
   },
   "outputs": [
    {
     "ename": "AttributeError",
     "evalue": "'LineProfiler' object has no attribute 'sort_stats'",
     "output_type": "error",
     "traceback": [
      "\u001b[1;31m---------------------------------------------------------------------------\u001b[0m",
      "\u001b[1;31mAttributeError\u001b[0m                            Traceback (most recent call last)",
      "\u001b[1;32m<ipython-input-7-0862acd0904b>\u001b[0m in \u001b[0;36m<module>\u001b[1;34m()\u001b[0m\n\u001b[1;32m----> 1\u001b[1;33m \u001b[0mlstats\u001b[0m\u001b[1;33m.\u001b[0m\u001b[0msort_stats\u001b[0m\u001b[1;33m(\u001b[0m\u001b[1;34m'cumtime'\u001b[0m\u001b[1;33m)\u001b[0m\u001b[1;33m.\u001b[0m\u001b[0mprint_stats\u001b[0m\u001b[1;33m(\u001b[0m\u001b[1;33m)\u001b[0m\u001b[1;33m\u001b[0m\u001b[0m\n\u001b[0m",
      "\u001b[1;31mAttributeError\u001b[0m: 'LineProfiler' object has no attribute 'sort_stats'"
     ]
    }
   ],
   "source": [
    "lstats.sort_stats('cumtime').print_stats()"
   ]
  },
  {
   "cell_type": "code",
   "execution_count": null,
   "metadata": {
    "collapsed": true
   },
   "outputs": [],
   "source": []
  },
  {
   "cell_type": "markdown",
   "metadata": {},
   "source": [
    "####This will profile the fastclime_select function in the fastclime module"
   ]
  },
  {
   "cell_type": "code",
   "execution_count": 17,
   "metadata": {
    "collapsed": true
   },
   "outputs": [],
   "source": [
    "fcres = fc.fastclime_R(pydat)"
   ]
  },
  {
   "cell_type": "code",
   "execution_count": 20,
   "metadata": {
    "collapsed": false
   },
   "outputs": [
    {
     "name": "stdout",
     "output_type": "stream",
     "text": [
      "Conducting subsampling...in progress. \n",
      "\n",
      "Conducting subsampling...done. \n",
      "\n"
     ]
    }
   ],
   "source": [
    "lstats2 = %lprun -r -f fc.fastclime_select fc.fastclime_select(pydat,fcres.lambdamtx,fcres.icovlist)"
   ]
  },
  {
   "cell_type": "code",
   "execution_count": 21,
   "metadata": {
    "collapsed": false
   },
   "outputs": [
    {
     "name": "stdout",
     "output_type": "stream",
     "text": [
      "Timer unit: 1e-06 s\n",
      "\n",
      "Total time: 1.37063 s\n",
      "File: fastclime.py\n",
      "Function: fastclime_select at line 143\n",
      "\n",
      "Line #      Hits         Time  Per Hit   % Time  Line Contents\n",
      "==============================================================\n",
      "   143                                           def fastclime_select(x,lambdamtx,icovlist,metric=\"stars\",rep_num=20,\n",
      "   144                                                               stars_thresh=0.05,stars_subsample_ratio=None):\n",
      "   145                                               \"\"\"\n",
      "   146                                               Computes optimal regularization tuning parameter, \n",
      "   147                                               lambda using AIC or BIC metric or using stability approach\n",
      "   148                                               to regularization selection (stars)\n",
      "   149                                           \n",
      "   150                                               Parameters:\n",
      "   151                                               ------------------------------------------------------ \n",
      "   152                                               x         : data matrix\n",
      "   153                                               \n",
      "   154                                               lambdamtx : The sequence of regularization parameters for each column, \n",
      "   155                                                           it is a nlambda by d matrix. It will be filled with 0 when \n",
      "   156                                                           the program finds the required lambda.min value for that \n",
      "   157                                                           column. This parameter is required for fastclime_lambda.\n",
      "   158                                               \n",
      "   159                                               icovlist  : A nlambda list of d by d precision matrices as an \n",
      "   160                                                           alternative graph path (numerical path) corresponding \n",
      "   161                                                           to lambdamtx. This parameter is also required for\n",
      "   162                                                           fastclime_lambda.\n",
      "   163                                                          \n",
      "   164                                               metric    : selection criterion. AIC, BIC and stars are available.\n",
      "   165                                                           When n < d, the degrees of freedom for AIC and BIC are \n",
      "   166                                                           adjusted based on the number of non-zero elements in \n",
      "   167                                                           the estimate precision matrix.\n",
      "   168                                               \n",
      "   169                                               rep_num   : The number of subsamplings. The default value is 20. \n",
      "   170                                                           Only applicable when metric = \"stars\".\n",
      "   171                                               \n",
      "   172                                               stars_thresh : The variability threshold in stars. The default \n",
      "   173                                                              value is 0.1. Only applicable when metric = \"stars\".\n",
      "   174                                               \n",
      "   175                                               stars_subsample_ratio : The subsampling ratio. The default \n",
      "   176                                                                       value is 10*sqrt(n)/n when n>144 and 0.8 \n",
      "   177                                                                       when n<=144, where n is the sample size. \n",
      "   178                                                                       Only applicable when metric = \"stars\"\n",
      "   179                                           \n",
      "   180                                               Returns   : \n",
      "   181                                               ------------------------------------------------------\n",
      "   182                                               optimal lambda parameter and corresponding precision\n",
      "   183                                               matrix\n",
      "   184                                               \n",
      "   185                                               References: 1) H. Pang, et al. (2013) The fastclime Package for Linear \n",
      "   186                                                           Programming and Large-Scale Precision Matrix Estimation in R\n",
      "   187                                               \n",
      "   188                                                           2) H. Liu, et al. (2010) Stability Approach to Regularization\n",
      "   189                                                           Selection (StARS) for High Dimensional Graphical Models\n",
      "   190                                               \n",
      "   191                                               \"\"\"\n",
      "   192         1            6      6.0      0.0      import numpy as np\n",
      "   193                                               \n",
      "   194         1          525    525.0      0.0      SigmaInput = np.corrcoef(x.T)\n",
      "   195                                                   \n",
      "   196                                               #Dimensions\n",
      "   197         1            3      3.0      0.0      n = x.shape[0]\n",
      "   198         1            1      1.0      0.0      d = SigmaInput.shape[1]\n",
      "   199         1            2      2.0      0.0      nl = icovlist.shape[2]\n",
      "   200                                                   \n",
      "   201         1            2      2.0      0.0      if (metric==\"AIC\"):\n",
      "   202                                                   AIC = np.empty((nl,),dtype=float)\n",
      "   203                                           \n",
      "   204                                                   for i in range(nl):\n",
      "   205                                                       if (d>n):\n",
      "   206                                                           m = np.sum(np.absolute(icovlist[:,:,1])>1.0e-5,dtype=int)\n",
      "   207                                                           df = d + m*(m-1.0)/2.0\n",
      "   208                                                       else: \n",
      "   209                                                           df = d\n",
      "   210                                                           \n",
      "   211                                                       AIC[i]=-2.0*loglik(SigmaInput,icovlist[:,:,i]) + df*2.0\n",
      "   212                                                   \n",
      "   213                                                   opt_index = np.where(AIC[2:]==min(AIC[2:][np.where(AIC[2:]!=-np.inf)]))[0]+2\n",
      "   214                                                   opt_lambda = np.max(lambdamtx[opt_index,:])\n",
      "   215                                           \n",
      "   216         1            2      2.0      0.0      if (metric==\"BIC\"):\n",
      "   217                                                   BIC = np.empty((nl,),dtype=float)\n",
      "   218                                           \n",
      "   219                                                   for i in range(nl):\n",
      "   220                                                       if (d>n):\n",
      "   221                                                           m = np.sum(np.absolute(icovlist[:,:,1])>1e-5,dtype=int)\n",
      "   222                                                           df = d + m*(m-1.0)/2.0\n",
      "   223                                                       else: \n",
      "   224                                                           df = d\n",
      "   225                                                           \n",
      "   226                                                       BIC[i]=-2.0*loglik(SigmaInput,icovlist[:,:,i]) + df*np.log(n)\n",
      "   227                                                   \n",
      "   228                                                   opt_index = np.where(BIC[2:]==min(BIC[2:][np.where(BIC[2:]!=-np.inf)]))[0]+2\n",
      "   229                                                   opt_lambda = np.max(lambdamtx[opt_index,:])\n",
      "   230                                           \n",
      "   231         1            1      1.0      0.0      if (metric==\"stars\"):\n",
      "   232                                           \n",
      "   233         1            1      1.0      0.0          if (stars_subsample_ratio is None):\n",
      "   234         1           14     14.0      0.0              stars_subsample_ratio = [10.0*np.sqrt(n)/n,0.8][n<=144]\n",
      "   235                                           \n",
      "   236         1           72     72.0      0.0          merge = np.zeros((d,d,nl),dtype=float)\n",
      "   237                                           \n",
      "   238         1           58     58.0      0.0          print \"Conducting subsampling...in progress. \\n\"\n",
      "   239        21           34      1.6      0.0          for i in range(rep_num):\n",
      "   240        20          338     16.9      0.0              rows = np.floor(float(n)*stars_subsample_ratio)\n",
      "   241        20         5709    285.4      0.4              rand_sample = np.random.permutation(x)[:rows,:]\n",
      "   242                                           \n",
      "   243        20      1338066  66903.3     97.6              tmp = fastclime_R(rand_sample).icovlist\n",
      "   244                                           \n",
      "   245       680         1433      2.1      0.1              for i in range(nl):\n",
      "   246       660        16727     25.3      1.2                  merge[:,:,i]+=tmp[:,:,i]\n",
      "   247                                           \n",
      "   248        20           66      3.3      0.0              del rand_sample, tmp\n",
      "   249         1         2444   2444.0      0.2          print \"Conducting subsampling...done. \\n\"\n",
      "   250                                           \n",
      "   251         1           12     12.0      0.0          variability = np.empty((nl,),dtype=float)\n",
      "   252        34           74      2.2      0.0          for i in range(nl):\n",
      "   253        33          863     26.2      0.1              merge[:,:,i]/=float(rep_num)\n",
      "   254        33         3036     92.0      0.2              variability[i] = 4.0*np.sum(merge[:,:,i].dot(1.0-merge[:,:,i]))/(d*(d-1.0))\n",
      "   255                                           \n",
      "   256         1          107    107.0      0.0          opt_index = max(np.where(variability[variability>=float(stars_thresh)] == max(variability))[0]-1,1)\n",
      "   257         1           47     47.0      0.0          opt_lambda = np.max(lambdamtx[opt_index,:])\n",
      "   258                                                   \n",
      "   259         1          973    973.0      0.1      opt_icov = symmetrize(fastclime_lambda(lambdamtx,icovlist,opt_lambda),rule=\"min\")\n",
      "   260                                               \n",
      "   261         1           11     11.0      0.0      return ReturnSelect(opt_lambda, opt_icov)\n",
      "\n"
     ]
    }
   ],
   "source": [
    "lstats2.print_stats()"
   ]
  },
  {
   "cell_type": "code",
   "execution_count": null,
   "metadata": {
    "collapsed": true
   },
   "outputs": [],
   "source": []
  },
  {
   "cell_type": "markdown",
   "metadata": {},
   "source": [
    "####This will profile the fastclime_est_select function in the fastclime module"
   ]
  },
  {
   "cell_type": "code",
   "execution_count": 5,
   "metadata": {
    "collapsed": false
   },
   "outputs": [
    {
     "name": "stdout",
     "output_type": "stream",
     "text": [
      "Conducting subsampling...in progress. \n",
      "\n",
      "Conducting subsampling...done. \n",
      "\n"
     ]
    }
   ],
   "source": [
    "lstats3 = %lprun -r -f fc.fastclime_est_select fc.fastclime_est_select(pydat)"
   ]
  },
  {
   "cell_type": "code",
   "execution_count": 6,
   "metadata": {
    "collapsed": false
   },
   "outputs": [
    {
     "name": "stdout",
     "output_type": "stream",
     "text": [
      "Timer unit: 1e-06 s\n",
      "\n",
      "Total time: 1.09359 s\n",
      "File: fastclime.py\n",
      "Function: fastclime_est_select at line 357\n",
      "\n",
      "Line #      Hits         Time  Per Hit   % Time  Line Contents\n",
      "==============================================================\n",
      "   357                                           def fastclime_est_select(x,lambda_min=0.1,nlambda=50,metric=\"stars\",rep_num=20,\n",
      "   358                                                               stars_thresh=0.05,stars_subsample_ratio=None):\n",
      "   359                                               \"\"\"\n",
      "   360                                               Performs CLIME estimation and automatically selects the \n",
      "   361                                               optimal regularization parameter based on a given metric\n",
      "   362                                               (default = stars)\n",
      "   363                                           \n",
      "   364                                               Parameters:\n",
      "   365                                               ------------------------------------------------------ \n",
      "   366                                               x         : data matrix\n",
      "   367                                               \n",
      "   368                                               lambda_min :  This is the smallest value of lambda you would \n",
      "   369                                                             like the solver to explorer\n",
      "   370                                               \n",
      "   371                                               nlambda    :  maximum path length. Note if d is large and nlambda \n",
      "   372                                                             is also large, it is possible that the program\n",
      "   373                                                             will fail to allocate memory for the path.\n",
      "   374                                                          \n",
      "   375                                               metric    : selection criterion. AIC, BIC and stars are available.\n",
      "   376                                                           When n < d, the degrees of freedom for AIC and BIC are \n",
      "   377                                                           adjusted based on the number of non-zero elements in \n",
      "   378                                                           the estimate precision matrix.\n",
      "   379                                               \n",
      "   380                                               rep_num   : The number of subsamplings. The default value is 20. \n",
      "   381                                                           Only applicable when metric = \"stars\".\n",
      "   382                                               \n",
      "   383                                               stars_thresh : The variability threshold in stars. The default \n",
      "   384                                                              value is 0.1. Only applicable when metric = \"stars\".\n",
      "   385                                               \n",
      "   386                                               stars_subsample_ratio : The subsampling ratio. The default \n",
      "   387                                                                       value is 10*sqrt(n)/n when n>144 and 0.8 \n",
      "   388                                                                       when n<=144, where n is the sample size. \n",
      "   389                                                                       Only applicable when metric = \"stars\"\n",
      "   390                                           \n",
      "   391                                               Returns   : \n",
      "   392                                               ------------------------------------------------------\n",
      "   393                                               optimal lambda parameter and corresponding precision\n",
      "   394                                               matrix\n",
      "   395                                               \n",
      "   396                                               References: 1) H. Pang, et al. (2014) The fastclime Package for Linear \n",
      "   397                                                           Programming and Large-Scale Precision Matrix Estimation in R\n",
      "   398                                               \n",
      "   399                                                           2) H. Liu, et al. (2010) Stability Approach to Regularization\n",
      "   400                                                           Selection (StARS) for High Dimensional Graphical Models\n",
      "   401                                               \n",
      "   402                                               \"\"\"\n",
      "   403                                           \n",
      "   404                                               #Get CLIME estimates of the regularization path\n",
      "   405         1        36491  36491.0      3.3      fcres = fastclime_R(x,lambda_min,nlambda)\n",
      "   406                                               \n",
      "   407                                               #Get icov corresponding to best selected regularization parameter\n",
      "   408         1            2      2.0      0.0      fcres_select = fastclime_select(x,fcres.lambdamtx,fcres.icovlist,metric,rep_num,\n",
      "   409         1      1057094 1057094.0     96.7                      stars_thresh,stars_subsample_ratio)\n",
      "   410                                               \n",
      "   411         1            3      3.0      0.0      return ReturnSelect(fcres_select.opt_lambda,fcres_select.opt_icov)\n",
      "\n"
     ]
    }
   ],
   "source": [
    "lstats3.print_stats()"
   ]
  },
  {
   "cell_type": "code",
   "execution_count": null,
   "metadata": {
    "collapsed": true
   },
   "outputs": [],
   "source": []
  },
  {
   "cell_type": "code",
   "execution_count": null,
   "metadata": {
    "collapsed": true
   },
   "outputs": [],
   "source": []
  },
  {
   "cell_type": "code",
   "execution_count": null,
   "metadata": {
    "collapsed": true
   },
   "outputs": [],
   "source": []
  }
 ],
 "metadata": {
  "kernelspec": {
   "display_name": "Python 2",
   "language": "python",
   "name": "python2"
  },
  "language_info": {
   "codemirror_mode": {
    "name": "ipython",
    "version": 2
   },
   "file_extension": ".py",
   "mimetype": "text/x-python",
   "name": "python",
   "nbconvert_exporter": "python",
   "pygments_lexer": "ipython2",
   "version": "2.7.9"
  }
 },
 "nbformat": 4,
 "nbformat_minor": 0
}
