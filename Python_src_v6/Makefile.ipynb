{
 "cells": [
  {
   "cell_type": "markdown",
   "metadata": {},
   "source": [
    "#Makefile script\n",
    "Author: John Pura                                               \n",
    "Email: <john.pura@duke.edu> "
   ]
  },
  {
   "cell_type": "code",
   "execution_count": 1,
   "metadata": {
    "collapsed": false
   },
   "outputs": [
    {
     "name": "stdout",
     "output_type": "stream",
     "text": [
      "Overwriting Makefile\n"
     ]
    }
   ],
   "source": [
    "%%file Makefile\n",
    "\n",
    "STA663_Project_Pura_John.pdf: STA663_Project_Pura_John.tex banded.png random.png\n",
    "\tpdflatex STA663_Project_Pura_John\n",
    "\tpdflatex STA663_Project_Pura_John\n",
    "\tpdflatex STA663_Project_Pura_John\n",
    "\n",
    "banded.png:\n",
    "\tpython prepare_plots.py\n",
    "\n",
    "random.png:\n",
    "\tpython prepare_plots.py\n",
    "\n",
    ".PHONY: all clean allclean test\n",
    "\n",
    "all: STA663_Project_Pura_John.pdf \n",
    "\n",
    "clean:\n",
    "\trm -rf *csv *png *aux *log *pytxcode __pycache__ *pyc\n",
    "\n",
    "allclean:\n",
    "\tmake clean\n",
    "\trm -f *pdf\n",
    "\n",
    "test:\n",
    "\tpy.test\n"
   ]
  }
 ],
 "metadata": {
  "kernelspec": {
   "display_name": "Python 2",
   "language": "python",
   "name": "python2"
  },
  "language_info": {
   "codemirror_mode": {
    "name": "ipython",
    "version": 2
   },
   "file_extension": ".py",
   "mimetype": "text/x-python",
   "name": "python",
   "nbconvert_exporter": "python",
   "pygments_lexer": "ipython2",
   "version": "2.7.9"
  }
 },
 "nbformat": 4,
 "nbformat_minor": 0
}
