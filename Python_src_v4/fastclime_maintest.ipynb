{
 "cells": [
  {
   "cell_type": "code",
   "execution_count": 1,
   "metadata": {
    "collapsed": false
   },
   "outputs": [],
   "source": [
    "from __future__ import division\n",
    "import os\n",
    "import sys\n",
    "import glob\n",
    "\n",
    "import numpy as np\n",
    "from IPython.core.display import Image\n",
    "import uuid \n",
    "\n",
    "import gc"
   ]
  },
  {
   "cell_type": "code",
   "execution_count": 2,
   "metadata": {
    "collapsed": false
   },
   "outputs": [],
   "source": [
    "#R call\n",
    "\n",
    "import rpy2.robjects as robjects\n",
    "from rpy2.robjects.packages import importr\n",
    "fastclime = importr('fastclime')\n",
    "grdevices = importr('grDevices')\n",
    "clime = importr('clime')\n",
    "flare = importr('flare')\n",
    "base = importr('base')\n",
    "stats = importr('stats')"
   ]
  },
  {
   "cell_type": "code",
   "execution_count": 3,
   "metadata": {
    "collapsed": false
   },
   "outputs": [],
   "source": [
    "#Call custom Python module\n",
    "import parametric as param\n",
    "import fastclime as fc"
   ]
  },
  {
   "cell_type": "code",
   "execution_count": null,
   "metadata": {
    "collapsed": true
   },
   "outputs": [],
   "source": []
  },
  {
   "cell_type": "code",
   "execution_count": null,
   "metadata": {
    "collapsed": true
   },
   "outputs": [],
   "source": []
  },
  {
   "cell_type": "code",
   "execution_count": 4,
   "metadata": {
    "collapsed": false
   },
   "outputs": [
    {
     "name": "stdout",
     "output_type": "stream",
     "text": [
      "Generating data from the multivariate normal distribution with the random graph structure....done.\n"
     ]
    }
   ],
   "source": [
    "# #Generate data\n",
    "\n",
    "L = fastclime.fastclime_generator(n = 100, d = 150)\n",
    "pydat = np.array(L.rx2('data'))\n",
    "Omega = np.array(L.rx2('omega'))"
   ]
  },
  {
   "cell_type": "code",
   "execution_count": 5,
   "metadata": {
    "collapsed": false
   },
   "outputs": [],
   "source": [
    "Pyout = fc.fastclime_main(pydat,0.1,nlambda=50)"
   ]
  },
  {
   "cell_type": "code",
   "execution_count": 6,
   "metadata": {
    "collapsed": false
   },
   "outputs": [
    {
     "name": "stdout",
     "output_type": "stream",
     "text": [
      "Conducting subsampling...in progress. \n",
      "\n",
      "Conducting subsampling...done. \n",
      "\n"
     ]
    }
   ],
   "source": [
    "opt_icov = fc.fastclime_select(pydat,Pyout[4],Pyout[5])[1]\n",
    "opt_icov2 = fc.fastclime_select(pydat,Pyout[4],Pyout[5],metric=\"BIC\")[1]\n",
    "opt_icov3 = fc.fastclime_select(pydat,Pyout[4],Pyout[5],metric=\"AIC\")[1]"
   ]
  },
  {
   "cell_type": "code",
   "execution_count": 10,
   "metadata": {
    "collapsed": false
   },
   "outputs": [
    {
     "data": {
      "text/plain": [
       "35.762272529956562"
      ]
     },
     "execution_count": 10,
     "metadata": {},
     "output_type": "execute_result"
    }
   ],
   "source": [
    "np.linalg.norm(Omega-opt_icov,np.inf)"
   ]
  },
  {
   "cell_type": "code",
   "execution_count": 14,
   "metadata": {
    "collapsed": false
   },
   "outputs": [
    {
     "data": {
      "text/plain": [
       "33.679075232413915"
      ]
     },
     "execution_count": 14,
     "metadata": {},
     "output_type": "execute_result"
    }
   ],
   "source": [
    "np.linalg.norm(Omega-opt_icov3,'fro')"
   ]
  },
  {
   "cell_type": "code",
   "execution_count": 15,
   "metadata": {
    "collapsed": false
   },
   "outputs": [
    {
     "name": "stdout",
     "output_type": "stream",
     "text": [
      "Allocating memory \n",
      "start recovering \n",
      "preparing precision and path matrix list \n",
      "Done! \n"
     ]
    }
   ],
   "source": [
    "##Run this again once fastclime 1.2.5 is uploaded on CRAN\n",
    "Rout = fastclime.fastclime(L.rx2('data'),0.1,50)"
   ]
  },
  {
   "cell_type": "code",
   "execution_count": 19,
   "metadata": {
    "collapsed": false
   },
   "outputs": [
    {
     "name": "stdout",
     "output_type": "stream",
     "text": [
      "[ True]\n",
      "True\n",
      "False\n"
     ]
    }
   ],
   "source": [
    "from random import randint\n",
    "ranint = randint(0,Pyout[3]-1)\n",
    "print np.isclose(Pyout[3],np.array(Rout.rx2('maxnlambda')))\n",
    "print np.allclose(Pyout[4],np.array(Rout.rx2('lambdamtx')))\n",
    "print np.allclose(Pyout[5][:,:,ranint],np.array(Rout.rx2('icovlist')[ranint]))"
   ]
  },
  {
   "cell_type": "code",
   "execution_count": 267,
   "metadata": {
    "collapsed": false
   },
   "outputs": [
    {
     "name": "stderr",
     "output_type": "stream",
     "text": [
      "/home/bitnami/anaconda/lib/python2.7/site-packages/IPython/kernel/__main__.py:21: UserWarning: Precision matrix estimate is not positive definite.\n",
      "/home/bitnami/anaconda/lib/python2.7/site-packages/IPython/kernel/__main__.py:23: RuntimeWarning: divide by zero encountered in log\n",
      "/home/bitnami/anaconda/lib/python2.7/site-packages/IPython/kernel/__main__.py:23: RuntimeWarning: invalid value encountered in log\n"
     ]
    }
   ],
   "source": [
    "opt_lambda = fastclime_select(pydat,Pyout[4],Pyout[5],\"AIC\")"
   ]
  },
  {
   "cell_type": "code",
   "execution_count": 268,
   "metadata": {
    "collapsed": false
   },
   "outputs": [
    {
     "data": {
      "text/plain": [
       "0.17648155576703306"
      ]
     },
     "execution_count": 268,
     "metadata": {},
     "output_type": "execute_result"
    }
   ],
   "source": [
    "opt_lambda"
   ]
  },
  {
   "cell_type": "code",
   "execution_count": 347,
   "metadata": {
    "collapsed": false
   },
   "outputs": [],
   "source": [
    "opt_icov = fastclime_lambda(Pyout[4],Pyout[5],opt_lambda)"
   ]
  },
  {
   "cell_type": "code",
   "execution_count": 349,
   "metadata": {
    "collapsed": false
   },
   "outputs": [
    {
     "data": {
      "text/plain": [
       "10.035073432027822"
      ]
     },
     "execution_count": 349,
     "metadata": {},
     "output_type": "execute_result"
    }
   ],
   "source": [
    "np.linalg.norm(Omega-opt_icov,np.inf)"
   ]
  },
  {
   "cell_type": "code",
   "execution_count": 300,
   "metadata": {
    "collapsed": false
   },
   "outputs": [
    {
     "data": {
      "text/plain": [
       "True"
      ]
     },
     "execution_count": 300,
     "metadata": {},
     "output_type": "execute_result"
    }
   ],
   "source": [
    "fc.is_Hermitian(opt_icov)"
   ]
  },
  {
   "cell_type": "code",
   "execution_count": 248,
   "metadata": {
    "collapsed": false
   },
   "outputs": [
    {
     "data": {
      "text/plain": [
       "array([[  1.17248299e+00,   0.00000000e+00,   9.48598320e-19, ...,\n",
       "          3.12949688e-21,  -2.69632366e-18,  -2.81223545e-17],\n",
       "       [  2.67201361e-18,   1.15323633e+00,   8.39552680e-20, ...,\n",
       "          1.58428927e-20,  -2.66170114e-18,   2.98222035e-17],\n",
       "       [  5.21605655e-19,   1.67847898e-18,   1.07144374e+00, ...,\n",
       "          5.18759328e-21,  -6.55554751e-18,  -5.48969729e-17],\n",
       "       ..., \n",
       "       [ -4.42986471e-21,  -1.02241959e-20,  -3.76907880e-21, ...,\n",
       "          1.06726977e+00,  -6.02818693e-22,   1.10548640e-19],\n",
       "       [  7.35187180e-19,  -1.07765168e-17,  -2.96333198e-18, ...,\n",
       "         -3.35791907e-21,   1.08581084e+00,   7.52245280e-18],\n",
       "       [  5.23289237e-17,  -8.94357409e-18,   6.65041123e-19, ...,\n",
       "         -3.70784559e-20,   1.02692277e-17,   1.88534817e+00]])"
      ]
     },
     "execution_count": 248,
     "metadata": {},
     "output_type": "execute_result"
    }
   ],
   "source": [
    "Omega"
   ]
  },
  {
   "cell_type": "code",
   "execution_count": null,
   "metadata": {
    "collapsed": true
   },
   "outputs": [],
   "source": []
  },
  {
   "cell_type": "code",
   "execution_count": 10,
   "metadata": {
    "collapsed": false
   },
   "outputs": [
    {
     "name": "stdout",
     "output_type": "stream",
     "text": [
      "High-deimensional Sparse Undirected Graphical Models.\n",
      "The Constrained L1 Minimization for Sparse Precision Matrix Estimation.\n",
      "\n",
      "Conducting Subsampling....done.  \n"
     ]
    }
   ],
   "source": [
    "out_flare = flare.sugm(L.rx2('data'), method = \"clime\", prec = 1e-5)\n",
    "flare_opt = flare.sugm_select(out_flare,criterion=\"stars\")\n",
    "flareres = np.array(flare_opt.rx2('opt.icov'))"
   ]
  },
  {
   "cell_type": "code",
   "execution_count": 11,
   "metadata": {
    "collapsed": false
   },
   "outputs": [
    {
     "data": {
      "text/plain": [
       "<FloatVector - Python:0x7fb648cc9fc8 / R:0x8f99378>\n",
       "[0.204347]"
      ]
     },
     "execution_count": 11,
     "metadata": {},
     "output_type": "execute_result"
    }
   ],
   "source": [
    "flare_opt.rx2('opt.lambda')"
   ]
  },
  {
   "cell_type": "code",
   "execution_count": 12,
   "metadata": {
    "collapsed": false
   },
   "outputs": [
    {
     "data": {
      "text/plain": [
       "9.9124545587975899"
      ]
     },
     "execution_count": 12,
     "metadata": {},
     "output_type": "execute_result"
    }
   ],
   "source": [
    "np.linalg.norm(Omega-flareres,'fro')"
   ]
  },
  {
   "cell_type": "code",
   "execution_count": null,
   "metadata": {
    "collapsed": true
   },
   "outputs": [],
   "source": []
  }
 ],
 "metadata": {
  "kernelspec": {
   "display_name": "Python 2",
   "language": "python",
   "name": "python2"
  },
  "language_info": {
   "codemirror_mode": {
    "name": "ipython",
    "version": 2
   },
   "file_extension": ".py",
   "mimetype": "text/x-python",
   "name": "python",
   "nbconvert_exporter": "python",
   "pygments_lexer": "ipython2",
   "version": "2.7.9"
  }
 },
 "nbformat": 4,
 "nbformat_minor": 0
}
