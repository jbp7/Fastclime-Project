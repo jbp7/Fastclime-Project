{
 "cells": [
  {
   "cell_type": "markdown",
   "metadata": {},
   "source": [
    "####This code wraps the C function \"parametric2\" for use in Python. This function solves CAPME problem using parametric simplex method\n",
    "Primary Authors of C function: Haotian Pang, Han Liu and Robert Vanderbei     \n",
    "Emails: <hpang@princeton.edu>, <hanliu@princeton.edu> and <rvdb@princeton.edu>  \n",
    "Modified for covariate adjusted precision matrix estimation by: John Pura                                               \n",
    "Email: <john.pura@duke.edu>                                                    "
   ]
  },
  {
   "cell_type": "code",
   "execution_count": 6,
   "metadata": {
    "collapsed": false
   },
   "outputs": [],
   "source": [
    "from __future__ import division\n",
    "import os\n",
    "import sys\n",
    "import glob"
   ]
  },
  {
   "cell_type": "code",
   "execution_count": 7,
   "metadata": {
    "collapsed": false
   },
   "outputs": [
    {
     "name": "stdout",
     "output_type": "stream",
     "text": [
      "Overwriting parametric2.h\n"
     ]
    }
   ],
   "source": [
    "%%file parametric2.h\n",
    "\n",
    "int ratio_test(double *dy, int *idy,int ndy, double *y, double mu);\n",
    "void parametric2(double *SigmaInput_xx, double *SigmaInput_xy, int *m1, double *mu_input, double *lambdamin, int *nlambda, int *maxnlambda, double *iicov);\n",
    "void solver2(int m,int n,int nz,int *ia, int *ka, double *a,double *b, double *c);"
   ]
  },
  {
   "cell_type": "code",
   "execution_count": 8,
   "metadata": {
    "collapsed": false
   },
   "outputs": [
    {
     "name": "stdout",
     "output_type": "stream",
     "text": [
      "Overwriting _parametric2.pyx\n"
     ]
    }
   ],
   "source": [
    "%%file _parametric2.pyx\n",
    "\n",
    "import numpy as np\n",
    "cimport numpy as np\n",
    "\n",
    "np.import_array()\n",
    "\n",
    "# cdefine the signature of the c function\n",
    "cdef extern from \"parametric2.h\":\n",
    "    void parametric2(double *SigmaInput_xx, double *SigmaInput_xy, int *m1, double *mu_input, \n",
    "                    double *lambdamin, int *nlambda, int *maxnlambda, double *iicov);\n",
    "    \n",
    "def mainfunc(np.ndarray[double, ndim=2, mode=\"c\"] SigmaInput_xx not None,\n",
    "             np.ndarray[double, ndim=2, mode=\"c\"] SigmaInput_xy not None,\n",
    "             double lambdamin, \n",
    "             int nlambda):   \n",
    "\n",
    "    #Dimensions    \n",
    "    cdef int m1 = SigmaInput_xx.shape[1]\n",
    "    \n",
    "    #Define output\n",
    "    cdef int maxnlambda = 0\n",
    "    cdef np.ndarray mu_input = np.zeros((m1,nlambda), dtype = np.float64, order='C')\n",
    "    cdef np.ndarray iicov = np.zeros((m1*m1,nlambda), dtype = np.float64, order='C')\n",
    "\n",
    "    #Call external C function\n",
    "    parametric2(<double*> np.PyArray_DATA(SigmaInput_xx),\n",
    "               <double*> np.PyArray_DATA(SigmaInput_xy),\n",
    "               &m1,\n",
    "               <double*> np.PyArray_DATA(mu_input),\n",
    "               <double*> &lambdamin,\n",
    "               &nlambda,\n",
    "               &maxnlambda,\n",
    "               <double*> np.PyArray_DATA(iicov)\n",
    "              )\n",
    "    \n",
    "    return (SigmaInput_xx,SigmaInput_xy,mu_input,maxnlambda,iicov)\n"
   ]
  },
  {
   "cell_type": "code",
   "execution_count": 9,
   "metadata": {
    "collapsed": false
   },
   "outputs": [
    {
     "name": "stdout",
     "output_type": "stream",
     "text": [
      "Overwriting setup.py\n"
     ]
    }
   ],
   "source": [
    "%%file setup.py\n",
    "\n",
    "from distutils.core import setup, Extension\n",
    "import numpy as np\n",
    "import numpy.distutils.misc_util\n",
    "from Cython.Distutils import build_ext\n",
    "\n",
    "setup(\n",
    "    name = 'parametric2',\n",
    "    version = '1.0',\n",
    "    description = 'C wrapper for parametric2 function',\n",
    "    author = 'John Pura',\n",
    "    author_email = 'john.pura@duke.edu',\n",
    "    cmdclass={'build_ext': build_ext},\n",
    "    ext_modules=[Extension(\"parametric2\",\n",
    "                           sources=[\"_parametric2.pyx\", \"parametric2.c\",\n",
    "                                    \"lu.c\",\"tree.c\",\"linalg.c\",\n",
    "                                    \"heap.c\"],\n",
    "                 include_dirs=[np.get_include(), ])]\n",
    ")\n"
   ]
  },
  {
   "cell_type": "code",
   "execution_count": 10,
   "metadata": {
    "collapsed": false
   },
   "outputs": [
    {
     "name": "stdout",
     "output_type": "stream",
     "text": [
      "\u001b[39mrunning build_ext\u001b[0m\n",
      "\u001b[39mcythoning _parametric2.pyx to _parametric2.c\u001b[0m\n",
      "\u001b[39mbuilding 'parametric2' extension\u001b[0m\n",
      "\u001b[39mC compiler: gcc -pthread -fno-strict-aliasing -g -O2 -DNDEBUG -g -fwrapv -O3 -Wall -Wstrict-prototypes -fPIC\n",
      "\u001b[0m\n",
      "\u001b[39mcompile options: '-I/home/bitnami/anaconda/lib/python2.7/site-packages/numpy/core/include -I/home/bitnami/anaconda/include/python2.7 -c'\u001b[0m\n",
      "\u001b[39mgcc: heap.c\u001b[0m\n",
      "\u001b[39mgcc: linalg.c\u001b[0m\n",
      "\u001b[39mgcc: _parametric2.c\u001b[0m\n",
      "In file included from /home/bitnami/anaconda/lib/python2.7/site-packages/numpy/core/include/numpy/ndarraytypes.h:1804:0,\n",
      "                 from /home/bitnami/anaconda/lib/python2.7/site-packages/numpy/core/include/numpy/ndarrayobject.h:17,\n",
      "                 from /home/bitnami/anaconda/lib/python2.7/site-packages/numpy/core/include/numpy/arrayobject.h:4,\n",
      "                 from _parametric2.c:232:\n",
      "/home/bitnami/anaconda/lib/python2.7/site-packages/numpy/core/include/numpy/npy_1_7_deprecated_api.h:15:2: warning: #warning \"Using deprecated NumPy API, disable it by \" \"#defining NPY_NO_DEPRECATED_API NPY_1_7_API_VERSION\" [-Wcpp]\n",
      " #warning \"Using deprecated NumPy API, disable it by \" \\\n",
      "  ^\n",
      "In file included from /home/bitnami/anaconda/lib/python2.7/site-packages/numpy/core/include/numpy/ufuncobject.h:317:0,\n",
      "                 from _parametric2.c:233:\n",
      "/home/bitnami/anaconda/lib/python2.7/site-packages/numpy/core/include/numpy/__ufunc_api.h:241:1: warning: ‘_import_umath’ defined but not used [-Wunused-function]\n",
      " _import_umath(void)\n",
      " ^\n",
      "\u001b[39mgcc: tree.c\u001b[0m\n",
      "\u001b[39mgcc: lu.c\u001b[0m\n",
      "\u001b[39mgcc: parametric2.c\u001b[0m\n",
      "\u001b[39mgcc -pthread -shared build/temp.linux-x86_64-2.7/_parametric2.o build/temp.linux-x86_64-2.7/parametric2.o build/temp.linux-x86_64-2.7/lu.o build/temp.linux-x86_64-2.7/tree.o build/temp.linux-x86_64-2.7/linalg.o build/temp.linux-x86_64-2.7/heap.o -L/home/bitnami/anaconda/lib -lpython2.7 -o /home/bitnami/STA663-pura-project/Python_src_v4/parametric2.so\u001b[0m\n"
     ]
    }
   ],
   "source": [
    "!python setup.py build_ext --inplace"
   ]
  }
 ],
 "metadata": {
  "kernelspec": {
   "display_name": "Python 2",
   "language": "python",
   "name": "python2"
  },
  "language_info": {
   "codemirror_mode": {
    "name": "ipython",
    "version": 2
   },
   "file_extension": ".py",
   "mimetype": "text/x-python",
   "name": "python",
   "nbconvert_exporter": "python",
   "pygments_lexer": "ipython2",
   "version": "2.7.9"
  }
 },
 "nbformat": 4,
 "nbformat_minor": 0
}
