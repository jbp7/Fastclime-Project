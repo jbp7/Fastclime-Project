{
 "cells": [
  {
   "cell_type": "code",
   "execution_count": 2,
   "metadata": {
    "collapsed": false
   },
   "outputs": [],
   "source": [
    "import parametric as param1\n",
    "import parametric2 as param2\n",
    "import numpy as np\n",
    "import gc"
   ]
  },
  {
   "cell_type": "code",
   "execution_count": null,
   "metadata": {
    "collapsed": true
   },
   "outputs": [],
   "source": []
  },
  {
   "cell_type": "code",
   "execution_count": 3,
   "metadata": {
    "collapsed": true
   },
   "outputs": [],
   "source": [
    "import rpy2.robjects as robjects\n",
    "from rpy2.robjects.packages import importr\n",
    "fastclime = importr('fastclime')\n",
    "grdevices = importr('grDevices')\n",
    "base = importr('base')\n",
    "stats = importr('stats')"
   ]
  },
  {
   "cell_type": "code",
   "execution_count": 4,
   "metadata": {
    "collapsed": true
   },
   "outputs": [],
   "source": [
    "def is_Hermitian(m):\n",
    "    \"\"\"\n",
    "    Checks if a given matrix is Hermitian \n",
    "    (symmetric)\n",
    "\n",
    "    Parameters:\n",
    "    -----------------------------------------\n",
    "    m   :  A 2-D matrix\n",
    "\n",
    "    Returns:\n",
    "    -----------------------------------------\n",
    "    logical\n",
    "    \"\"\"\n",
    "    import numpy as np\n",
    "    \n",
    "    #Set missing to zero prior to checking symmetry\n",
    "    m[np.isnan(m)] = 0.\n",
    "\n",
    "    try:\n",
    "        return np.allclose(np.transpose(m,(1,0)), m)\n",
    "    except:\n",
    "        return False\n",
    "    \n",
    "def symmetrize(m,rule=\"min\"):\n",
    "    \"\"\"\n",
    "    Symmetrizes a given square matrix based on a rule\n",
    "\n",
    "    Parameters:\n",
    "    -----------------------------------------\n",
    "    m   :  A square matrix\n",
    "\n",
    "    rule:  criterion for symmetrizing m\n",
    "           -\"min\" computes the minimum of m(i,j) and m(j,i)\n",
    "           -\"max\" computes the maximum of m(i,j) and m(j,i)\n",
    "           where i and j are row and column indices\n",
    "\n",
    "    Returns:\n",
    "    -----------------------------------------\n",
    "    A symmetric square matrix\n",
    "    \"\"\"\n",
    "    import numpy as np\n",
    "    \n",
    "    if (m.shape[0] != m.shape[1]):\n",
    "        raise ValueError(\"Input matrix must be square.\")\n",
    "        \n",
    "    if (rule == \"min\"):\n",
    "        min_mat =  np.fmin(np.triu(m),np.tril(m).T)\n",
    "        return np.triu(min_mat,1) + min_mat.T\n",
    "\n",
    "    elif (rule == \"max\"):\n",
    "        max_mat =  np.fmax(np.triu(m),np.tril(m).T)\n",
    "        return np.triu(max_mat,1) + max_mat.T\n",
    "    \n",
    "    else:\n",
    "        raise ValueError(\"Specify rule as min or max.\")\n",
    "\n",
    "def fastclime1(x,lambda_min=0.1,nlambda=50):\n",
    " \n",
    "    cov_input = 1\n",
    "    SigmaInput = x.copy()\n",
    "    \n",
    "    #Check if matrix is symmetric\n",
    "    if not is_Hermitian(SigmaInput):\n",
    "        SigmaInput = np.corrcoef(SigmaInput.T)\n",
    "        cov_input = 0\n",
    "    \n",
    "    #Run parametric simplex linear solver\n",
    "    Sigmahat, mu, maxnlambda, iicov = param1.mainfunc(SigmaInput,lambda_min,nlambda)\n",
    "      \n",
    "    #Process output\n",
    "    maxnlambda+=1\n",
    "    \n",
    "    #Reshape the array in Fortran order\n",
    "    #and then slice the array to extract only the top maxnlambda rows\n",
    "    lambdamtx = mu.T.reshape(nlambda, -1, order='F')[:maxnlambda,:]\n",
    "    mu = None\n",
    "    \n",
    "    #Take each row of iicov and convert it to a d x d matrix\n",
    "    d = Sigmahat.shape[1]\n",
    "    icovlist = np.empty((d, d, maxnlambda)) \n",
    "   \n",
    "    #Symmetrize output precision matrices \n",
    "    for i in range(maxnlambda):\n",
    "        #icovlist[:,:,i] = symmetrize(iicov[:,i].reshape((d,d)).T,\"min\")\n",
    "        icovlist[:,:,i] = iicov[:,i].reshape((d,d)).T\n",
    "    \n",
    "    gc.collect()\n",
    "    \n",
    "    return x, cov_input, Sigmahat, maxnlambda, lambdamtx, icovlist\n",
    "    \n",
    "    \n",
    "def fastclime2(x,SigmaInput_xy,lambda_min=0.1,nlambda=50):\n",
    "\n",
    "    cov_input = 1\n",
    "    SigmaInput_xx = x.copy()\n",
    "    \n",
    "    #Check if matrix is symmetric\n",
    "    if not is_Hermitian(SigmaInput_xx):\n",
    "        SigmaInput_xx = np.corrcoef(SigmaInput_xx.T)\n",
    "        cov_input = 0\n",
    "    \n",
    "    #Check that the shape of SigmaInput_xx and SigmaInput_xy are the same\n",
    "    if (SigmaInput_xx.shape != SigmaInput_xy.shape):\n",
    "        raise ValueError(\"Dimensions for input covariance matrices must match.\")\n",
    "    \n",
    "    #Run parametric simplex linear solver\n",
    "    Sigmahat, mu, maxnlambda, iicov = param2.mainfunc(SigmaInput_xx,SigmaInput_xy,\n",
    "                                                     lambda_min,nlambda)\n",
    "      \n",
    "    #Process output\n",
    "    maxnlambda+=1\n",
    "    \n",
    "    #Reshape the array in Fortran order\n",
    "    #and then slice the array to extract only the top maxnlambda rows\n",
    "    lambdamtx = mu.T.reshape(nlambda, -1, order='F')[:maxnlambda,:]\n",
    "    mu = None\n",
    "    \n",
    "    #Take each row of iicov and convert it to a d x d matrix\n",
    "    d = Sigmahat.shape[1]\n",
    "    icovlist = np.empty((d, d, maxnlambda)) \n",
    "   \n",
    "    #Symmetrize output precision matrices \n",
    "    for i in range(maxnlambda):\n",
    "        #icovlist[:,:,i] = symmetrize(iicov[:,i].reshape((d,d)).T,\"min\")\n",
    "         icovlist[:,:,i] = iicov[:,i].reshape((d,d)).T\n",
    "    \n",
    "    gc.collect()\n",
    "    \n",
    "    return x, cov_input, Sigmahat, maxnlambda, lambdamtx, icovlist\n",
    "    "
   ]
  },
  {
   "cell_type": "code",
   "execution_count": null,
   "metadata": {
    "collapsed": true
   },
   "outputs": [],
   "source": []
  },
  {
   "cell_type": "code",
   "execution_count": 5,
   "metadata": {
    "collapsed": false
   },
   "outputs": [
    {
     "name": "stdout",
     "output_type": "stream",
     "text": [
      "Generating data from the multivariate normal distribution with the random graph structure....done.\n"
     ]
    }
   ],
   "source": [
    "L = fastclime.fastclime_generator(n = 10, d = 5)\n",
    "pydat = np.array(L.rx2('data'))"
   ]
  },
  {
   "cell_type": "code",
   "execution_count": 6,
   "metadata": {
    "collapsed": false
   },
   "outputs": [],
   "source": [
    "Pyout = fastclime1(pydat)"
   ]
  },
  {
   "cell_type": "code",
   "execution_count": null,
   "metadata": {
    "collapsed": false
   },
   "outputs": [],
   "source": [
    "from numpy import matlib\n",
    "Imat = np.matlib.eye(5)\n",
    "Pyout2 = fastclime2(pydat,Imat)\n"
   ]
  },
  {
   "cell_type": "code",
   "execution_count": null,
   "metadata": {
    "collapsed": true
   },
   "outputs": [],
   "source": []
  },
  {
   "cell_type": "code",
   "execution_count": null,
   "metadata": {
    "collapsed": true
   },
   "outputs": [],
   "source": [
    "Rout = fastclime.fastclime(L.rx2('data'),0.1)"
   ]
  },
  {
   "cell_type": "code",
   "execution_count": null,
   "metadata": {
    "collapsed": true
   },
   "outputs": [],
   "source": []
  },
  {
   "cell_type": "code",
   "execution_count": null,
   "metadata": {
    "collapsed": true
   },
   "outputs": [],
   "source": []
  }
 ],
 "metadata": {
  "kernelspec": {
   "display_name": "Python 2",
   "language": "python",
   "name": "python2"
  },
  "language_info": {
   "codemirror_mode": {
    "name": "ipython",
    "version": 2
   },
   "file_extension": ".py",
   "mimetype": "text/x-python",
   "name": "python",
   "nbconvert_exporter": "python",
   "pygments_lexer": "ipython2",
   "version": "2.7.9"
  }
 },
 "nbformat": 4,
 "nbformat_minor": 0
}
