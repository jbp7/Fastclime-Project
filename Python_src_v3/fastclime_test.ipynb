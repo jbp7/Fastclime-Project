{
 "cells": [
  {
   "cell_type": "code",
   "execution_count": 78,
   "metadata": {
    "collapsed": false
   },
   "outputs": [],
   "source": [
    "from __future__ import division\n",
    "import os\n",
    "import sys\n",
    "import glob\n",
    "import matplotlib.pyplot as plt\n",
    "import numpy as np\n",
    "import pandas as pd\n",
    "%matplotlib inline\n",
    "%precision 4\n",
    "plt.style.use('ggplot')\n",
    "\n",
    "from IPython.core.display import Image\n",
    "import uuid \n",
    "\n",
    "import gc"
   ]
  },
  {
   "cell_type": "code",
   "execution_count": 79,
   "metadata": {
    "collapsed": false
   },
   "outputs": [],
   "source": [
    "#R call\n",
    "\n",
    "import rpy2.robjects as robjects\n",
    "from rpy2.robjects.packages import importr\n",
    "fastclime = importr('fastclime')\n",
    "grdevices = importr('grDevices')\n",
    "base = importr('base')\n",
    "stats = importr('stats')"
   ]
  },
  {
   "cell_type": "code",
   "execution_count": 81,
   "metadata": {
    "collapsed": false
   },
   "outputs": [],
   "source": [
    "#Call custom Python module\n",
    "import parametric as param"
   ]
  },
  {
   "cell_type": "code",
   "execution_count": 82,
   "metadata": {
    "collapsed": false
   },
   "outputs": [],
   "source": [
    "def is_Hermitian(m):\n",
    "    #Set missing to zero prior to checking symmetry\n",
    "    m[np.isnan(m)] = 0.\n",
    "\n",
    "    try:\n",
    "        return np.allclose(np.transpose(m,(1,0)), m)\n",
    "    except:\n",
    "        return False"
   ]
  },
  {
   "cell_type": "code",
   "execution_count": 83,
   "metadata": {
    "collapsed": false
   },
   "outputs": [],
   "source": [
    "def fastclime_main(x,lambda_min=0.1,nlambda=50):\n",
    "\n",
    "    cov_input = 1\n",
    "    SigmaInput = x.copy()\n",
    "    \n",
    "    #Check if matrix is symmetric\n",
    "    if not is_Hermitian(SigmaInput):\n",
    "        SigmaInput = np.corrcoef(SigmaInput.T)\n",
    "        cov_input = 0\n",
    "    \n",
    "    #Run parametric simplex linear solver\n",
    "    Sigmahat, mu, maxnlambda, iicov = param.mainfunc(SigmaInput,lambda_min,nlambda)\n",
    "      \n",
    "    #Process output\n",
    "    maxnlambda+=1\n",
    "    \n",
    "    #Reshape the array in Fortran order\n",
    "    #and then slice the array to extract only the top maxnlambda rows\n",
    "    lambdamtx = mu.T.reshape(nlambda, -1, order='F')[:maxnlambda,:]\n",
    "    mu = None\n",
    "    \n",
    "    #Take each row of iicov and convert it to a d x d matrix\n",
    "    d = Sigmahat.shape[1]\n",
    "    icovlist = np.empty((d, d, maxnlambda)) \n",
    "    \n",
    "    for i in range(maxnlambda):\n",
    "        icovlist[:,:,i] = iicov[:,i].reshape((d,d)).T\n",
    "    \n",
    "    gc.collect()\n",
    "    \n",
    "    return x, cov_input, Sigmahat, maxnlambda, lambdamtx, icovlist\n",
    "    "
   ]
  },
  {
   "cell_type": "code",
   "execution_count": 84,
   "metadata": {
    "collapsed": false
   },
   "outputs": [
    {
     "name": "stdout",
     "output_type": "stream",
     "text": [
      "Generating data from the multivariate normal distribution with the random graph structure....done.\n"
     ]
    }
   ],
   "source": [
    "# #Generate data\n",
    "\n",
    "L = fastclime.fastclime_generator(n = 100, d = 20)\n",
    "pydat = np.array(L.rx2('data'))"
   ]
  },
  {
   "cell_type": "code",
   "execution_count": 85,
   "metadata": {
    "collapsed": false
   },
   "outputs": [],
   "source": [
    "Pyout = fastclime_main(pydat,0.1)"
   ]
  },
  {
   "cell_type": "code",
   "execution_count": 91,
   "metadata": {
    "collapsed": false
   },
   "outputs": [
    {
     "data": {
      "text/plain": [
       "array([ 0.    ,  0.    ,  0.    ,  1.1377,  0.    ,  0.    ,  0.    ,\n",
       "        0.    ,  0.    ,  0.2847,  0.    ,  0.    ,  0.    ,  0.    ,\n",
       "        0.    ,  0.    ,  0.    ,  0.    ,  0.    ,  0.    ])"
      ]
     },
     "execution_count": 91,
     "metadata": {},
     "output_type": "execute_result"
    }
   ],
   "source": [
    "Pyout[5][:,:,3][:,3]"
   ]
  },
  {
   "cell_type": "code",
   "execution_count": 54,
   "metadata": {
    "collapsed": false
   },
   "outputs": [],
   "source": [
    "#Compare results to R"
   ]
  },
  {
   "cell_type": "code",
   "execution_count": 55,
   "metadata": {
    "collapsed": false
   },
   "outputs": [
    {
     "name": "stdout",
     "output_type": "stream",
     "text": [
      "Allocating memory \n",
      "start recovering \n",
      "preparing precision and path matrix list \n",
      "Done! \n"
     ]
    }
   ],
   "source": [
    "#%timeit -n1 -r1 fastclime.fastclime(L.rx2('data'),0.1)\n",
    "# Rout = fastclime.fastclime(L.rx2('data'),0.1)"
   ]
  },
  {
   "cell_type": "code",
   "execution_count": 58,
   "metadata": {
    "collapsed": false
   },
   "outputs": [
    {
     "name": "stdout",
     "output_type": "stream",
     "text": [
      "[ True]\n",
      "True\n",
      "True\n"
     ]
    }
   ],
   "source": [
    "# from random import randint\n",
    "# ranint = randint(0,Pyout[3]-1)\n",
    "# print np.isclose(Pyout[3],np.array(Rout.rx2('maxnlambda')))\n",
    "# print np.allclose(Pyout[4],np.array(Rout.rx2('lambdamtx')))\n",
    "# print np.allclose(Pyout[5][:,:,ranint],np.array(Rout.rx2('icovlist')[ranint]))"
   ]
  },
  {
   "cell_type": "code",
   "execution_count": null,
   "metadata": {
    "collapsed": true
   },
   "outputs": [],
   "source": [
    "def fastclime_lambda(lambdamtx,icovlist,lambda_val):\n",
    "    \n",
    "    #Define constants and initialize arrays\n",
    "    d = icovlist[:,:,0].shape[1]\n",
    "    maxnlambda = lambdamtx.shape[1]\n",
    "    icov = np.empty((d, d)) \n",
    "    path = np.empty((d, d))\n",
    "    seq = np.empty((1,d),dtype=int)\n",
    "    threshold = 1e-5\n",
    "    status = 0\n",
    "    \n",
    "    for i in range(d):\n",
    "        \n",
    "        seq[i] = sum(lambdamtx[:,i]>lambda_val)\n",
    "        \n",
    "        if seq[i]+1>maxnlambda:\n",
    "            status = 1\n",
    "            icov[:,1] = icovlist[seq[i]][:,i]\n",
    "        else:\n",
    "            icov[:,i] = icovlist[seq[i]+1][:,i]\n",
    "\n",
    "    icov = (icov+icov.T)/2.\n",
    "    tmpicov = icov\n",
    "    np.fill_diagonal(tmpicov,0.)\n",
    "    path = Matrix(tmpicov > threshold, sparse=TRUE)*1\n",
    "            \n",
    "    return \n",
    "\n",
    "fastclime.lambda <- function(lambdamtx, icovlist, lambda)\n",
    "{\n",
    "\n",
    "  gcinfo(FALSE)\n",
    "  d<-dim(icovlist[[1]])[2]\n",
    "  maxnlambda<-dim(lambdamtx)[1]\n",
    "  icov<-matrix(0,d,d)\n",
    "  path<-matrix(0,d,d)\n",
    "  seq<-rep(0,d)\n",
    "  threshold<-1e-5\n",
    "  status<-0\n",
    "  \n",
    "  for(i in 1:d)\n",
    "  {\n",
    "    \n",
    "      temp_lambda<-which(lambdamtx[,i]>lambda)\n",
    "      seq[i]<-length(temp_lambda)\n",
    "      \n",
    "      if((seq[i]+1)>maxnlambda)\n",
    "      {\n",
    "        status<-1\n",
    "        icov[,i]<-icovlist[[seq[i]]][,i]\n",
    "      }\n",
    "      else{\n",
    "        icov[,i]<-icovlist[[seq[i]+1]][,i]\n",
    "      }\n",
    "     \n",
    "  }\n",
    "  \n",
    "  icov<-(icov+t(icov))/2\n",
    "  tmpicov<-icov\n",
    "  diag(tmpicov)<-0\n",
    "  path<-Matrix(tmpicov>threshold, sparse=TRUE)*1\n",
    " \n",
    "  \n",
    "  sparsity<-(sum(path))/(d^2-d)\n",
    "  \n",
    "  if(status==1)\n",
    "  {\n",
    "    cat(\"Some columns do not reach the required lambda!\\n You may want to increase lambda.min or use a large nlambda. \\n\")\n",
    "  }\n",
    "  \n",
    "  rm(temp_lambda,seq,d,threshold)\n",
    "  gc()\n",
    "  \n",
    "  result<-list(\"icov\"=icov, \"path\"=path,\"sparsity\"=sparsity)\n",
    "  class(result)=\"fastclime.lambda\"\n",
    "  \n",
    "  return(result)\n",
    "\n",
    "\n",
    "}\n"
   ]
  },
  {
   "cell_type": "code",
   "execution_count": 93,
   "metadata": {
    "collapsed": false
   },
   "outputs": [
    {
     "data": {
      "text/plain": [
       "array([0, 4, 8])"
      ]
     },
     "execution_count": 93,
     "metadata": {},
     "output_type": "execute_result"
    }
   ],
   "source": [
    "x = np.arange(9).reshape((3,3))\n",
    "np.diag(x)"
   ]
  },
  {
   "cell_type": "code",
   "execution_count": null,
   "metadata": {
    "collapsed": true
   },
   "outputs": [],
   "source": []
  },
  {
   "cell_type": "code",
   "execution_count": null,
   "metadata": {
    "collapsed": true
   },
   "outputs": [],
   "source": [
    "fastclime.plot = function(G, epsflag = FALSE, graph.name = \"default\", cur.num = 1, location=NULL){\n",
    "\tgcinfo(FALSE)\n",
    "\tif(missing(location))\tlocation = getwd()\n",
    "\tsetwd(location)\n",
    "        diag(G)=0\n",
    "        Matrix(G,sparse=TRUE)\n",
    "\tg = graph.adjacency(as.matrix(G!=0), mode=\"undirected\", diag=FALSE)\n",
    "\tlayout.grid = layout.fruchterman.reingold(g)\n",
    "\t\n",
    "   \tif(epsflag == TRUE)\tpostscript(paste(paste(graph.name, cur.num, sep=\"\"), \"eps\", sep=\".\"), width = 8.0, height = 8.0)             \n",
    "\tpar(mfrow = c(1,1))\n",
    "\tplot(g, layout=layout.grid, edge.color='gray50',vertex.color=\"red\", vertex.size=2, vertex.label=NA)\n",
    "\trm(g,location)\t\n",
    "   \tgc()\n",
    "   \tif(epsflag == TRUE) dev.off()\n",
    "}\n",
    "\n",
    "#Adjacency(matrix, mode=ADJ_UNDIRECTED)\n",
    "#http://sociograph.blogspot.com/2012/11/visualizing-adjacency-matrices-in-python.html\n",
    "#https://networkx.github.io/documentation/latest/reference/generated/networkx.drawing.layout.spring_layout.html"
   ]
  },
  {
   "cell_type": "code",
   "execution_count": null,
   "metadata": {
    "collapsed": true
   },
   "outputs": [],
   "source": []
  },
  {
   "cell_type": "code",
   "execution_count": null,
   "metadata": {
    "collapsed": true
   },
   "outputs": [],
   "source": [
    "#http://igraph.org/python/doc/igraph.Graph-class.html#layout_fruchterman_reingold"
   ]
  },
  {
   "cell_type": "code",
   "execution_count": null,
   "metadata": {
    "collapsed": false
   },
   "outputs": [],
   "source": [
    "###Draw network graph\n",
    "\n",
    "\n",
    "#Use igraph\n",
    "#http://igraph.org/redirect.html#4\n",
    "\n",
    "\n",
    "# \"\"\"\n",
    "# Draw a graph with matplotlib.\n",
    "# You must have matplotlib for this to work.\n",
    "# \"\"\"\n",
    "# try:\n",
    "#     import matplotlib.pyplot as plt\n",
    "# except:\n",
    "#     raise\n",
    "\n",
    "# import networkx as nx\n",
    "\n",
    "# G=nx.path_graph(8)\n",
    "# nx.draw(G)\n",
    "# plt.savefig(\"simple_path.png\") # save as png\n",
    "# plt.show() # display"
   ]
  }
 ],
 "metadata": {
  "kernelspec": {
   "display_name": "Python 2",
   "language": "python",
   "name": "python2"
  },
  "language_info": {
   "codemirror_mode": {
    "name": "ipython",
    "version": 2
   },
   "file_extension": ".py",
   "mimetype": "text/x-python",
   "name": "python",
   "nbconvert_exporter": "python",
   "pygments_lexer": "ipython2",
   "version": "2.7.9"
  }
 },
 "nbformat": 4,
 "nbformat_minor": 0
}
