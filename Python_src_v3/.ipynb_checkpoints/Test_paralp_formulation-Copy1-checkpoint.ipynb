{
 "cells": [
  {
   "cell_type": "code",
   "execution_count": 1,
   "metadata": {
    "collapsed": true
   },
   "outputs": [],
   "source": [
    "from __future__ import division\n",
    "import os\n",
    "import sys\n",
    "import glob\n",
    "\n",
    "import numpy as np\n",
    "from IPython.core.display import Image\n",
    "import uuid \n",
    "\n",
    "import gc\n",
    "\n",
    "import paralp\n",
    "import parametric as param\n",
    "\n",
    "import rpy2.robjects as robjects\n",
    "from rpy2.robjects.packages import importr\n",
    "fastclime = importr('fastclime')\n",
    "grdevices = importr('grDevices')\n",
    "base = importr('base')\n",
    "stats = importr('stats')"
   ]
  },
  {
   "cell_type": "code",
   "execution_count": null,
   "metadata": {
    "collapsed": true
   },
   "outputs": [],
   "source": []
  },
  {
   "cell_type": "code",
   "execution_count": 49,
   "metadata": {
    "collapsed": false
   },
   "outputs": [],
   "source": [
    "# Simple test case\n",
    "# A=np.array([-1.,0.5,-1,-2,0,1]).reshape((3,2))\n",
    "# b=np.array([-1.,-2,1])\n",
    "# c=np.array([-2.,3])\n",
    "# b_bar=np.array([1.,1,1])\n",
    "# c_bar=np.array([1.,1])\n",
    "# paralp.mainfunc(c,A,b,c_bar,b_bar,0)[0]"
   ]
  },
  {
   "cell_type": "code",
   "execution_count": null,
   "metadata": {
    "collapsed": true
   },
   "outputs": [],
   "source": []
  },
  {
   "cell_type": "code",
   "execution_count": 2,
   "metadata": {
    "collapsed": false
   },
   "outputs": [
    {
     "name": "stdout",
     "output_type": "stream",
     "text": [
      "Generating data from the multivariate normal distribution with the random graph structure....done.\n"
     ]
    }
   ],
   "source": [
    "# #Generate data\n",
    "\n",
    "L = fastclime.fastclime_generator(n = 10, d = 5)\n",
    "pydat = np.array(L.rx2('data'))"
   ]
  },
  {
   "cell_type": "code",
   "execution_count": null,
   "metadata": {
    "collapsed": true
   },
   "outputs": [],
   "source": []
  },
  {
   "cell_type": "code",
   "execution_count": 51,
   "metadata": {
    "collapsed": false
   },
   "outputs": [],
   "source": []
  },
  {
   "cell_type": "code",
   "execution_count": 8,
   "metadata": {
    "collapsed": false
   },
   "outputs": [],
   "source": [
    "def is_Hermitian(m):\n",
    "    #Set missing to zero prior to checking symmetry\n",
    "    m[np.isnan(m)] = 0.\n",
    "\n",
    "    try:\n",
    "        return np.allclose(np.transpose(m,(1,0)), m)\n",
    "    except:\n",
    "        return False\n",
    "    \n",
    "def symmetrize(m,rule=\"min\"):\n",
    "    if (m.shape[0] != m.shape[1]):\n",
    "        raise ValueError(\"Input matrix must be square.\")\n",
    "        \n",
    "    if (rule == \"min\"):\n",
    "        min_mat =  np.fmin(np.triu(m),np.tril(m).T)\n",
    "        return np.triu(min_mat,1) + min_mat.T\n",
    "\n",
    "    if (rule == \"max\"):\n",
    "        max_mat =  np.fmax(np.triu(m),np.tril(m).T)\n",
    "        return np.triu(max_mat,1) + max_mat.T\n",
    "    \n",
    "    else:\n",
    "        raise ValueError(\"Specify rule as min or max\")\n",
    "\n",
    "\n",
    "def fastclime_main(x,lambda_min=0.1,nlambda=50):\n",
    "\n",
    "    cov_input = 1\n",
    "    SigmaInput = x.copy()\n",
    "    \n",
    "    #Check if matrix is symmetric\n",
    "    if not is_Hermitian(SigmaInput):\n",
    "        SigmaInput = np.corrcoef(SigmaInput.T)\n",
    "        cov_input = 0\n",
    "    \n",
    "    #Run parametric simplex linear solver\n",
    "    Sigmahat, mu, maxnlambda, iicov = param.mainfunc(SigmaInput,lambda_min,nlambda)\n",
    "      \n",
    "    maxnlambda+=1\n",
    "    \n",
    "    #Reshape the array in Fortran order\n",
    "    #and then slice the array to extract only the top maxnlambda rows\n",
    "    lambdamtx = mu.T.reshape(nlambda, -1, order='F')[:maxnlambda,:]\n",
    "    mu = None\n",
    "    \n",
    "    #Take each row of iicov and convert it to a d x d matrix\n",
    "    d = Sigmahat.shape[1]\n",
    "    icovlist = np.empty((d, d, maxnlambda)) \n",
    "    \n",
    "    for i in range(maxnlambda):\n",
    "#       #Symmetrize each iicov\n",
    "#         iicov0 = np.fmin(np.triu(iicov[:,i].reshape((d,d)).T),\n",
    "#                          np.tril(iicov[:,i].reshape((d,d)).T).T)\n",
    "#         iicov0 = np.triu(iicov0,1) + iicov0.T    \n",
    "        icovlist[:,:,i] = symmetrize(iicov[:,i].reshape((d,d)).T,\"min\")\n",
    "    \n",
    "    gc.collect()\n",
    "    \n",
    "    return x, cov_input, Sigmahat, maxnlambda, lambdamtx, icovlist\n",
    "    "
   ]
  },
  {
   "cell_type": "code",
   "execution_count": null,
   "metadata": {
    "collapsed": true
   },
   "outputs": [],
   "source": []
  },
  {
   "cell_type": "code",
   "execution_count": 5,
   "metadata": {
    "collapsed": true
   },
   "outputs": [],
   "source": [
    "#Introduce perturbations \n",
    "a = np.array(L.rx2('sigmahat'))\n",
    "A = np.vstack((np.hstack((a,-a)),np.hstack((-a,a))))\n",
    "A2 = A.copy(order='C')\n",
    "d = a.shape[1]\n",
    "c = -np.ones(2*d)\n",
    "cstar = np.zeros(2*d)\n",
    "bstar = np.ones(2*d)\n",
    "lambda_val = 0.1\n",
    "I = np.eye(d)"
   ]
  },
  {
   "cell_type": "code",
   "execution_count": 6,
   "metadata": {
    "collapsed": false
   },
   "outputs": [
    {
     "data": {
      "text/plain": [
       "array([[ 1.16809806,  0.        ,  0.24264869,  0.        ,  0.        ],\n",
       "       [ 0.        ,  1.97416001,  1.87262472,  0.26274365,  1.5951093 ],\n",
       "       [ 0.24264869,  1.87262472,  4.55205843,  1.72473805,  2.34518995],\n",
       "       [ 0.        ,  0.26274365,  1.72473805,  1.9427175 ,  1.82450975],\n",
       "       [ 0.        ,  1.5951093 ,  2.34518995,  1.82450975,  2.23194052]])"
      ]
     },
     "execution_count": 6,
     "metadata": {},
     "output_type": "execute_result"
    }
   ],
   "source": [
    "#Python solution\n",
    "Pyout = fastclime_main(a,lambda_val)\n",
    "Pycov = Pyout[5][:,:,Pyout[3]-1]\n",
    "Pycov"
   ]
  },
  {
   "cell_type": "code",
   "execution_count": 9,
   "metadata": {
    "collapsed": false
   },
   "outputs": [
    {
     "name": "stdout",
     "output_type": "stream",
     "text": [
      "optimal solution found! \n",
      "\n",
      "optimal solution found! \n",
      "\n",
      "optimal solution found! \n",
      "\n",
      "optimal solution found! \n",
      "\n",
      "optimal solution found! \n",
      "\n"
     ]
    },
    {
     "data": {
      "text/plain": [
       "array([[ 1.16809806,  0.        ,  0.24264869,  0.        ,  0.        ],\n",
       "       [ 0.        ,  1.97416001,  1.87262472,  0.        ,  0.86605101],\n",
       "       [ 0.24264869,  1.87262472,  4.55205843,  1.72473805,  2.33092676],\n",
       "       [ 0.        ,  0.        ,  1.72473805,  1.9427175 ,  0.95459613],\n",
       "       [ 0.        ,  0.86605101,  2.33092676,  0.95459613,  2.23194052]])"
      ]
     },
     "execution_count": 9,
     "metadata": {},
     "output_type": "execute_result"
    }
   ],
   "source": [
    "#R Solution\n",
    "Rcov = np.empty((d,d))\n",
    "for i in range(d):\n",
    "    b = np.hstack((I[:,i],-I[:,i]))\n",
    "    Rcov[i,:] = paralp.mainfunc(c,A2,b,cstar,bstar,lambda_val)[:d]\n",
    "\n",
    "#Symmetrize \n",
    "Rcov2 = np.fmin(np.triu(Rcov),np.tril(Rcov).T)\n",
    "solnR = np.triu(Rcov2,1) + Rcov2.T\n",
    "solnR"
   ]
  },
  {
   "cell_type": "code",
   "execution_count": null,
   "metadata": {
    "collapsed": true
   },
   "outputs": [],
   "source": []
  }
 ],
 "metadata": {
  "kernelspec": {
   "display_name": "Python 2",
   "language": "python",
   "name": "python2"
  },
  "language_info": {
   "codemirror_mode": {
    "name": "ipython",
    "version": 2
   },
   "file_extension": ".py",
   "mimetype": "text/x-python",
   "name": "python",
   "nbconvert_exporter": "python",
   "pygments_lexer": "ipython2",
   "version": "2.7.9"
  }
 },
 "nbformat": 4,
 "nbformat_minor": 0
}
