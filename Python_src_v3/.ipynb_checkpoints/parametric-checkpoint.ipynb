{
 "cells": [
  {
   "cell_type": "markdown",
   "metadata": {},
   "source": [
    "This code generates the C wrapper to run the parametric simplex method in Python using the source files in the fastclime R package."
   ]
  },
  {
   "cell_type": "code",
   "execution_count": 1,
   "metadata": {
    "collapsed": false
   },
   "outputs": [],
   "source": [
    "from __future__ import division\n",
    "import os\n",
    "import sys\n",
    "import glob"
   ]
  },
  {
   "cell_type": "code",
   "execution_count": 2,
   "metadata": {
    "collapsed": false
   },
   "outputs": [
    {
     "name": "stdout",
     "output_type": "stream",
     "text": [
      "Overwriting parametric.h\n"
     ]
    }
   ],
   "source": [
    "%%file parametric.h\n",
    "\n",
    "int ratio_test(double *dy, int *idy,int ndy, double *y, double mu);\n",
    "void parametric(double *SigmaInput, int *m1, double *mu_input, double *lambdamin, int *nlambda, int *maxnlambda, double *iicov);\n",
    "void solver2(int m,int n,int nz,int *ia, int *ka, double *a,double *b, double *c);"
   ]
  },
  {
   "cell_type": "code",
   "execution_count": 3,
   "metadata": {
    "collapsed": false
   },
   "outputs": [
    {
     "name": "stdout",
     "output_type": "stream",
     "text": [
      "Overwriting _parametric.pyx\n"
     ]
    }
   ],
   "source": [
    "%%file _parametric.pyx\n",
    "\n",
    "import numpy as np\n",
    "cimport numpy as np\n",
    "\n",
    "np.import_array()\n",
    "\n",
    "# cdefine the signature of the c function\n",
    "cdef extern from \"parametric.h\":\n",
    "    void parametric(double *SigmaInput, int *m1, double *mu_input, \n",
    "                    double *lambdamin, int *nlambda, int *maxnlambda, double *iicov);\n",
    "    \n",
    "def mainfunc(np.ndarray[double, ndim=2, mode=\"c\"] SigmaInput not None, \n",
    "             double lambdamin, \n",
    "             int nlambda):   \n",
    "\n",
    "    #Dimensions    \n",
    "    cdef int m1 = SigmaInput.shape[1]\n",
    " \n",
    "    #Define output\n",
    "    cdef int maxnlambda = 0\n",
    "    cdef np.ndarray mu_input = np.zeros((m1,nlambda), dtype = np.float64, order='C')\n",
    "    cdef np.ndarray iicov = np.zeros((m1*m1,nlambda), dtype = np.float64, order='C')\n",
    "\n",
    "    #Call external C function\n",
    "    parametric(<double*> np.PyArray_DATA(SigmaInput),\n",
    "               &m1,\n",
    "               <double*> np.PyArray_DATA(mu_input),\n",
    "               <double*> &lambdamin,\n",
    "               &nlambda,\n",
    "               &maxnlambda,\n",
    "               <double*> np.PyArray_DATA(iicov)\n",
    "              )\n",
    "    \n",
    "    return (SigmaInput,mu_input,maxnlambda,iicov)\n"
   ]
  },
  {
   "cell_type": "code",
   "execution_count": 4,
   "metadata": {
    "collapsed": false
   },
   "outputs": [
    {
     "name": "stdout",
     "output_type": "stream",
     "text": [
      "Overwriting setup.py\n"
     ]
    }
   ],
   "source": [
    "%%file setup.py\n",
    "\n",
    "from distutils.core import setup, Extension\n",
    "import numpy as np\n",
    "import numpy.distutils.misc_util\n",
    "from Cython.Distutils import build_ext\n",
    "\n",
    "setup(\n",
    "    name = 'parametric',\n",
    "    version = '1.0',\n",
    "    description = 'C wrapper for parametric function created by Haotian Pang et. al',\n",
    "    author = 'John Pura',\n",
    "    author_email = 'john.pura@duke.edu',\n",
    "    cmdclass={'build_ext': build_ext},\n",
    "    ext_modules=[Extension(\"parametric\",\n",
    "                           sources=[\"_parametric.pyx\", \"parametric.c\",\n",
    "                                    \"lu.c\",\"tree.c\",\"linalg.c\",\n",
    "                                    \"heap.c\"],\n",
    "                 include_dirs=[np.get_include(), ])]\n",
    ")\n"
   ]
  },
  {
   "cell_type": "code",
   "execution_count": 5,
   "metadata": {
    "collapsed": false
   },
   "outputs": [
    {
     "name": "stdout",
     "output_type": "stream",
     "text": [
      "\u001b[39mrunning build_ext\u001b[0m\n",
      "\u001b[39mcythoning _parametric.pyx to _parametric.c\u001b[0m\n",
      "\u001b[39mbuilding 'parametric' extension\u001b[0m\n",
      "\u001b[39mC compiler: gcc -pthread -fno-strict-aliasing -g -O2 -DNDEBUG -g -fwrapv -O3 -Wall -Wstrict-prototypes -fPIC\n",
      "\u001b[0m\n",
      "\u001b[39mcompile options: '-I/home/bitnami/anaconda/lib/python2.7/site-packages/numpy/core/include -I/home/bitnami/anaconda/include/python2.7 -c'\u001b[0m\n",
      "\u001b[39mgcc: parametric.c\u001b[0m\n",
      "\u001b[39mgcc: heap.c\u001b[0m\n",
      "\u001b[39mgcc: linalg.c\u001b[0m\n",
      "\u001b[39mgcc: tree.c\u001b[0m\n",
      "\u001b[39mgcc: lu.c\u001b[0m\n",
      "\u001b[39mgcc: _parametric.c\u001b[0m\n",
      "In file included from /home/bitnami/anaconda/lib/python2.7/site-packages/numpy/core/include/numpy/ndarraytypes.h:1804:0,\n",
      "                 from /home/bitnami/anaconda/lib/python2.7/site-packages/numpy/core/include/numpy/ndarrayobject.h:17,\n",
      "                 from /home/bitnami/anaconda/lib/python2.7/site-packages/numpy/core/include/numpy/arrayobject.h:4,\n",
      "                 from _parametric.c:232:\n",
      "/home/bitnami/anaconda/lib/python2.7/site-packages/numpy/core/include/numpy/npy_1_7_deprecated_api.h:15:2: warning: #warning \"Using deprecated NumPy API, disable it by \" \"#defining NPY_NO_DEPRECATED_API NPY_1_7_API_VERSION\" [-Wcpp]\n",
      " #warning \"Using deprecated NumPy API, disable it by \" \\\n",
      "  ^\n",
      "In file included from /home/bitnami/anaconda/lib/python2.7/site-packages/numpy/core/include/numpy/ufuncobject.h:317:0,\n",
      "                 from _parametric.c:233:\n",
      "/home/bitnami/anaconda/lib/python2.7/site-packages/numpy/core/include/numpy/__ufunc_api.h:241:1: warning: ‘_import_umath’ defined but not used [-Wunused-function]\n",
      " _import_umath(void)\n",
      " ^\n",
      "\u001b[39mgcc -pthread -shared build/temp.linux-x86_64-2.7/_parametric.o build/temp.linux-x86_64-2.7/parametric.o build/temp.linux-x86_64-2.7/lu.o build/temp.linux-x86_64-2.7/tree.o build/temp.linux-x86_64-2.7/linalg.o build/temp.linux-x86_64-2.7/heap.o -L/home/bitnami/anaconda/lib -lpython2.7 -o /home/bitnami/STA663-pura-project/Python_src_v2/parametric.so\u001b[0m\n"
     ]
    }
   ],
   "source": [
    "!python setup.py build_ext --inplace"
   ]
  }
 ],
 "metadata": {
  "kernelspec": {
   "display_name": "Python 2",
   "language": "python",
   "name": "python2"
  },
  "language_info": {
   "codemirror_mode": {
    "name": "ipython",
    "version": 2
   },
   "file_extension": ".py",
   "mimetype": "text/x-python",
   "name": "python",
   "nbconvert_exporter": "python",
   "pygments_lexer": "ipython2",
   "version": "2.7.9"
  }
 },
 "nbformat": 4,
 "nbformat_minor": 0
}
