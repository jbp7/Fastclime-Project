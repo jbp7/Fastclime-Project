{
 "cells": [
  {
   "cell_type": "code",
   "execution_count": 1,
   "metadata": {
    "collapsed": false
   },
   "outputs": [],
   "source": [
    "from __future__ import division\n",
    "import os\n",
    "import sys\n",
    "import glob\n",
    "import matplotlib.pyplot as plt\n",
    "import numpy as np\n",
    "import pandas as pd\n",
    "%matplotlib inline\n",
    "%precision 4\n",
    "plt.style.use('ggplot')\n",
    "\n",
    "from IPython.core.display import Image\n",
    "import uuid \n",
    "\n",
    "import gc"
   ]
  },
  {
   "cell_type": "code",
   "execution_count": 3,
   "metadata": {
    "collapsed": false
   },
   "outputs": [],
   "source": [
    "#Call custom Python module\n",
    "import parametric as param"
   ]
  },
  {
   "cell_type": "code",
   "execution_count": 4,
   "metadata": {
    "collapsed": false
   },
   "outputs": [],
   "source": [
    "def is_Hermitian(m):\n",
    "    #Set missing to zero prior to checking symmetry\n",
    "    m[np.isnan(m)] = 0.\n",
    "\n",
    "    try:\n",
    "        return np.allclose(np.transpose(m,(1,0)), m)\n",
    "    except:\n",
    "        return False"
   ]
  },
  {
   "cell_type": "code",
   "execution_count": 1,
   "metadata": {
    "collapsed": false
   },
   "outputs": [],
   "source": [
    "#-------------------------------------------------------------------------------_#\n",
    "# fastclime_py: Main Function                                                    #\n",
    "# This Python function has the same functionality as the fastclime function      #\n",
    "# in the R package, fastclime                                                    # \n",
    "# Primary Authors (R, fastclime): Haotian Pang, Han Liu and Robert Vanderbei     #\n",
    "# Emails: <hpang@princeton.edu>, <hanliu@princeton.edu> and <rvdb@princetonedu>  #\n",
    "# Adapted for Python by: John Pura                                               #\n",
    "# Email: <john.pura@duke.edu>                                                    #\n",
    "#                                                                                #\n",
    "# Input:\n",
    "#   x          = \n",
    "#   lambda_min = \n",
    "#   nlambda    = maximum length of the regularization path to be considered \n",
    "#                (default = 50)\n",
    "#                                                                                #\n",
    "# Output:                                                                        #\n",
    "#   cov_input  = scalar                                                          #\n",
    "#   maxnlambda = scalar representing the length of estimated regularization path # \n",
    "#   lambdamtx  = (maxnlambda x d) matrix of column-specific tuning parameters    #\n",
    "#                for the regularization path                                     #\n",
    "#                                                                                #\n",
    "#                                                                                #\n",
    "#                                                                                #\n",
    "#                                                                                #\n",
    "#                                                                                #\n",
    "#--------------------------------------------------------------------------------#\n",
    "\n",
    "def fastclime_py(x,lambda_min=0.1,nlambda=50):\n",
    "\n",
    "    cov_input = 1\n",
    "    SigmaInput = x.copy()\n",
    "    \n",
    "    #Check if matrix is symmetric\n",
    "    if not is_Hermitian(SigmaInput):\n",
    "        SigmaInput = np.corrcoef(SigmaInput.T)\n",
    "        cov_input = 0\n",
    "    \n",
    "    #Run parametric simplex linear solver\n",
    "    Sigmahat, mu, maxnlambda, iicov = param.mainfunc(SigmaInput,lambda_min,nlambda)\n",
    "      \n",
    "    #Process output\n",
    "    maxnlambda+=1\n",
    "    \n",
    "    #Reshape the array in Fortran order\n",
    "    #and then slice the array to extract only the top maxnlambda rows\n",
    "    lambdamtx = mu.T.reshape(nlambda, -1, order='F')[:maxnlambda,:]\n",
    "    mu = None\n",
    "    \n",
    "    #Take each row of iicov and convert it to a d x d matrix\n",
    "    d = Sigmahat.shape[1]\n",
    "    icovlist = np.empty((d, d, maxnlambda)) \n",
    "    \n",
    "    for i in range(maxnlambda):\n",
    "        icovlist[:,:,i] = iicov[:,i].reshape((d,d)).T\n",
    "    \n",
    "    gc.collect()\n",
    "    \n",
    "    return x, cov_input, Sigmahat, maxnlambda, lambdamtx, icovlist\n",
    "    "
   ]
  }
 ],
 "metadata": {
  "kernelspec": {
   "display_name": "Python 2",
   "language": "python",
   "name": "python2"
  },
  "language_info": {
   "codemirror_mode": {
    "name": "ipython",
    "version": 2
   },
   "file_extension": ".py",
   "mimetype": "text/x-python",
   "name": "python",
   "nbconvert_exporter": "python",
   "pygments_lexer": "ipython2",
   "version": "2.7.9"
  }
 },
 "nbformat": 4,
 "nbformat_minor": 0
}
