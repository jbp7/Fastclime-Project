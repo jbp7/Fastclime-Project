{
 "cells": [
  {
   "cell_type": "code",
   "execution_count": 7,
   "metadata": {
    "collapsed": true
   },
   "outputs": [],
   "source": [
    "from __future__ import division\n",
    "import os\n",
    "import sys\n",
    "import glob\n",
    "\n",
    "import numpy as np\n",
    "from IPython.core.display import Image\n",
    "import uuid \n",
    "\n",
    "import gc\n",
    "\n",
    "import paralp\n",
    "import parametric as param\n",
    "\n",
    "import rpy2.robjects as robjects\n",
    "from rpy2.robjects.packages import importr\n",
    "fastclime = importr('fastclime')\n",
    "grdevices = importr('grDevices')\n",
    "base = importr('base')\n",
    "stats = importr('stats')"
   ]
  },
  {
   "cell_type": "code",
   "execution_count": null,
   "metadata": {
    "collapsed": true
   },
   "outputs": [],
   "source": []
  },
  {
   "cell_type": "code",
   "execution_count": null,
   "metadata": {
    "collapsed": true
   },
   "outputs": [],
   "source": []
  },
  {
   "cell_type": "code",
   "execution_count": 8,
   "metadata": {
    "collapsed": false
   },
   "outputs": [
    {
     "name": "stdout",
     "output_type": "stream",
     "text": [
      "Generating data from the multivariate normal distribution with the random graph structure....done.\n"
     ]
    }
   ],
   "source": [
    "# #Generate data\n",
    "\n",
    "L = fastclime.fastclime_generator(n = 10, d = 5)\n",
    "pydat = np.array(L.rx2('data'))"
   ]
  },
  {
   "cell_type": "code",
   "execution_count": null,
   "metadata": {
    "collapsed": true
   },
   "outputs": [],
   "source": []
  },
  {
   "cell_type": "code",
   "execution_count": null,
   "metadata": {
    "collapsed": false
   },
   "outputs": [],
   "source": []
  },
  {
   "cell_type": "code",
   "execution_count": 9,
   "metadata": {
    "collapsed": false
   },
   "outputs": [],
   "source": [
    "def is_Hermitian(m):\n",
    "    #Set missing to zero prior to checking symmetry\n",
    "    m[np.isnan(m)] = 0.\n",
    "\n",
    "    try:\n",
    "        return np.allclose(np.transpose(m,(1,0)), m)\n",
    "    except:\n",
    "        return False\n",
    "    \n",
    "def symmetrize(m,rule=\"min\"):\n",
    "    if (m.shape[0] != m.shape[1]):\n",
    "        raise ValueError(\"Input matrix must be square.\")\n",
    "        \n",
    "    if (rule == \"min\"):\n",
    "        min_mat =  np.fmin(np.triu(m),np.tril(m).T)\n",
    "        return np.triu(min_mat,1) + min_mat.T\n",
    "\n",
    "    elif (rule == \"max\"):\n",
    "        max_mat =  np.fmax(np.triu(m),np.tril(m).T)\n",
    "        return np.triu(max_mat,1) + max_mat.T\n",
    "    \n",
    "    else:\n",
    "        raise ValueError(\"Specify rule as min or max.\")\n",
    "\n",
    "\n",
    "def fastclime_main(x,lambda_min=0.1,nlambda=50):\n",
    "\n",
    "    cov_input = 1\n",
    "    SigmaInput = x.copy()\n",
    "    \n",
    "    #Check if matrix is symmetric\n",
    "    if not is_Hermitian(SigmaInput):\n",
    "        SigmaInput = np.corrcoef(SigmaInput.T)\n",
    "        cov_input = 0\n",
    "    \n",
    "    #Run parametric simplex linear solver\n",
    "    Sigmahat, mu, maxnlambda, iicov = param.mainfunc(SigmaInput,lambda_min,nlambda)\n",
    "      \n",
    "    maxnlambda+=1\n",
    "    \n",
    "    #Reshape the array in Fortran order\n",
    "    #and then slice the array to extract only the top maxnlambda rows\n",
    "    lambdamtx = mu.T.reshape(nlambda, -1, order='F')[:maxnlambda,:]\n",
    "    mu = None\n",
    "    \n",
    "    #Take each row of iicov and convert it to a d x d matrix\n",
    "    d = Sigmahat.shape[1]\n",
    "    icovlist = np.empty((d, d, maxnlambda)) \n",
    "    \n",
    "    #Symmetrize output precision matrices \n",
    "    for i in range(maxnlambda):\n",
    "        icovlist[:,:,i] = symmetrize(iicov[:,i].reshape((d,d)).T,\"min\")\n",
    "        #icovlist[:,:,i] = iicov[:,i].reshape((d,d)).T  #No symmetry \n",
    "    \n",
    "    gc.collect()\n",
    "    \n",
    "    return x, cov_input, Sigmahat, maxnlambda, lambdamtx, icovlist\n",
    "    "
   ]
  },
  {
   "cell_type": "code",
   "execution_count": null,
   "metadata": {
    "collapsed": true
   },
   "outputs": [],
   "source": []
  },
  {
   "cell_type": "code",
   "execution_count": 10,
   "metadata": {
    "collapsed": true
   },
   "outputs": [],
   "source": [
    "#Introduce perturbations \n",
    "a = np.array(L.rx2('sigmahat'))\n",
    "A = np.vstack((np.hstack((a,-a)),np.hstack((-a,a))))\n",
    "A2 = A.copy(order='C')\n",
    "d = a.shape[1]\n",
    "c = -np.ones(2*d)\n",
    "cstar = np.zeros(2*d)\n",
    "bstar = np.ones(2*d)\n",
    "lambda_val = 0.1\n",
    "I = np.eye(d)"
   ]
  },
  {
   "cell_type": "code",
   "execution_count": 11,
   "metadata": {
    "collapsed": false
   },
   "outputs": [
    {
     "data": {
      "text/plain": [
       "array([[ 1.91773674,  0.84532538,  1.10682923,  0.        ,  0.        ],\n",
       "       [ 0.84532538,  1.51740323,  0.56558049,  0.2776592 ,  0.        ],\n",
       "       [ 1.10682923,  0.56558049,  2.22449127,  0.        ,  0.        ],\n",
       "       [ 0.        ,  0.2776592 ,  0.        ,  2.73780451,  2.07101099],\n",
       "       [ 0.        ,  0.        ,  0.        ,  2.07101099,  2.76570734]])"
      ]
     },
     "execution_count": 11,
     "metadata": {},
     "output_type": "execute_result"
    }
   ],
   "source": [
    "#fastclime Python solution\n",
    "Pyout = fastclime_main(a,lambda_val)\n",
    "Pycov = Pyout[5][:,:,Pyout[3]-1]\n",
    "Pycov"
   ]
  },
  {
   "cell_type": "code",
   "execution_count": 12,
   "metadata": {
    "collapsed": false
   },
   "outputs": [
    {
     "data": {
      "text/plain": [
       "array([[ 1.91773674,  0.81013729,  1.10682923,  0.        ,  0.        ],\n",
       "       [ 0.81013729,  1.51740323,  0.56558049,  0.2776592 ,  0.        ],\n",
       "       [ 1.10682923,  0.56558049,  2.22449127,  0.        ,  0.        ],\n",
       "       [ 0.        ,  0.2776592 ,  0.        ,  2.73780451,  2.07101099],\n",
       "       [ 0.        ,  0.        ,  0.        ,  2.07101099,  2.76570734]])"
      ]
     },
     "execution_count": 12,
     "metadata": {},
     "output_type": "execute_result"
    }
   ],
   "source": [
    "#paralp Solution\n",
    "pcov = np.empty((d,d))\n",
    "for i in range(d):\n",
    "    b = np.hstack((I[:,i],-I[:,i]))\n",
    "    pcov[i,:] = paralp.mainfunc(c,A2,b,cstar,bstar,lambda_val)[:d]\n",
    "\n",
    "#Symmetrize \n",
    "solnp = symmetrize(pcov)\n",
    "solnp"
   ]
  }
 ],
 "metadata": {
  "kernelspec": {
   "display_name": "Python 2",
   "language": "python",
   "name": "python2"
  },
  "language_info": {
   "codemirror_mode": {
    "name": "ipython",
    "version": 2
   },
   "file_extension": ".py",
   "mimetype": "text/x-python",
   "name": "python",
   "nbconvert_exporter": "python",
   "pygments_lexer": "ipython2",
   "version": "2.7.9"
  }
 },
 "nbformat": 4,
 "nbformat_minor": 0
}
