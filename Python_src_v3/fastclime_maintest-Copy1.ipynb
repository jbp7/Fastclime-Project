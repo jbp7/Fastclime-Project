{
 "cells": [
  {
   "cell_type": "code",
   "execution_count": 182,
   "metadata": {
    "collapsed": false
   },
   "outputs": [],
   "source": [
    "from __future__ import division\n",
    "import os\n",
    "import sys\n",
    "import glob\n",
    "\n",
    "import numpy as np\n",
    "from IPython.core.display import Image\n",
    "import uuid \n",
    "\n",
    "import gc"
   ]
  },
  {
   "cell_type": "code",
   "execution_count": 183,
   "metadata": {
    "collapsed": false
   },
   "outputs": [],
   "source": [
    "#R call\n",
    "\n",
    "import rpy2.robjects as robjects\n",
    "from rpy2.robjects.packages import importr\n",
    "fastclime = importr('fastclime')\n",
    "grdevices = importr('grDevices')\n",
    "clime = importr('clime')\n",
    "flare = importr('flare')\n",
    "base = importr('base')\n",
    "stats = importr('stats')"
   ]
  },
  {
   "cell_type": "code",
   "execution_count": 184,
   "metadata": {
    "collapsed": false
   },
   "outputs": [],
   "source": [
    "#Call custom Python module\n",
    "import parametric as param\n",
    "import fastclime as fc"
   ]
  },
  {
   "cell_type": "code",
   "execution_count": null,
   "metadata": {
    "collapsed": true
   },
   "outputs": [],
   "source": []
  },
  {
   "cell_type": "code",
   "execution_count": null,
   "metadata": {
    "collapsed": true
   },
   "outputs": [],
   "source": []
  },
  {
   "cell_type": "code",
   "execution_count": 185,
   "metadata": {
    "collapsed": false
   },
   "outputs": [
    {
     "name": "stdout",
     "output_type": "stream",
     "text": [
      "Generating data from the multivariate normal distribution with the random graph structure....done.\n"
     ]
    }
   ],
   "source": [
    "# #Generate data\n",
    "\n",
    "L = fastclime.fastclime_generator(n = 100, d = 150)\n",
    "pydat = np.array(L.rx2('data'))\n",
    "Omega = np.array(L.rx2('omega'))"
   ]
  },
  {
   "cell_type": "code",
   "execution_count": 199,
   "metadata": {
    "collapsed": false
   },
   "outputs": [],
   "source": [
    "Pyout = fc.fastclime_main(pydat,0.1,nlambda=50)"
   ]
  },
  {
   "cell_type": "code",
   "execution_count": 187,
   "metadata": {
    "collapsed": false
   },
   "outputs": [],
   "source": [
    "#Compare results to R"
   ]
  },
  {
   "cell_type": "code",
   "execution_count": 200,
   "metadata": {
    "collapsed": false
   },
   "outputs": [
    {
     "name": "stdout",
     "output_type": "stream",
     "text": [
      "Allocating memory \n",
      "start recovering \n",
      "preparing precision and path matrix list \n",
      "Done! \n"
     ]
    }
   ],
   "source": [
    "#%timeit -n1 -r1 fastclime.fastclime(L.rx2('data'),0.1)\n",
    "Rout = fastclime.fastclime(L.rx2('data'),0.1,50)"
   ]
  },
  {
   "cell_type": "code",
   "execution_count": 189,
   "metadata": {
    "collapsed": false
   },
   "outputs": [
    {
     "data": {
      "text/plain": [
       "array([ 100.])"
      ]
     },
     "execution_count": 189,
     "metadata": {},
     "output_type": "execute_result"
    }
   ],
   "source": [
    "np.array(Rout.rx2('maxnlambda'))"
   ]
  },
  {
   "cell_type": "code",
   "execution_count": 161,
   "metadata": {
    "collapsed": false
   },
   "outputs": [
    {
     "data": {
      "text/plain": [
       "200"
      ]
     },
     "execution_count": 161,
     "metadata": {},
     "output_type": "execute_result"
    }
   ],
   "source": [
    "Pyout[3]"
   ]
  },
  {
   "cell_type": "code",
   "execution_count": 65,
   "metadata": {
    "collapsed": false
   },
   "outputs": [
    {
     "data": {
      "text/plain": [
       "array([[  1.00000000e+00,   1.00000000e+00,   1.00000000e+00,\n",
       "          1.00000000e+00,   1.00000000e+00],\n",
       "       [  1.37346816e-01,   3.82002965e-01,   4.44846240e-01,\n",
       "          4.44846240e-01,   3.83732043e-01],\n",
       "       [  1.04975243e-01,   2.49846544e-01,   4.10018793e-01,\n",
       "          4.01986785e-01,   3.83382483e-01],\n",
       "       [  9.77042730e-02,   1.37560081e-01,   2.77712619e-01,\n",
       "          3.66989381e-01,   3.82356661e-01],\n",
       "       [  9.40946160e-02,   1.26828579e-01,   2.37862806e-01,\n",
       "          2.66090324e-01,   3.59123643e-01],\n",
       "       [  8.77429666e-02,   6.31633884e-02,   2.26270240e-01,\n",
       "          2.55940677e-01,   2.24836272e-01],\n",
       "       [  8.23124890e-02,   2.87328733e-02,   1.21411850e-01,\n",
       "          1.59452972e-01,   1.57473429e-01],\n",
       "       [  7.65731711e-02,  -0.00000000e+00,   8.69466318e-02,\n",
       "         -0.00000000e+00,   8.51403070e-02],\n",
       "       [ -0.00000000e+00,   0.00000000e+00,   5.05213197e-02,\n",
       "          0.00000000e+00,  -0.00000000e+00],\n",
       "       [  0.00000000e+00,   0.00000000e+00,   5.55111512e-17,\n",
       "          0.00000000e+00,   0.00000000e+00]])"
      ]
     },
     "execution_count": 65,
     "metadata": {},
     "output_type": "execute_result"
    }
   ],
   "source": [
    "np.array(Rout.rx2('lambdamtx'))"
   ]
  },
  {
   "cell_type": "code",
   "execution_count": 201,
   "metadata": {
    "collapsed": false
   },
   "outputs": [
    {
     "name": "stdout",
     "output_type": "stream",
     "text": [
      "[ True]\n",
      "True\n",
      "True\n"
     ]
    }
   ],
   "source": [
    "from random import randint\n",
    "ranint = randint(0,Pyout[3]-1)\n",
    "print np.isclose(Pyout[3],np.array(Rout.rx2('maxnlambda')))\n",
    "print np.allclose(Pyout[4],np.array(Rout.rx2('lambdamtx')))\n",
    "print np.allclose(Pyout[5][:,:,ranint],np.array(Rout.rx2('icovlist')[ranint]))"
   ]
  },
  {
   "cell_type": "code",
   "execution_count": 27,
   "metadata": {
    "collapsed": false
   },
   "outputs": [
    {
     "data": {
      "text/plain": [
       "array([[ 4.94800975,  5.7291088 ,  0.        ,  0.33064568,  4.73406799],\n",
       "       [ 5.7291088 ,  3.04422123,  0.        ,  0.        ,  6.74155949],\n",
       "       [ 0.        ,  0.        ,  1.16212618,  0.15508864,  0.48491915],\n",
       "       [ 1.34141715,  0.6120428 ,  0.15776089,  1.13851342,  0.4354434 ],\n",
       "       [ 4.68056907,  3.40719821,  0.3716159 ,  0.        ,  5.97190852]])"
      ]
     },
     "execution_count": 27,
     "metadata": {},
     "output_type": "execute_result"
    }
   ],
   "source": [
    "np.array(Rout.rx2('icovlist')[ranint])"
   ]
  },
  {
   "cell_type": "code",
   "execution_count": 28,
   "metadata": {
    "collapsed": false
   },
   "outputs": [
    {
     "data": {
      "text/plain": [
       "array([[ 4.94800975,  5.7291088 ,  0.        ,  0.69025336,  4.73406799],\n",
       "       [ 5.7291088 ,  3.04422123,  0.        ,  0.31466571,  6.74155949],\n",
       "       [ 0.        ,  0.        ,  1.16329568,  0.17715576,  0.48491915],\n",
       "       [ 1.34141715,  0.6120428 ,  0.16348467,  1.17413084,  0.4354434 ],\n",
       "       [ 4.68056907,  3.40719821,  0.3358607 ,  0.87088679,  5.97190852]])"
      ]
     },
     "execution_count": 28,
     "metadata": {},
     "output_type": "execute_result"
    }
   ],
   "source": [
    "Pyout[5][:,:,ranint]"
   ]
  },
  {
   "cell_type": "code",
   "execution_count": 208,
   "metadata": {
    "collapsed": false
   },
   "outputs": [],
   "source": [
    "## Compute best lambda by BIC\n",
    "\n",
    "def loglik(Sigma,Omega):\n",
    "    \"\"\"\n",
    "    Computes the log likelihood given precision matrix\n",
    "    estimates\n",
    "\n",
    "    Parameters:\n",
    "    -----------------------------------------\n",
    "    Sigma:  empirical covariance matrix\n",
    "\n",
    "    Omega:  precision matrix (estimate or ground truth)\n",
    "\n",
    "    Returns:\n",
    "    -----------------------------------------\n",
    "    log likelihood value\n",
    "    \"\"\"\n",
    "    import warnings\n",
    "    import numpy as np\n",
    "    \n",
    "    #Check if precision matrix estimate is positive definite\n",
    "    if (np.linalg.det(Omega) <= 0.0):\n",
    "        warnings.warn(\"Precision matrix estimate is not positive definite.\")\n",
    "    \n",
    "    loglik = np.log(np.linalg.det(Omega)) - np.trace(Sigma.dot(Omega))\n",
    "    \n",
    "    if np.isfinite(loglik):\n",
    "        return loglik\n",
    "    else:\n",
    "        return float('Inf')\n",
    "    \n",
    "def fastclime_select(x,lambdamtx,icovlist,\n",
    "                       metric=\"BIC\"):#, stars_subsample_ratio=None,stars_thresh=0.1,rep_num=20):\n",
    "    \"\"\"\n",
    "    Computes optimal regularization tuning parameter, \n",
    "    lambda using AIC or BIC metric\n",
    "\n",
    "    Parameters:\n",
    "    ------------------------------------------------------\n",
    "    n        : Sample size\n",
    "    \n",
    "    x        : data matrix\n",
    "    \n",
    "    icovlist : solution path containing list of \n",
    "               estimated precision matrices from fastclime\n",
    "\n",
    "    Returns  : \n",
    "    ------------------------------------------------------\n",
    "    optimal lambda parameter and corresponding precision\n",
    "    matrix\n",
    "    \"\"\"\n",
    "    import numpy as np\n",
    "    \n",
    "    SigmaInput = np.corrcoef(x.T)\n",
    "        \n",
    "    #Dimensions\n",
    "    p = SigmaInput.shape[1]\n",
    "    nl = icovlist.shape[2]\n",
    "        \n",
    "    #For every icov in Omegalist, compute AIC/BIC\n",
    "    if (metric==\"AIC\"):\n",
    "        AIC = np.empty((nl,),dtype=float)\n",
    "\n",
    "        for i in range(nl):\n",
    "            AIC[i]=-2.0*loglik(SigmaInput,icovlist[:,:,i]) + p*2.0\n",
    "        \n",
    "        opt_index = np.where(AIC[2:]==min(AIC[2:][np.where(AIC[2:]!=-np.inf)]))[0]+2\n",
    "        opt_lambda = np.max(lambdamtx[opt_index,:])\n",
    "\n",
    "    if (metric==\"BIC\"):\n",
    "        BIC = np.empty((nl,),dtype=float)\n",
    "\n",
    "        for i in range(nl):\n",
    "            BIC[i]=-2.0*loglik(SigmaInput,icovlist[:,:,i]) + p*np.log(n)\n",
    "        \n",
    "        opt_index = np.where(BIC[2:]==min(BIC[2:][np.where(BIC[2:]!=-np.inf)]))[0]+2\n",
    "        opt_lambda = np.max(lambdamtx[opt_index,:])\n",
    "    \n",
    "    #opt_icov = fc.fastclime_lambda(lambdamtx,icovlist,opt_lambda)\n",
    "        \n",
    "    return opt_lambda#, opt_icov"
   ]
  },
  {
   "cell_type": "code",
   "execution_count": 227,
   "metadata": {
    "collapsed": false
   },
   "outputs": [
    {
     "name": "stderr",
     "output_type": "stream",
     "text": [
      "/home/bitnami/anaconda/lib/python2.7/site-packages/IPython/kernel/__main__.py:23: UserWarning: Precision matrix estimate is not positive definite.\n",
      "/home/bitnami/anaconda/lib/python2.7/site-packages/IPython/kernel/__main__.py:25: RuntimeWarning: divide by zero encountered in log\n",
      "/home/bitnami/anaconda/lib/python2.7/site-packages/IPython/kernel/__main__.py:25: RuntimeWarning: invalid value encountered in log\n"
     ]
    },
    {
     "data": {
      "text/plain": [
       "0.18271495838197577"
      ]
     },
     "execution_count": 227,
     "metadata": {},
     "output_type": "execute_result"
    }
   ],
   "source": [
    "fastclime_select(pydat,Pyout[4],Pyout[5],\"AIC\")"
   ]
  },
  {
   "cell_type": "markdown",
   "metadata": {},
   "source": [
    "$$\\text{Likelihood} = \\exp(-\\frac{1}{2}X\\Omega X^T) = \\exp(-\\frac{1}{2}tr(X\\Omega X^T)) = \\exp(-\\frac{1}{2}tr(XX^T \\Omega))$$\n",
    "\n",
    "Scale covariance by (n-1)/n\n"
   ]
  },
  {
   "cell_type": "code",
   "execution_count": 162,
   "metadata": {
    "collapsed": false
   },
   "outputs": [
    {
     "name": "stderr",
     "output_type": "stream",
     "text": [
      "/home/bitnami/anaconda/lib/python2.7/site-packages/IPython/kernel/__main__.py:23: UserWarning: Precision matrix estimate is not positive definite.\n",
      "/home/bitnami/anaconda/lib/python2.7/site-packages/IPython/kernel/__main__.py:25: RuntimeWarning: divide by zero encountered in log\n",
      "/home/bitnami/anaconda/lib/python2.7/site-packages/IPython/kernel/__main__.py:25: RuntimeWarning: invalid value encountered in log\n"
     ]
    }
   ],
   "source": [
    "Sigma = np.corrcoef(pydat.T)\n",
    "icovlist = Pyout[5]\n",
    "l = Pyout[3]\n",
    "lambdamtx = Pyout[4]\n",
    "p = 150\n",
    "n = 100\n",
    "\n",
    "BIC = np.empty((l,),dtype=float)\n",
    "\n",
    "for i in range(l):\n",
    "    BIC[i]=-2.0*loglik(Sigma,icovlist[:,:,i]) + p*np.log(n)\n"
   ]
  },
  {
   "cell_type": "code",
   "execution_count": 163,
   "metadata": {
    "collapsed": false
   },
   "outputs": [
    {
     "data": {
      "text/plain": [
       "array([         -inf,  990.7755279 ,  960.85018932,  948.21505369,\n",
       "        942.80287225,          -inf,          -inf,  942.23011679,\n",
       "                -inf,          -inf,          -inf,          -inf,\n",
       "                -inf,          -inf,          -inf,  838.12031049,\n",
       "        789.2184389 ,  789.61227958,          -inf,          -inf,\n",
       "                -inf,  755.52977734,          -inf,  762.98196356,\n",
       "                -inf,  714.52464963,  701.36087633,          -inf,\n",
       "                -inf,          -inf,  707.26532536,          -inf,\n",
       "                -inf,  676.18950965,  701.53526302,  722.17940588,\n",
       "        640.15960863,          -inf,          -inf,  629.55683151,\n",
       "        606.89401256,  595.21240182,  561.45734427,  604.18116602,\n",
       "        640.39636764,  598.95414682,  603.2958535 ,          -inf,\n",
       "                -inf,          -inf,          -inf,  597.85540441,\n",
       "                -inf,          -inf,  639.52435023,          -inf,\n",
       "        630.57792961,          -inf,          -inf,  635.82866088,\n",
       "        577.21145337,  675.6365282 ,          -inf,          -inf,\n",
       "        768.70758083,          -inf,  593.20600871,          -inf,\n",
       "                -inf,          -inf,          -inf,          -inf,\n",
       "        611.33442127,          -inf,          -inf,  555.62018691,\n",
       "        594.93782902,          -inf,  638.22935218,          -inf,\n",
       "        572.02505882,  567.56244388,          -inf,  573.38995411,\n",
       "                -inf,  634.16554304,          -inf,  539.74393337,\n",
       "        646.89103004,          -inf,  562.9318176 ,  641.0173933 ,\n",
       "        657.95330111,          -inf,  634.39213037,          -inf,\n",
       "        574.78042777,  582.92256689,  641.3105184 ,          -inf])"
      ]
     },
     "execution_count": 163,
     "metadata": {},
     "output_type": "execute_result"
    }
   ],
   "source": [
    "BIC"
   ]
  },
  {
   "cell_type": "code",
   "execution_count": 164,
   "metadata": {
    "collapsed": false
   },
   "outputs": [],
   "source": [
    "# BIC2 = BIC[2:]\n",
    "# BIC3 = BIC2[np.where(BIC2!=-np.inf)]\n",
    "# np.where(BIC3==BIC3.min())\n",
    "# bicmin = BIC3.min()\n",
    "# print np.where(BIC == bicmin)\n",
    "# #np.where(BIC2!=-np.inf and BIC2==min(BIC2))\n",
    "\n",
    "opt_index = np.where(BIC[2:]==min(BIC[2:][np.where(BIC[2:]!=-np.inf)]))[0]+2"
   ]
  },
  {
   "cell_type": "code",
   "execution_count": 165,
   "metadata": {
    "collapsed": false
   },
   "outputs": [
    {
     "data": {
      "text/plain": [
       "0.17111250976780351"
      ]
     },
     "execution_count": 165,
     "metadata": {},
     "output_type": "execute_result"
    }
   ],
   "source": [
    "np.max(Pyout[4][opt_index,:])"
   ]
  },
  {
   "cell_type": "code",
   "execution_count": 58,
   "metadata": {
    "collapsed": false
   },
   "outputs": [],
   "source": [
    "fcres = Pyout[5][:,:,189]"
   ]
  },
  {
   "cell_type": "code",
   "execution_count": 11,
   "metadata": {
    "collapsed": false
   },
   "outputs": [
    {
     "data": {
      "text/plain": [
       "(150, 150)"
      ]
     },
     "execution_count": 11,
     "metadata": {},
     "output_type": "execute_result"
    }
   ],
   "source": [
    "fcres[:,:,0].shape"
   ]
  },
  {
   "cell_type": "code",
   "execution_count": null,
   "metadata": {
    "collapsed": true
   },
   "outputs": [],
   "source": []
  },
  {
   "cell_type": "code",
   "execution_count": 219,
   "metadata": {
    "collapsed": false
   },
   "outputs": [],
   "source": [
    "test = fastclime.fastclime_lambda(Rout.rx2('lambdamtx'),Rout.rx2('icovlist'),0.18271495838197577)"
   ]
  },
  {
   "cell_type": "code",
   "execution_count": 220,
   "metadata": {
    "collapsed": false
   },
   "outputs": [],
   "source": [
    "fcres = np.array(test.rx2('icov'))"
   ]
  },
  {
   "cell_type": "code",
   "execution_count": 221,
   "metadata": {
    "collapsed": false
   },
   "outputs": [
    {
     "data": {
      "text/plain": [
       "40.897218020488047"
      ]
     },
     "execution_count": 221,
     "metadata": {},
     "output_type": "execute_result"
    }
   ],
   "source": [
    "np.linalg.norm(Omega-fcres,'fro')"
   ]
  },
  {
   "cell_type": "code",
   "execution_count": 222,
   "metadata": {
    "collapsed": false
   },
   "outputs": [
    {
     "data": {
      "text/plain": [
       "31.604822407357826"
      ]
     },
     "execution_count": 222,
     "metadata": {},
     "output_type": "execute_result"
    }
   ],
   "source": [
    "np.linalg.norm(Omega-fcres,np.inf)"
   ]
  },
  {
   "cell_type": "code",
   "execution_count": null,
   "metadata": {
    "collapsed": true
   },
   "outputs": [],
   "source": []
  },
  {
   "cell_type": "code",
   "execution_count": 214,
   "metadata": {
    "collapsed": false
   },
   "outputs": [
    {
     "name": "stdout",
     "output_type": "stream",
     "text": [
      "High-deimensional Sparse Undirected Graphical Models.\n",
      "The Constrained L1 Minimization for Sparse Precision Matrix Estimation.\n",
      "\n",
      "Conducting Subsampling....done.  \n"
     ]
    }
   ],
   "source": [
    "out_flare = flare.sugm(L.rx2('data'), method = \"clime\", prec = 1e-5)\n",
    "flare_opt = flare.sugm_select(out_flare,criterion=\"stars\")"
   ]
  },
  {
   "cell_type": "code",
   "execution_count": 16,
   "metadata": {
    "collapsed": false
   },
   "outputs": [],
   "source": [
    "flareres = np.array(flare_opt.rx2('opt.icov'))"
   ]
  },
  {
   "cell_type": "code",
   "execution_count": 23,
   "metadata": {
    "collapsed": false
   },
   "outputs": [
    {
     "data": {
      "text/plain": [
       "9.2173466008093285"
      ]
     },
     "execution_count": 23,
     "metadata": {},
     "output_type": "execute_result"
    }
   ],
   "source": [
    "np.linalg.norm(Omega-flareres,'fro')"
   ]
  },
  {
   "cell_type": "code",
   "execution_count": 215,
   "metadata": {
    "collapsed": false
   },
   "outputs": [
    {
     "data": {
      "text/plain": [
       "<FloatVector - Python:0x7fe7e1095758 / R:0xc3e39d8>\n",
       "[0.190250]"
      ]
     },
     "execution_count": 215,
     "metadata": {},
     "output_type": "execute_result"
    }
   ],
   "source": [
    "flare_opt.rx2('opt.lambda')"
   ]
  },
  {
   "cell_type": "code",
   "execution_count": 134,
   "metadata": {
    "collapsed": false
   },
   "outputs": [
    {
     "name": "stdout",
     "output_type": "stream",
     "text": [
      "Conducting cross validation (cv) selection....\n",
      "High-deimensional Sparse Undirected Graphical Models.\n",
      "The Constrained L1 Minimization for Sparse Precision Matrix Estimation.\n",
      "High-deimensional Sparse Undirected Graphical Models.\n",
      "The Constrained L1 Minimization for Sparse Precision Matrix Estimation.\n",
      "High-deimensional Sparse Undirected Graphical Models.\n",
      "The Constrained L1 Minimization for Sparse Precision Matrix Estimation.\n",
      "High-deimensional Sparse Undirected Graphical Models.\n",
      "The Constrained L1 Minimization for Sparse Precision Matrix Estimation.\n",
      "High-deimensional Sparse Undirected Graphical Models.\n",
      "The Constrained L1 Minimization for Sparse Precision Matrix Estimation.\n",
      "done\n",
      "Computing the optimal graph....\n",
      "done\n"
     ]
    }
   ],
   "source": [
    "flare_opt2 = flare.sugm_select(out_flare,criterion=\"cv\")"
   ]
  },
  {
   "cell_type": "code",
   "execution_count": 103,
   "metadata": {
    "collapsed": false
   },
   "outputs": [
    {
     "data": {
      "text/plain": [
       "<FloatVector - Python:0x7f92a5485fc8 / R:0x9d93168>\n",
       "[0.202366]"
      ]
     },
     "execution_count": 103,
     "metadata": {},
     "output_type": "execute_result"
    }
   ],
   "source": [
    "flare_opt2.rx2('opt.lambda')"
   ]
  },
  {
   "cell_type": "code",
   "execution_count": null,
   "metadata": {
    "collapsed": false
   },
   "outputs": [],
   "source": [
    "re_clime = clime.clime(L.rx2('data'),lambda_min=0.01,nlambda=200)\n",
    "re_cv = clime.cv_clime(re_clime)\n",
    "re_clime_opt = clime.clime(L.rx2('data'),re_cv.rx2('lambdaopt'))"
   ]
  },
  {
   "cell_type": "code",
   "execution_count": 36,
   "metadata": {
    "collapsed": false
   },
   "outputs": [],
   "source": [
    "# climeres = np.array(re_clime_opt.rx2('Omegalist')[0])"
   ]
  },
  {
   "cell_type": "code",
   "execution_count": 51,
   "metadata": {
    "collapsed": false
   },
   "outputs": [
    {
     "name": "stderr",
     "output_type": "stream",
     "text": [
      "/home/bitnami/anaconda/lib/python2.7/site-packages/IPython/kernel/__main__.py:23: UserWarning: Precision matrix estimate is not positive definite.\n",
      "/home/bitnami/anaconda/lib/python2.7/site-packages/IPython/kernel/__main__.py:25: RuntimeWarning: divide by zero encountered in log\n",
      "/home/bitnami/anaconda/lib/python2.7/site-packages/IPython/kernel/__main__.py:25: RuntimeWarning: invalid value encountered in log\n"
     ]
    },
    {
     "data": {
      "text/plain": [
       "array([[ 1.        ,  1.        ,  1.        ,  1.        ,  1.        ],\n",
       "       [ 0.27831131,  0.30105371,  0.39058502,  0.39725688,  0.4159911 ],\n",
       "       [ 0.        ,  0.18948347,  0.        ,  0.21670985,  0.33174579]])"
      ]
     },
     "execution_count": 51,
     "metadata": {},
     "output_type": "execute_result"
    }
   ],
   "source": [
    "compute_opt_lambda(10,pydat,Pyout[4],Pyout[5],\"BIC\")"
   ]
  },
  {
   "cell_type": "code",
   "execution_count": 40,
   "metadata": {
    "collapsed": false
   },
   "outputs": [
    {
     "data": {
      "text/plain": [
       "25.021852481652488"
      ]
     },
     "execution_count": 40,
     "metadata": {},
     "output_type": "execute_result"
    }
   ],
   "source": [
    "    if(criterion == \"stars\"){\n",
    "      if(is.null(stars.subsample.ratio))\n",
    "      {\n",
    "        if(n>144) stars.subsample.ratio = 10*sqrt(n)/n\n",
    "        if(n<=144) stars.subsample.ratio = 0.8\n",
    "      } \n",
    "      \n",
    "         if(criterion == \"stars\"){\n",
    "      if(is.null(stars.subsample.ratio))\n",
    "      {\n",
    "        if(n>144) stars.subsample.ratio = 10*sqrt(n)/n\n",
    "        if(n<=144) stars.subsample.ratio = 0.8\n",
    "      } \n",
    "      \n",
    "      est$merge = list()\n",
    "      for(i in 1:nlambda) est$merge[[i]] = Matrix(0,d,d)\n",
    "      \n",
    "      for(i in 1:rep.num)\n",
    "      {\n",
    "        if(verbose)\n",
    "        {\n",
    "          mes <- paste(c(\"Conducting Subsampling....in progress:\", floor(100*i/rep.num), \"%\"), collapse=\"\")\n",
    "          cat(mes, \"\\r\")\n",
    "          flush.console()\t\n",
    "        }\n",
    "        ind.sample = sample(c(1:n), floor(n*stars.subsample.ratio), replace=FALSE)\n",
    "        \n",
    "        if(est$method == \"clime\")\n",
    "          tmp = sugm(est$data[ind.sample,], lambda = est$lambda, method = \"clime\", sym = est$sym, verbose = FALSE,\n",
    "                      standardize=est$standardize)$path\n",
    "        if(est$method == \"tiger\")\n",
    "          tmp = sugm(est$data[ind.sample,], lambda = est$lambda, method = \"tiger\", sym = est$sym, verbose = FALSE,\n",
    "                     standardize=est$standardize)$path\n",
    "        \n",
    "        for(i in 1:nlambda)\n",
    "          est$merge[[i]] = est$merge[[i]] + tmp[[i]]\n",
    "        \n",
    "        rm(ind.sample,tmp)\n",
    "        gc()\n",
    "      }   \n",
    "    \n",
    "      \n",
    "      est$variability = rep(0,nlambda)\n",
    "      for(i in 1:nlambda){\n",
    "        est$merge[[i]] = est$merge[[i]]/rep.num <-- rep.num is just a scaling number\n",
    "        est$variability[i] = 4*sum(est$merge[[i]]*(1-est$merge[[i]]))/(d*(d-1))\n",
    "      }\n",
    "      \n",
    "      est$opt.index = max(which.max(est$variability >= stars.thresh)[1]-1,1)\n",
    "      est$refit = est$path[[est$opt.index]]\n",
    "      est$opt.lambda = est$lambda[est$opt.index]\n",
    "      est$opt.sparsity = est$sparsity[est$opt.index]\n",
    "      est$opt.icov = est$icov[[est$opt.index]]\n",
    "\n",
    "    }"
   ]
  },
  {
   "cell_type": "code",
   "execution_count": null,
   "metadata": {
    "collapsed": true
   },
   "outputs": [],
   "source": [
    "def "
   ]
  },
  {
   "cell_type": "code",
   "execution_count": 96,
   "metadata": {
    "collapsed": false
   },
   "outputs": [],
   "source": [
    "nl = Pyout[3]\n",
    "variability = np.empty((nl,),dtype=np.float64)\n"
   ]
  },
  {
   "cell_type": "code",
   "execution_count": 149,
   "metadata": {
    "collapsed": false
   },
   "outputs": [],
   "source": [
    "d = 150\n",
    "\n",
    "for i in range(nl):\n",
    "    icov = (icovlist[:,:,i]/float(rep_num))\n",
    "    variability[i] = 4.0*np.sum(icov.dot(1.0-icov))/(d*(d-1.0))"
   ]
  },
  {
   "cell_type": "code",
   "execution_count": 150,
   "metadata": {
    "collapsed": false
   },
   "outputs": [],
   "source": [
    "stars_thresh = 0.1\n",
    "#opt_index = np.max(which.max(variability >= stars.thresh)[1]-1,1)"
   ]
  },
  {
   "cell_type": "code",
   "execution_count": 151,
   "metadata": {
    "collapsed": false
   },
   "outputs": [],
   "source": [
    "opt_index = np.where(variability[variability>=stars_thresh] == max(variability))[0]+1"
   ]
  },
  {
   "cell_type": "code",
   "execution_count": 161,
   "metadata": {
    "collapsed": false
   },
   "outputs": [
    {
     "data": {
      "text/plain": [
       "0.16890681043598549"
      ]
     },
     "execution_count": 161,
     "metadata": {},
     "output_type": "execute_result"
    }
   ],
   "source": [
    "opt_lambda = np.max(Pyout[4][opt_index,:])\n",
    "opt_lambda"
   ]
  },
  {
   "cell_type": "code",
   "execution_count": 216,
   "metadata": {
    "collapsed": false
   },
   "outputs": [],
   "source": [
    "pyres = fastclime.fastclime_lambda(Rout.rx2('lambdamtx'),Rout.rx2('icovlist'),0.1905)"
   ]
  },
  {
   "cell_type": "code",
   "execution_count": 229,
   "metadata": {
    "collapsed": false
   },
   "outputs": [],
   "source": [
    "opt_icov = np.array(pyres.rx2('icov'))"
   ]
  },
  {
   "cell_type": "code",
   "execution_count": 230,
   "metadata": {
    "collapsed": false
   },
   "outputs": [
    {
     "data": {
      "text/plain": [
       "37.565580965404983"
      ]
     },
     "execution_count": 230,
     "metadata": {},
     "output_type": "execute_result"
    }
   ],
   "source": [
    "np.linalg.norm(Omega-opt_icov,'fro')"
   ]
  },
  {
   "cell_type": "code",
   "execution_count": null,
   "metadata": {
    "collapsed": true
   },
   "outputs": [],
   "source": [
    "n = x.shape[0]\n",
    "d = x.shape[1]\n",
    "nl = Pyout[3]\n",
    "rep_num = 20\n",
    "star_thresh\n",
    "\n",
    "if (metric==\"stars\"):\n",
    "    if (stars_subsample_ratio is None):\n",
    "        stars_subsample_ratio = [10.0*np.sqrt(n)/n,0.8][n<=144]\n",
    "    \n",
    "    merge = np.zeros((d,d,nl),dtype=float)\n",
    "    \n",
    "    print \"Conducting subsampling...in progress. \\n\"\n",
    "    for i in range(rep_num):\n",
    "        rows = np.floor(float(n)*stars_subsample_ratio)\n",
    "        rand_sample = np.random.shuffle(x)[rows,:]\n",
    "        \n",
    "        tmp = fc.fastclime_main(rand_sample)[5]\n",
    "        \n",
    "        for i in range(nl):\n",
    "            merge[:,:,i]+=tmp[:,:,i]\n",
    "            \n",
    "        del rand_sample, tmp\n",
    "    print \"Conducting subsampling...done. \\n\"\n",
    "        \n",
    "    variability = np.empty((nl,),dtype=np.float64)\n",
    "    for i in range(nl):\n",
    "        merge[:,:,i]/=float(rep_num))\n",
    "        variability[i] = 4.0*np.sum(merge.dot(1.0-merge))/(d*(d-1.0))\n",
    "        \n",
    "    opt_index = np.where(variability[variability>=stars_thresh] == max(variability))[0]-1\n",
    "    opt_lambda = "
   ]
  },
  {
   "cell_type": "code",
   "execution_count": 196,
   "metadata": {
    "collapsed": true
   },
   "outputs": [],
   "source": [
    "n = 199\n",
    "stars_subsamp_ratio = [10.0*np.sqrt(n)/n,0.8][n<=144]"
   ]
  },
  {
   "cell_type": "code",
   "execution_count": 197,
   "metadata": {
    "collapsed": false
   },
   "outputs": [
    {
     "data": {
      "text/plain": [
       "0.70888120500833596"
      ]
     },
     "execution_count": 197,
     "metadata": {},
     "output_type": "execute_result"
    }
   ],
   "source": [
    "stars_subsamp_ratio"
   ]
  },
  {
   "cell_type": "code",
   "execution_count": 198,
   "metadata": {
    "collapsed": false
   },
   "outputs": [
    {
     "data": {
      "text/plain": [
       "array([[ 1.        ,  1.        ,  1.        , ...,  1.        ,\n",
       "         1.        ,  1.        ],\n",
       "       [ 0.32248991,  0.3065892 ,  0.23469982, ...,  0.28793105,\n",
       "         0.30536539,  0.2511729 ],\n",
       "       [ 0.27578933,  0.3043838 ,  0.21986765, ...,  0.24101798,\n",
       "         0.28540427,  0.20872767],\n",
       "       ..., \n",
       "       [ 0.12741803,  0.1405318 ,  0.11816405, ...,  0.12618392,\n",
       "         0.13119066,  0.11893504],\n",
       "       [ 0.12740508,  0.14018203,  0.11796419, ...,  0.12470633,\n",
       "         0.13118179,  0.11866834],\n",
       "       [ 0.12734991,  0.13982722,  0.11779362, ...,  0.12423765,\n",
       "         0.13109732,  0.11850014]])"
      ]
     },
     "execution_count": 198,
     "metadata": {},
     "output_type": "execute_result"
    }
   ],
   "source": [
    "Pyout[4]"
   ]
  }
 ],
 "metadata": {
  "kernelspec": {
   "display_name": "Python 2",
   "language": "python",
   "name": "python2"
  },
  "language_info": {
   "codemirror_mode": {
    "name": "ipython",
    "version": 2
   },
   "file_extension": ".py",
   "mimetype": "text/x-python",
   "name": "python",
   "nbconvert_exporter": "python",
   "pygments_lexer": "ipython2",
   "version": "2.7.9"
  }
 },
 "nbformat": 4,
 "nbformat_minor": 0
}
