{
 "cells": [
  {
   "cell_type": "code",
   "execution_count": 1,
   "metadata": {
    "collapsed": false
   },
   "outputs": [],
   "source": [
    "from __future__ import division\n",
    "import os\n",
    "import sys\n",
    "import glob\n",
    "\n",
    "import numpy as np\n",
    "from IPython.core.display import Image\n",
    "import uuid \n",
    "\n",
    "import gc"
   ]
  },
  {
   "cell_type": "code",
   "execution_count": 2,
   "metadata": {
    "collapsed": false
   },
   "outputs": [],
   "source": [
    "#R call\n",
    "\n",
    "import rpy2.robjects as robjects\n",
    "from rpy2.robjects.packages import importr\n",
    "fastclime = importr('fastclime')\n",
    "grdevices = importr('grDevices')\n",
    "base = importr('base')\n",
    "stats = importr('stats')"
   ]
  },
  {
   "cell_type": "code",
   "execution_count": 3,
   "metadata": {
    "collapsed": false
   },
   "outputs": [],
   "source": [
    "#Call custom Python module\n",
    "import parametric as param"
   ]
  },
  {
   "cell_type": "code",
   "execution_count": 4,
   "metadata": {
    "collapsed": false
   },
   "outputs": [],
   "source": [
    "def is_Hermitian(m):\n",
    "    #Set missing to zero prior to checking symmetry\n",
    "    m[np.isnan(m)] = 0.\n",
    "\n",
    "    try:\n",
    "        return np.allclose(np.transpose(m,(1,0)), m)\n",
    "    except:\n",
    "        return False"
   ]
  },
  {
   "cell_type": "code",
   "execution_count": 5,
   "metadata": {
    "collapsed": false
   },
   "outputs": [],
   "source": [
    "def fastclime_main(x,lambda_min=0.1,nlambda=50):\n",
    "\n",
    "    cov_input = 1\n",
    "    SigmaInput = x.copy()\n",
    "    \n",
    "    #Check if matrix is symmetric\n",
    "    if not is_Hermitian(SigmaInput):\n",
    "        SigmaInput = np.corrcoef(SigmaInput.T)\n",
    "        cov_input = 0\n",
    "    \n",
    "    #Run parametric simplex linear solver\n",
    "    Sigmahat, mu, maxnlambda, iicov = param.mainfunc(SigmaInput,lambda_min,nlambda)\n",
    "      \n",
    "    #Process output\n",
    "    maxnlambda+=1\n",
    "    \n",
    "    #Reshape the array in Fortran order\n",
    "    #and then slice the array to extract only the top maxnlambda rows\n",
    "    lambdamtx = mu.T.reshape(nlambda, -1, order='F')[:maxnlambda,:]\n",
    "    mu = None\n",
    "    \n",
    "    #Take each row of iicov and convert it to a d x d matrix\n",
    "    d = Sigmahat.shape[1]\n",
    "    icovlist = np.empty((d, d, maxnlambda)) \n",
    "    \n",
    "    for i in range(maxnlambda):\n",
    "        icovlist[:,:,i] = iicov[:,i].reshape((d,d)).T\n",
    "    \n",
    "    gc.collect()\n",
    "    \n",
    "    return x, cov_input, Sigmahat, maxnlambda, lambdamtx, icovlist\n",
    "    "
   ]
  },
  {
   "cell_type": "code",
   "execution_count": 6,
   "metadata": {
    "collapsed": false
   },
   "outputs": [
    {
     "name": "stdout",
     "output_type": "stream",
     "text": [
      "Generating data from the multivariate normal distribution with the random graph structure....done.\n"
     ]
    }
   ],
   "source": [
    "# #Generate data\n",
    "\n",
    "L = fastclime.fastclime_generator(n = 100, d = 20)\n",
    "pydat = np.array(L.rx2('data'))"
   ]
  },
  {
   "cell_type": "code",
   "execution_count": 7,
   "metadata": {
    "collapsed": false
   },
   "outputs": [],
   "source": [
    "Pyout = fastclime_main(pydat,0.1)"
   ]
  },
  {
   "cell_type": "code",
   "execution_count": 8,
   "metadata": {
    "collapsed": false
   },
   "outputs": [],
   "source": [
    "#Compare results to R"
   ]
  },
  {
   "cell_type": "code",
   "execution_count": 9,
   "metadata": {
    "collapsed": false
   },
   "outputs": [
    {
     "name": "stdout",
     "output_type": "stream",
     "text": [
      "Allocating memory \n",
      "start recovering \n",
      "preparing precision and path matrix list \n",
      "Done! \n"
     ]
    }
   ],
   "source": [
    "#%timeit -n1 -r1 fastclime.fastclime(L.rx2('data'),0.1)\n",
    "Rout = fastclime.fastclime(L.rx2('data'),0.1)"
   ]
  },
  {
   "cell_type": "code",
   "execution_count": 10,
   "metadata": {
    "collapsed": false
   },
   "outputs": [
    {
     "name": "stdout",
     "output_type": "stream",
     "text": [
      "[ True]\n",
      "True\n",
      "True\n"
     ]
    }
   ],
   "source": [
    "from random import randint\n",
    "ranint = randint(0,Pyout[3]-1)\n",
    "print np.isclose(Pyout[3],np.array(Rout.rx2('maxnlambda')))\n",
    "print np.allclose(Pyout[4],np.array(Rout.rx2('lambdamtx')))\n",
    "print np.allclose(Pyout[5][:,:,ranint],np.array(Rout.rx2('icovlist')[ranint]))"
   ]
  },
  {
   "cell_type": "code",
   "execution_count": null,
   "metadata": {
    "collapsed": true
   },
   "outputs": [],
   "source": []
  },
  {
   "cell_type": "code",
   "execution_count": null,
   "metadata": {
    "collapsed": true
   },
   "outputs": [],
   "source": []
  }
 ],
 "metadata": {
  "kernelspec": {
   "display_name": "Python 2",
   "language": "python",
   "name": "python2"
  },
  "language_info": {
   "codemirror_mode": {
    "name": "ipython",
    "version": 2
   },
   "file_extension": ".py",
   "mimetype": "text/x-python",
   "name": "python",
   "nbconvert_exporter": "python",
   "pygments_lexer": "ipython2",
   "version": "2.7.9"
  }
 },
 "nbformat": 4,
 "nbformat_minor": 0
}
