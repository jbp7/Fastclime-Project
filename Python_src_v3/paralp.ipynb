{
 "cells": [
  {
   "cell_type": "code",
   "execution_count": 1,
   "metadata": {
    "collapsed": false
   },
   "outputs": [],
   "source": [
    "from __future__ import division\n",
    "import os\n",
    "import sys\n",
    "import glob"
   ]
  },
  {
   "cell_type": "code",
   "execution_count": 2,
   "metadata": {
    "collapsed": false
   },
   "outputs": [
    {
     "name": "stdout",
     "output_type": "stream",
     "text": [
      "Overwriting paralp.h\n"
     ]
    }
   ],
   "source": [
    "%%file paralp.h\n",
    "\n",
    "int ratio_test1(double *dy, int *idy,int ndy, double *y, double *ybar, double mu);\n",
    "void paralp(double *obj, double *mat, double *rhs, int *m0 , int *n0, \n",
    "            double *opt, int *status, double *lambda_min, double *rhs_bar, double *obj_bar);\n",
    "void solver21(int m,int n,int nz,int *ia, int *ka, double *a,double *b, double *c);\n"
   ]
  },
  {
   "cell_type": "code",
   "execution_count": 3,
   "metadata": {
    "collapsed": false
   },
   "outputs": [
    {
     "name": "stdout",
     "output_type": "stream",
     "text": [
      "Overwriting _paralp.pyx\n"
     ]
    }
   ],
   "source": [
    "%%file _paralp.pyx\n",
    "\n",
    "import numpy as np\n",
    "cimport numpy as np\n",
    "\n",
    "np.import_array()\n",
    "\n",
    "# cdefine the signature of the c function\n",
    "cdef extern from \"paralp.h\":\n",
    "    void paralp(double *obj, double *mat, double *rhs, int *m0 , \n",
    "                int *n0, double *opt, int *status, double *lambda_min, \n",
    "                double *rhs_bar, double *obj_bar)\n",
    "    \n",
    "def mainfunc(np.ndarray[double, ndim=1, mode=\"c\"] obj not None,\n",
    "             np.ndarray[double, ndim=2, mode=\"c\"] mat not None,\n",
    "             np.ndarray[double, ndim=1, mode=\"c\"] rhs not None,\n",
    "             np.ndarray[double, ndim=1, mode=\"c\"] obj_bar not None,\n",
    "             np.ndarray[double, ndim=1, mode=\"c\"] rhs_bar not None,\n",
    "             double lambda_min):   \n",
    "\n",
    "    #Dimensions    \n",
    "    cdef int m  = len(rhs)\n",
    "    cdef int n  = len(obj)\n",
    "    cdef int m0 = mat.shape[0]\n",
    "    cdef int n0 = mat.shape[1]\n",
    "    cdef int m1 = len(rhs_bar)\n",
    "    cdef int n1 = len(obj_bar)\n",
    "    \n",
    "    #Define output\n",
    "    cdef np.ndarray opt = np.zeros((len(obj),), dtype = np.float64, order='C')\n",
    "    cdef int status = 0\n",
    "    \n",
    "    if (m != m0 or n != n0 or m != m1 or n != n1):\n",
    "        raise ValueError(\"Dimensions do not match.\")\n",
    "    \n",
    "    if ((obj_bar < 0.).any() or (rhs_bar < 0.).any()):\n",
    "        raise ValueError(\"The pertubation vector obj_bar and rhs_bar must be nonnegative.\")\n",
    "        \n",
    "    #Call external C function\n",
    "    paralp(<double*> np.PyArray_DATA(obj),\n",
    "           <double*> np.PyArray_DATA(mat),\n",
    "           <double*> np.PyArray_DATA(rhs),\n",
    "           &m0,\n",
    "           &n0,\n",
    "           <double*> np.PyArray_DATA(opt),\n",
    "           &status,\n",
    "           <double*> &lambda_min,\n",
    "           <double*> np.PyArray_DATA(rhs_bar),\n",
    "           <double*> np.PyArray_DATA(obj_bar))\n",
    "\n",
    "    if (status == 0): \n",
    "        #print \"optimal solution found! \\n\"\n",
    "        return opt\n",
    "\n",
    "    elif (status == 1):\n",
    "        print \"The problem is infeasible! \\n\"\n",
    "    \n",
    "    elif (status == 2):\n",
    "        print \"The problem is unbounded! \\n\"\n"
   ]
  },
  {
   "cell_type": "code",
   "execution_count": 4,
   "metadata": {
    "collapsed": false
   },
   "outputs": [
    {
     "name": "stdout",
     "output_type": "stream",
     "text": [
      "Overwriting setup.py\n"
     ]
    }
   ],
   "source": [
    "%%file setup.py\n",
    "\n",
    "from distutils.core import setup, Extension\n",
    "import numpy as np\n",
    "import numpy.distutils.misc_util\n",
    "from Cython.Distutils import build_ext\n",
    "\n",
    "setup(\n",
    "    name = 'paralp',\n",
    "    version = '1.0',\n",
    "    description = 'C wrapper for paralp function',\n",
    "    author = 'John Pura',\n",
    "    author_email = 'john.pura@duke.edu',\n",
    "    cmdclass={'build_ext': build_ext},\n",
    "    ext_modules=[Extension(\"paralp\",\n",
    "                           sources=[\"_paralp.pyx\", \"paralp.c\",\n",
    "                                    \"lu.c\",\"tree.c\",\"linalg.c\",\n",
    "                                    \"heap.c\"],\n",
    "                 include_dirs=[np.get_include(), ])]\n",
    ")\n"
   ]
  },
  {
   "cell_type": "code",
   "execution_count": 5,
   "metadata": {
    "collapsed": false
   },
   "outputs": [
    {
     "name": "stdout",
     "output_type": "stream",
     "text": [
      "\u001b[39mrunning build_ext\u001b[0m\n",
      "\u001b[39mcythoning _paralp.pyx to _paralp.c\u001b[0m\n",
      "\u001b[39mbuilding 'paralp' extension\u001b[0m\n",
      "\u001b[39mC compiler: gcc -pthread -fno-strict-aliasing -g -O2 -DNDEBUG -g -fwrapv -O3 -Wall -Wstrict-prototypes -fPIC\n",
      "\u001b[0m\n",
      "\u001b[39mcompile options: '-I/home/bitnami/anaconda/lib/python2.7/site-packages/numpy/core/include -I/home/bitnami/anaconda/include/python2.7 -c'\u001b[0m\n",
      "\u001b[39mgcc: _paralp.c\u001b[0m\n",
      "In file included from /home/bitnami/anaconda/lib/python2.7/site-packages/numpy/core/include/numpy/ndarraytypes.h:1804:0,\n",
      "                 from /home/bitnami/anaconda/lib/python2.7/site-packages/numpy/core/include/numpy/ndarrayobject.h:17,\n",
      "                 from /home/bitnami/anaconda/lib/python2.7/site-packages/numpy/core/include/numpy/arrayobject.h:4,\n",
      "                 from _paralp.c:232:\n",
      "/home/bitnami/anaconda/lib/python2.7/site-packages/numpy/core/include/numpy/npy_1_7_deprecated_api.h:15:2: warning: #warning \"Using deprecated NumPy API, disable it by \" \"#defining NPY_NO_DEPRECATED_API NPY_1_7_API_VERSION\" [-Wcpp]\n",
      " #warning \"Using deprecated NumPy API, disable it by \" \\\n",
      "  ^\n",
      "In file included from /home/bitnami/anaconda/lib/python2.7/site-packages/numpy/core/include/numpy/ufuncobject.h:317:0,\n",
      "                 from _paralp.c:233:\n",
      "/home/bitnami/anaconda/lib/python2.7/site-packages/numpy/core/include/numpy/__ufunc_api.h:241:1: warning: ‘_import_umath’ defined but not used [-Wunused-function]\n",
      " _import_umath(void)\n",
      " ^\n",
      "\u001b[39mgcc: heap.c\u001b[0m\n",
      "\u001b[39mgcc: paralp.c\u001b[0m\n",
      "\u001b[39mgcc: linalg.c\u001b[0m\n",
      "\u001b[39mgcc: tree.c\u001b[0m\n",
      "\u001b[39mgcc: lu.c\u001b[0m\n",
      "\u001b[39mgcc -pthread -shared build/temp.linux-x86_64-2.7/_paralp.o build/temp.linux-x86_64-2.7/paralp.o build/temp.linux-x86_64-2.7/lu.o build/temp.linux-x86_64-2.7/tree.o build/temp.linux-x86_64-2.7/linalg.o build/temp.linux-x86_64-2.7/heap.o -L/home/bitnami/anaconda/lib -lpython2.7 -o /home/bitnami/STA663-pura-project/Python_src_v3/paralp.so\u001b[0m\n"
     ]
    }
   ],
   "source": [
    "!python setup.py build_ext --inplace"
   ]
  }
 ],
 "metadata": {
  "kernelspec": {
   "display_name": "Python 2",
   "language": "python",
   "name": "python2"
  },
  "language_info": {
   "codemirror_mode": {
    "name": "ipython",
    "version": 2
   },
   "file_extension": ".py",
   "mimetype": "text/x-python",
   "name": "python",
   "nbconvert_exporter": "python",
   "pygments_lexer": "ipython2",
   "version": "2.7.9"
  }
 },
 "nbformat": 4,
 "nbformat_minor": 0
}
