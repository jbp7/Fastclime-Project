{
 "cells": [
  {
   "cell_type": "code",
   "execution_count": 1,
   "metadata": {
    "collapsed": false
   },
   "outputs": [],
   "source": [
    "import parametric as param1\n",
    "import parametric2 as param2\n",
    "import numpy as np\n",
    "import gc"
   ]
  },
  {
   "cell_type": "code",
   "execution_count": null,
   "metadata": {
    "collapsed": true
   },
   "outputs": [],
   "source": []
  },
  {
   "cell_type": "code",
   "execution_count": 2,
   "metadata": {
    "collapsed": true
   },
   "outputs": [],
   "source": [
    "import rpy2.robjects as robjects\n",
    "from rpy2.robjects.packages import importr\n",
    "fastclime = importr('fastclime')\n",
    "grdevices = importr('grDevices')\n",
    "base = importr('base')\n",
    "stats = importr('stats')"
   ]
  },
  {
   "cell_type": "code",
   "execution_count": 3,
   "metadata": {
    "collapsed": true
   },
   "outputs": [],
   "source": [
    "def is_Hermitian(m):\n",
    "    \"\"\"\n",
    "    Checks if a given matrix is Hermitian \n",
    "    (symmetric)\n",
    "\n",
    "    Parameters:\n",
    "    -----------------------------------------\n",
    "    m   :  A 2-D matrix\n",
    "\n",
    "    Returns:\n",
    "    -----------------------------------------\n",
    "    logical\n",
    "    \"\"\"\n",
    "    import numpy as np\n",
    "    \n",
    "    #Set missing to zero prior to checking symmetry\n",
    "    m[np.isnan(m)] = 0.\n",
    "\n",
    "    try:\n",
    "        return np.allclose(np.transpose(m,(1,0)), m)\n",
    "    except:\n",
    "        return False\n",
    "    \n",
    "def symmetrize(m,rule=\"min\"):\n",
    "    \"\"\"\n",
    "    Symmetrizes a given square matrix based on a rule\n",
    "\n",
    "    Parameters:\n",
    "    -----------------------------------------\n",
    "    m   :  A square matrix\n",
    "\n",
    "    rule:  criterion for symmetrizing m\n",
    "           -\"min\" computes the minimum of m(i,j) and m(j,i)\n",
    "           -\"max\" computes the maximum of m(i,j) and m(j,i)\n",
    "           where i and j are row and column indices\n",
    "\n",
    "    Returns:\n",
    "    -----------------------------------------\n",
    "    A symmetric square matrix\n",
    "    \"\"\"\n",
    "    import numpy as np\n",
    "    \n",
    "    if (m.shape[0] != m.shape[1]):\n",
    "        raise ValueError(\"Input matrix must be square.\")\n",
    "        \n",
    "    if (rule == \"min\"):\n",
    "        min_mat =  np.fmin(np.triu(m),np.tril(m).T)\n",
    "        return np.triu(min_mat,1) + min_mat.T\n",
    "\n",
    "    elif (rule == \"max\"):\n",
    "        max_mat =  np.fmax(np.triu(m),np.tril(m).T)\n",
    "        return np.triu(max_mat,1) + max_mat.T\n",
    "    \n",
    "    else:\n",
    "        raise ValueError(\"Specify rule as min or max.\")\n",
    "\n",
    "def fastclime_R(x,lambda_min=0.1,nlambda=50):\n",
    " \n",
    "    cov_input = 1\n",
    "    SigmaInput = x.copy()\n",
    "    \n",
    "    #Check if matrix is symmetric\n",
    "    if not is_Hermitian(SigmaInput):\n",
    "        SigmaInput = np.corrcoef(SigmaInput.T)\n",
    "        cov_input = 0\n",
    "    \n",
    "    #Run parametric simplex linear solver\n",
    "    Sigmahat, mu, maxnlambda, iicov = param1.mainfunc(SigmaInput,lambda_min,nlambda)\n",
    "      \n",
    "    #Process output\n",
    "    maxnlambda+=1\n",
    "    \n",
    "    #Reshape the array in Fortran order\n",
    "    #and then slice the array to extract only the top maxnlambda rows\n",
    "    lambdamtx = mu.T.reshape(nlambda, -1, order='F')[:maxnlambda,:]\n",
    "    mu = None\n",
    "    \n",
    "    #Take each row of iicov and convert it to a d x d matrix\n",
    "    d = Sigmahat.shape[1]\n",
    "    icovlist = np.empty((d, d, maxnlambda)) \n",
    "   \n",
    "    #Symmetrize output precision matrices \n",
    "    for i in range(maxnlambda):\n",
    "        #icovlist[:,:,i] = symmetrize(iicov[:,i].reshape((d,d)).T,\"min\")\n",
    "        icovlist[:,:,i] = iicov[:,i].reshape((d,d)).T\n",
    "    \n",
    "    gc.collect()\n",
    "    \n",
    "    return x, cov_input, Sigmahat, maxnlambda, lambdamtx, icovlist\n",
    "    \n",
    "    \n",
    "def fastclime_mod(x,SigmaInput_xy,lambda_min=0.1,nlambda=50,symout = False):\n",
    "\n",
    "    cov_input = 1\n",
    "    SigmaInput_xx = x.copy()\n",
    "    \n",
    "    #Check if matrix is symmetric\n",
    "    #if not create normalized covariance matrix\n",
    "    if not is_Hermitian(SigmaInput_xx):\n",
    "        SigmaInput_xx = np.corrcoef(SigmaInput_xx.T)\n",
    "        cov_input = 0\n",
    "    \n",
    "    #Run parametric simplex linear solver\n",
    "    Sigmahat_xx, Sigmahat_xy, mu, maxnlambda, iicov = param2.mainfunc(SigmaInput_xx,SigmaInput_xy,\n",
    "                                                     lambda_min,nlambda)\n",
    "    #Process output\n",
    "    maxnlambda+=1\n",
    "    \n",
    "    #Reshape the array in Fortran order\n",
    "    #and then slice the array to extract only the top maxnlambda rows\n",
    "    lambdamtx = mu.T.reshape(nlambda, -1, order='F')[:maxnlambda,:]\n",
    "    mu = None\n",
    "    \n",
    "    #Take each row of iicov and convert it to a d x d matrix\n",
    "    d = Sigmahat_xx.shape[1]\n",
    "    icovlist = np.empty((d, d, maxnlambda)) \n",
    "   \n",
    "    #Symmetrize output precision matrices \n",
    "    for i in range(maxnlambda):\n",
    "        if (symout == False):\n",
    "            icovlist[:,:,i] = iicov[:,i].reshape((d,d)).T\n",
    "        else:\n",
    "            icovlist[:,:,i] = symmetrize(iicov[:,i].reshape((d,d)).T,\"min\")\n",
    "         \n",
    "    \n",
    "    gc.collect()\n",
    "    \n",
    "    return x, cov_input, Sigmahat_xx, Sigmahat_xy, maxnlambda, lambdamtx, icovlist\n",
    "    \n",
    "def fastcapme(x,y,lambda_min=0.1,nlambda=50,tau_min=0.1,ntau=50,):\n",
    "    \n",
    "    n = x.shape[0]\n",
    "    p = y.shape[0]\n",
    "    q = x.shape[1]\n",
    "    \n",
    "    Sxx = np.corrcoef(x.T)\n",
    "    Sxy = np.cov(x.T,y.T)*(1.-1./float(n))\n",
    "    \n",
    "    #Estimate Gamma0\n",
    "    Gammaest = fastclime_mod(Sxx,Sxy,lambda_min,nlambda,symout=False)\n",
    "    \n",
    "    #Estimate optimal Gamma\n",
    "    Gammahat = fastclime_select(x,Gammaest[5])[1]\n",
    "    \n",
    "    Syy = (y-x.dot(Gammahat)).dot((y-x.dot(Gammahat)).T)/float(n)\n",
    "    \n",
    "    #Estimate Omega0\n",
    "    Omegaest = fastclime_mod(Syy,np.eye(d),tau_min,ntau,symout=True)\n",
    "    \n",
    "    return Gammahat, Syy, Gammaest[4], Gammaest[5], Gammaest[6], \n",
    "           Omegaest[4], Omegaest[5], Omegaest[6]"
   ]
  },
  {
   "cell_type": "code",
   "execution_count": 35,
   "metadata": {
    "collapsed": false
   },
   "outputs": [
    {
     "data": {
      "text/plain": [
       "(12, 12)"
      ]
     },
     "execution_count": 35,
     "metadata": {},
     "output_type": "execute_result"
    }
   ],
   "source": [
    "np.corrcoef(np.arange(21).reshape((3,7)).T,np.arange(15).reshape((3,5)).T).shape"
   ]
  },
  {
   "cell_type": "code",
   "execution_count": 4,
   "metadata": {
    "collapsed": false
   },
   "outputs": [
    {
     "name": "stdout",
     "output_type": "stream",
     "text": [
      "Generating data from the multivariate normal distribution with the random graph structure....done.\n"
     ]
    }
   ],
   "source": [
    "L = fastclime.fastclime_generator(n = 10, d = 5)\n",
    "pydat = np.array(L.rx2('data'))"
   ]
  },
  {
   "cell_type": "code",
   "execution_count": 5,
   "metadata": {
    "collapsed": false
   },
   "outputs": [],
   "source": [
    "Pyout = fastclime1(pydat)"
   ]
  },
  {
   "cell_type": "code",
   "execution_count": 29,
   "metadata": {
    "collapsed": false
   },
   "outputs": [],
   "source": [
    "from sklearn import preprocessing\n",
    "import numpy as np"
   ]
  },
  {
   "cell_type": "code",
   "execution_count": 31,
   "metadata": {
    "collapsed": false
   },
   "outputs": [
    {
     "data": {
      "text/plain": [
       "array([[ 1.        ,  0.13702914, -0.49134195, -0.49422069,  0.11948745],\n",
       "       [ 0.13702914,  1.        , -0.80141566,  0.19911562,  0.21909631],\n",
       "       [-0.49134195, -0.80141566,  1.        , -0.16262622, -0.18497391],\n",
       "       [-0.49422069,  0.19911562, -0.16262622,  1.        , -0.44982461],\n",
       "       [ 0.11948745,  0.21909631, -0.18497391, -0.44982461,  1.        ]])"
      ]
     },
     "execution_count": 31,
     "metadata": {},
     "output_type": "execute_result"
    }
   ],
   "source": [
    "np.cov(preprocessing.scale(pydat).T)*(1.-1./10.)"
   ]
  },
  {
   "cell_type": "code",
   "execution_count": 32,
   "metadata": {
    "collapsed": false
   },
   "outputs": [
    {
     "ename": "NameError",
     "evalue": "name 'x' is not defined",
     "output_type": "error",
     "traceback": [
      "\u001b[1;31m---------------------------------------------------------------------------\u001b[0m",
      "\u001b[1;31mNameError\u001b[0m                                 Traceback (most recent call last)",
      "\u001b[1;32m<ipython-input-32-8b3f679e05ed>\u001b[0m in \u001b[0;36m<module>\u001b[1;34m()\u001b[0m\n\u001b[1;32m----> 1\u001b[1;33m \u001b[0mnp\u001b[0m\u001b[1;33m.\u001b[0m\u001b[0mcov\u001b[0m\u001b[1;33m(\u001b[0m\u001b[0mx\u001b[0m\u001b[1;33m.\u001b[0m\u001b[0mT\u001b[0m\u001b[1;33m,\u001b[0m\u001b[0my\u001b[0m\u001b[1;33m.\u001b[0m\u001b[0mT\u001b[0m\u001b[1;33m)\u001b[0m\u001b[1;33m*\u001b[0m\u001b[1;33m(\u001b[0m\u001b[1;36m1.\u001b[0m\u001b[1;33m-\u001b[0m\u001b[1;36m1.\u001b[0m\u001b[1;33m/\u001b[0m\u001b[0mfloat\u001b[0m\u001b[1;33m(\u001b[0m\u001b[0mn\u001b[0m\u001b[1;33m)\u001b[0m\u001b[1;33m)\u001b[0m\u001b[1;33m\u001b[0m\u001b[0m\n\u001b[0m",
      "\u001b[1;31mNameError\u001b[0m: name 'x' is not defined"
     ]
    }
   ],
   "source": [
    "np.cov(x.T,y.T)*(1.-1./float(n))"
   ]
  },
  {
   "cell_type": "code",
   "execution_count": 7,
   "metadata": {
    "collapsed": false
   },
   "outputs": [],
   "source": [
    "from numpy import matlib\n",
    "#Imat = np.ndarray.flatten(np.matlib.eye(5))\n",
    "Imat = np.matlib.eye(5)\n",
    "Pyout2 = fastclime2(pydat,Imat)\n"
   ]
  },
  {
   "cell_type": "code",
   "execution_count": 8,
   "metadata": {
    "collapsed": false
   },
   "outputs": [
    {
     "data": {
      "text/plain": [
       "10"
      ]
     },
     "execution_count": 8,
     "metadata": {},
     "output_type": "execute_result"
    }
   ],
   "source": [
    "Pyout2[4]"
   ]
  },
  {
   "cell_type": "code",
   "execution_count": 10,
   "metadata": {
    "collapsed": false
   },
   "outputs": [
    {
     "data": {
      "text/plain": [
       "True"
      ]
     },
     "execution_count": 10,
     "metadata": {},
     "output_type": "execute_result"
    }
   ],
   "source": [
    "np.allclose(Pyout[4],Pyout2[5])"
   ]
  },
  {
   "cell_type": "code",
   "execution_count": null,
   "metadata": {
    "collapsed": true
   },
   "outputs": [],
   "source": []
  },
  {
   "cell_type": "code",
   "execution_count": null,
   "metadata": {
    "collapsed": true
   },
   "outputs": [],
   "source": [
    "Rout = fastclime.fastclime(L.rx2('data'),0.1)"
   ]
  },
  {
   "cell_type": "code",
   "execution_count": null,
   "metadata": {
    "collapsed": true
   },
   "outputs": [],
   "source": []
  },
  {
   "cell_type": "code",
   "execution_count": null,
   "metadata": {
    "collapsed": true
   },
   "outputs": [],
   "source": []
  }
 ],
 "metadata": {
  "kernelspec": {
   "display_name": "Python 2",
   "language": "python",
   "name": "python2"
  },
  "language_info": {
   "codemirror_mode": {
    "name": "ipython",
    "version": 2
   },
   "file_extension": ".py",
   "mimetype": "text/x-python",
   "name": "python",
   "nbconvert_exporter": "python",
   "pygments_lexer": "ipython2",
   "version": "2.7.9"
  }
 },
 "nbformat": 4,
 "nbformat_minor": 0
}
