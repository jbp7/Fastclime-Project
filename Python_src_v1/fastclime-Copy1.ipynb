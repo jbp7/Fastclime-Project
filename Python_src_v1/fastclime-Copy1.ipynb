{
 "cells": [
  {
   "cell_type": "code",
   "execution_count": 64,
   "metadata": {
    "collapsed": false
   },
   "outputs": [],
   "source": [
    "from __future__ import division\n",
    "import os\n",
    "import sys\n",
    "import glob\n",
    "import matplotlib.pyplot as plt\n",
    "import numpy as np\n",
    "import pandas as pd\n",
    "%matplotlib inline\n",
    "%precision 4\n",
    "plt.style.use('ggplot')\n",
    "\n",
    "from IPython.core.display import Image\n",
    "import uuid \n",
    "\n",
    "import gc"
   ]
  },
  {
   "cell_type": "code",
   "execution_count": 65,
   "metadata": {
    "collapsed": false
   },
   "outputs": [],
   "source": [
    "#R call\n",
    "\n",
    "import rpy2.robjects as robjects\n",
    "from rpy2.robjects.packages import importr\n",
    "fastclime = importr('fastclime')\n",
    "grdevices = importr('grDevices')\n",
    "base = importr('base')\n",
    "stats = importr('stats')"
   ]
  },
  {
   "cell_type": "code",
   "execution_count": 66,
   "metadata": {
    "collapsed": false
   },
   "outputs": [],
   "source": [
    "#Call custom Python module\n",
    "import parametric as param"
   ]
  },
  {
   "cell_type": "code",
   "execution_count": 67,
   "metadata": {
    "collapsed": false
   },
   "outputs": [],
   "source": [
    "def is_Hermitian(m):\n",
    "    #Set missing to zero prior to checking symmetry\n",
    "    m[np.isnan(m)] = 0.\n",
    "\n",
    "    try:\n",
    "        return np.allclose(np.transpose(m,(1,0)), m)\n",
    "    except:\n",
    "        return False"
   ]
  },
  {
   "cell_type": "code",
   "execution_count": 88,
   "metadata": {
    "collapsed": false
   },
   "outputs": [],
   "source": [
    "def fastclime_py(x,lambda_min=0.1,nlambda=50):\n",
    "\n",
    "    cov_input = 1\n",
    "    SigmaInput = x.copy()\n",
    "    \n",
    "    if not is_Hermitian(SigmaInput):\n",
    "        SigmaInput = np.corrcoef(SigmaInput.T)\n",
    "        cov_input = 0\n",
    "    \n",
    "    \n",
    "    \n",
    "    #Run parametric simplex linear solver\n",
    "    Sigmahat, mu, maxnlambda, iicov = param.mainfunc(SigmaInput,lambda_min,nlambda)\n",
    "      \n",
    "    #Process output\n",
    "    maxnlambda+=1\n",
    "    lambdamtx = mu#mu[:maxnlambda,]\n",
    "    mu = None\n",
    "\n",
    "    #Take each row of iicov and convert it to a d x d matrix\n",
    "    d = Sigmahat.shape[1]\n",
    "    icovlist = np.empty((d, d, maxnlambda)) \n",
    "    for i in range(maxnlambda):\n",
    "        icovlist[:,:,i] = iicov[i,:].reshape((d,d))\n",
    "    \n",
    "    gc.collect()\n",
    "    \n",
    "    return x, cov_input, Sigmahat, maxnlambda, lambdamtx.T, icovlist\n",
    "    "
   ]
  },
  {
   "cell_type": "code",
   "execution_count": 92,
   "metadata": {
    "collapsed": false
   },
   "outputs": [
    {
     "name": "stdout",
     "output_type": "stream",
     "text": [
      "Generating data from the multivariate normal distribution with the random graph structure....done.\n"
     ]
    }
   ],
   "source": [
    "#Generate data\n",
    "\n",
    "L = fastclime.fastclime_generator(n = 5, d = 7)\n",
    "pydat = np.array(L.rx2('data'))"
   ]
  },
  {
   "cell_type": "code",
   "execution_count": 93,
   "metadata": {
    "collapsed": false
   },
   "outputs": [
    {
     "name": "stdout",
     "output_type": "stream",
     "text": [
      "[[ 1.      0.2919  0.      0.      0.      0.      0.      0.      0.      0.\n",
      "   0.      0.      0.      0.      0.      0.      0.      0.      0.      0.\n",
      "   0.      0.      0.452   0.      0.      0.      0.      0.      0.\n",
      "   0.3747  0.      0.      0.      0.      0.      0.      0.4796  0.      0.\n",
      "   0.      0.      0.      0.      0.3903  0.2261  0.      0.      0.      0.\n",
      "   0.    ]\n",
      " [ 0.3965  0.2278  0.      0.      0.      0.      0.      1.      0.      0.\n",
      "   0.      0.      0.      0.      0.      0.      0.      0.      0.      0.\n",
      "   0.      0.      0.4372  0.      0.      0.      0.      0.      0.\n",
      "   0.3746  0.      0.      0.      0.      0.      0.      0.445   0.      0.\n",
      "   0.      0.      0.      0.      0.2893  0.      0.      0.      0.      0.\n",
      "   0.    ]\n",
      " [ 0.3919  0.      0.      0.      0.      0.      0.      0.4494  0.      0.\n",
      "   0.      0.      0.      0.      1.      0.      0.      0.      0.      0.\n",
      "   0.      0.      0.415   0.      0.      0.      0.      0.      0.\n",
      "   0.3738  0.      0.      0.      0.      0.      0.      0.4146  0.      0.\n",
      "   0.      0.      0.      0.      0.2674  0.      0.      0.      0.      0.\n",
      "   0.    ]\n",
      " [ 0.3904  0.      0.      0.      0.      0.      0.      0.3768  0.      0.\n",
      "   0.      0.      0.      0.      0.4494  0.      0.      0.      0.      0.\n",
      "   0.      1.      0.4011  0.      0.      0.      0.      0.      0.\n",
      "   0.3727  0.      0.      0.      0.      0.      0.      0.4012  0.      0.\n",
      "   0.      0.      0.      0.      0.2484  0.      0.      0.      0.      0.\n",
      "   0.    ]\n",
      " [ 0.3896  0.      0.      0.      0.      0.      0.      0.351   0.      0.\n",
      "   0.      0.      0.      0.      0.3915  0.      0.      0.      0.      0.\n",
      "   0.      0.4828  0.      0.      0.      0.      0.      0.      1.      0.\n",
      "   0.      0.      0.      0.      0.      0.      0.      0.      0.      0.\n",
      "   0.      0.      0.      0.2435  0.      0.      0.      0.      0.      0.    ]\n",
      " [ 0.3761  0.      0.      0.      0.      0.      0.      0.3477  0.      0.\n",
      "   0.      0.      0.      0.      0.3817  0.      0.      0.      0.      0.\n",
      "   0.      0.4748  0.      0.      0.      0.      0.      0.      0.468\n",
      "   0.      0.      0.      0.      0.      0.      1.      0.      0.      0.\n",
      "   0.      0.      0.      0.      0.2419  0.      0.      0.      0.      0.\n",
      "   0.    ]\n",
      " [ 0.3131  0.      0.      0.      0.      0.      0.      0.3445  0.      0.\n",
      "   0.      0.      0.      0.      0.3814  0.      0.      0.      0.      0.\n",
      "   0.      0.4544  0.      0.      0.      0.      0.      0.      0.3748\n",
      "   0.      0.      0.      0.      0.      0.      0.4828  0.      0.      0.\n",
      "   0.      0.      0.      1.      0.2309  0.      0.      0.      0.      0.\n",
      "   0.    ]]\n"
     ]
    }
   ],
   "source": [
    "Pyout = fastclime_py(pydat,0.1)\n",
    "print Pyout[4]\n",
    "#%timeit -n1 -r1 fastclime_py(pydat,0.1)"
   ]
  },
  {
   "cell_type": "code",
   "execution_count": 82,
   "metadata": {
    "collapsed": false
   },
   "outputs": [
    {
     "data": {
      "text/plain": [
       "7.2000"
      ]
     },
     "execution_count": 82,
     "metadata": {},
     "output_type": "execute_result"
    }
   ],
   "source": [
    "(50-Pyout[3]+1)/5-1"
   ]
  },
  {
   "cell_type": "code",
   "execution_count": 62,
   "metadata": {
    "collapsed": false
   },
   "outputs": [
    {
     "data": {
      "text/plain": [
       "array([ 0.4659,  0.4339,  0.2814,  0.4659,  0.4339])"
      ]
     },
     "execution_count": 62,
     "metadata": {},
     "output_type": "execute_result"
    }
   ],
   "source": [
    "Pyout[4][1][::10]"
   ]
  },
  {
   "cell_type": "code",
   "execution_count": 63,
   "metadata": {
    "collapsed": false
   },
   "outputs": [
    {
     "data": {
      "text/plain": [
       "array([ 0.345 ,  0.3608,  0.1883,  0.2936,  0.3323])"
      ]
     },
     "execution_count": 63,
     "metadata": {},
     "output_type": "execute_result"
    }
   ],
   "source": [
    "Pyout[4][0][1::10]"
   ]
  },
  {
   "cell_type": "code",
   "execution_count": null,
   "metadata": {
    "collapsed": false
   },
   "outputs": [],
   "source": [
    "#Compare results to R"
   ]
  },
  {
   "cell_type": "code",
   "execution_count": 94,
   "metadata": {
    "collapsed": false
   },
   "outputs": [
    {
     "name": "stdout",
     "output_type": "stream",
     "text": [
      "Allocating memory \n",
      "start recovering \n",
      "preparing precision and path matrix list \n",
      "Done! \n"
     ]
    },
    {
     "data": {
      "text/plain": [
       "array([[ 1.    ,  1.    ,  1.    ,  1.    ,  1.    ,  1.    ,  1.    ],\n",
       "       [ 0.3965,  0.4494,  0.4494,  0.4828,  0.468 ,  0.4828,  0.3903],\n",
       "       [ 0.3919,  0.3768,  0.3915,  0.4748,  0.3748,  0.4796,  0.2893],\n",
       "       [ 0.3904,  0.351 ,  0.3817,  0.4544,  0.3747,  0.445 ,  0.2674],\n",
       "       [ 0.3896,  0.3477,  0.3814,  0.452 ,  0.3746,  0.4146,  0.2484],\n",
       "       [ 0.3761,  0.3445,  0.    ,  0.4372,  0.3738,  0.4012,  0.2435],\n",
       "       [ 0.3131,  0.    ,  0.    ,  0.415 ,  0.3727,  0.    ,  0.2419],\n",
       "       [ 0.2919,  0.    ,  0.    ,  0.4011,  0.    ,  0.    ,  0.2309],\n",
       "       [ 0.2278,  0.    ,  0.    ,  0.    ,  0.    ,  0.    ,  0.2261]])"
      ]
     },
     "execution_count": 94,
     "metadata": {},
     "output_type": "execute_result"
    }
   ],
   "source": [
    "#%timeit -n1 -r1 fastclime.fastclime(L.rx2('data'),0.1)\n",
    "Rout = fastclime.fastclime(L.rx2('data'),0.1)\n",
    "#np.array(Rout.rx2('icovlist')[16])\n",
    "np.array(Rout.rx2('lambdamtx'))"
   ]
  },
  {
   "cell_type": "code",
   "execution_count": null,
   "metadata": {
    "collapsed": false
   },
   "outputs": [],
   "source": [
    "#It seems that there is some matrix manipulation that R/C is doing behind the scenes that's being modified in Python. \n"
   ]
  },
  {
   "cell_type": "code",
   "execution_count": null,
   "metadata": {
    "collapsed": false
   },
   "outputs": [],
   "source": [
    "###Draw network graph\n",
    "\n",
    "# \"\"\"\n",
    "# Draw a graph with matplotlib.\n",
    "# You must have matplotlib for this to work.\n",
    "# \"\"\"\n",
    "# try:\n",
    "#     import matplotlib.pyplot as plt\n",
    "# except:\n",
    "#     raise\n",
    "\n",
    "# import networkx as nx\n",
    "\n",
    "# G=nx.path_graph(8)\n",
    "# nx.draw(G)\n",
    "# plt.savefig(\"simple_path.png\") # save as png\n",
    "# plt.show() # display"
   ]
  }
 ],
 "metadata": {
  "kernelspec": {
   "display_name": "Python 2",
   "language": "python",
   "name": "python2"
  },
  "language_info": {
   "codemirror_mode": {
    "name": "ipython",
    "version": 2
   },
   "file_extension": ".py",
   "mimetype": "text/x-python",
   "name": "python",
   "nbconvert_exporter": "python",
   "pygments_lexer": "ipython2",
   "version": "2.7.9"
  }
 },
 "nbformat": 4,
 "nbformat_minor": 0
}
