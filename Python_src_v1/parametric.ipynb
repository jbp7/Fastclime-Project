{
 "metadata": {
  "name": "",
  "signature": "sha256:f6863b8fcbf38f0b1b8bbdffa2b060fbbe4ead38abeabb761afd85a66adb4e20"
 },
 "nbformat": 3,
 "nbformat_minor": 0,
 "worksheets": [
  {
   "cells": [
    {
     "cell_type": "markdown",
     "metadata": {},
     "source": [
      "This code generates the C wrapper to run the parametric simplex method in Python using the source files in the fastclime R package."
     ]
    },
    {
     "cell_type": "code",
     "collapsed": false,
     "input": [
      "from __future__ import division\n",
      "import os\n",
      "import sys\n",
      "import glob"
     ],
     "language": "python",
     "metadata": {},
     "outputs": [],
     "prompt_number": 22
    },
    {
     "cell_type": "code",
     "collapsed": false,
     "input": [
      "%%file parametric.h\n",
      "\n",
      "int ratio_test(double *dy, int *idy,int ndy, double *y, double mu);\n",
      "void parametric(double *SigmaInput, int *m1, double *mu_input, double *lambdamin, int *nlambda, int *maxnlambda, double *iicov);\n",
      "void solver2(int m,int n,int nz,int *ia, int *ka, double *a,double *b, double *c);"
     ],
     "language": "python",
     "metadata": {},
     "outputs": [
      {
       "output_type": "stream",
       "stream": "stdout",
       "text": [
        "Overwriting parametric.h\n"
       ]
      }
     ],
     "prompt_number": 23
    },
    {
     "cell_type": "code",
     "collapsed": true,
     "input": [
      "%%file _parametric.pyx\n",
      "\n",
      "import numpy as np\n",
      "cimport numpy as np\n",
      "\n",
      "np.import_array()\n",
      "\n",
      "# cdefine the signature of the c function\n",
      "cdef extern from \"parametric.h\":\n",
      "    void parametric(double *SigmaInput, int *m1, double *mu_input, \n",
      "                    double *lambdamin, int *nlambda, int *maxnlambda, double *iicov);\n",
      "    \n",
      "def mainfunc(np.ndarray[double, ndim=2, mode=\"c\"] SigmaInput not None, \n",
      "             double lambdamin, \n",
      "             int nlambda):   \n",
      "\n",
      "    #Dimensions    \n",
      "    cdef int m1 = SigmaInput.shape[1]\n",
      " \n",
      "    #Define output\n",
      "    cdef int maxnlambda = 0\n",
      "    cdef np.ndarray SigmaOutput = SigmaInput.copy()\n",
      "    cdef np.ndarray mu_input = np.zeros((nlambda,m1), dtype = np.float64)\n",
      "    cdef np.ndarray iicov = np.zeros((nlambda,m1*m1), dtype = np.float64)\n",
      "    \n",
      "    #Call external C function\n",
      "    parametric(<double*> np.PyArray_DATA(SigmaOutput),\n",
      "               &m1,\n",
      "               <double*> np.PyArray_DATA(mu_input),\n",
      "               <double*> &lambdamin,\n",
      "               &nlambda,\n",
      "               &maxnlambda,\n",
      "               <double*> np.PyArray_DATA(iicov))\n",
      "    \n",
      "    return (SigmaOutput,mu_input,maxnlambda,iicov)\n"
     ],
     "language": "python",
     "metadata": {},
     "outputs": [
      {
       "output_type": "stream",
       "stream": "stdout",
       "text": [
        "Overwriting _parametric.pyx\n"
       ]
      }
     ],
     "prompt_number": 24
    },
    {
     "cell_type": "code",
     "collapsed": false,
     "input": [
      "%%file setup.py\n",
      "\n",
      "from distutils.core import setup, Extension\n",
      "import numpy as np\n",
      "import numpy.distutils.misc_util\n",
      "from Cython.Distutils import build_ext\n",
      "\n",
      "setup(\n",
      "    name = 'parametric',\n",
      "    version = '1.0',\n",
      "    description = 'C wrapper for parametric function created by Haotian Pang et. al',\n",
      "    author = 'John Pura',\n",
      "    author_email = 'john.pura@duke.edu',\n",
      "    cmdclass={'build_ext': build_ext},\n",
      "    ext_modules=[Extension(\"parametric\",\n",
      "                           sources=[\"_parametric.pyx\", \"parametric.c\",\n",
      "                                    \"lu.c\",\"tree.c\",\"linalg.c\",\n",
      "                                    \"heap.c\"],\n",
      "                 include_dirs=[np.get_include(), ])]\n",
      ")\n"
     ],
     "language": "python",
     "metadata": {},
     "outputs": [
      {
       "output_type": "stream",
       "stream": "stdout",
       "text": [
        "Overwriting setup.py\n"
       ]
      }
     ],
     "prompt_number": 25
    },
    {
     "cell_type": "code",
     "collapsed": false,
     "input": [
      "!python setup.py build_ext --inplace"
     ],
     "language": "python",
     "metadata": {},
     "outputs": [
      {
       "output_type": "stream",
       "stream": "stdout",
       "text": [
        "\u001b[39mrunning build_ext\u001b[0m\r\n",
        "\u001b[39mcythoning _parametric.pyx to _parametric.c\u001b[0m\r\n"
       ]
      },
      {
       "output_type": "stream",
       "stream": "stdout",
       "text": [
        "\u001b[39mbuilding 'parametric' extension\u001b[0m\r\n",
        "\u001b[39mC compiler: gcc -pthread -fno-strict-aliasing -g -O2 -DNDEBUG -g -fwrapv -O3 -Wall -Wstrict-prototypes -fPIC\r\n",
        "\u001b[0m\r\n",
        "\u001b[39mcompile options: '-I/home/bitnami/anaconda/lib/python2.7/site-packages/numpy/core/include -I/home/bitnami/anaconda/include/python2.7 -c'\u001b[0m\r\n",
        "\u001b[39mgcc: parametric.c\u001b[0m\r\n"
       ]
      },
      {
       "output_type": "stream",
       "stream": "stdout",
       "text": [
        "\u001b[39mgcc: heap.c\u001b[0m\r\n"
       ]
      },
      {
       "output_type": "stream",
       "stream": "stdout",
       "text": [
        "\u001b[39mgcc: linalg.c\u001b[0m\r\n"
       ]
      },
      {
       "output_type": "stream",
       "stream": "stdout",
       "text": [
        "\u001b[39mgcc: tree.c\u001b[0m\r\n"
       ]
      },
      {
       "output_type": "stream",
       "stream": "stdout",
       "text": [
        "\u001b[39mgcc: lu.c\u001b[0m\r\n"
       ]
      },
      {
       "output_type": "stream",
       "stream": "stdout",
       "text": [
        "\u001b[39mgcc: _parametric.c\u001b[0m\r\n"
       ]
      },
      {
       "output_type": "stream",
       "stream": "stdout",
       "text": [
        "In file included from /home/bitnami/anaconda/lib/python2.7/site-packages/numpy/core/include/numpy/ndarraytypes.h:1804:0,\r\n",
        "                 from /home/bitnami/anaconda/lib/python2.7/site-packages/numpy/core/include/numpy/ndarrayobject.h:17,\r\n",
        "                 from /home/bitnami/anaconda/lib/python2.7/site-packages/numpy/core/include/numpy/arrayobject.h:4,\r\n",
        "                 from _parametric.c:232:\r\n",
        "/home/bitnami/anaconda/lib/python2.7/site-packages/numpy/core/include/numpy/npy_1_7_deprecated_api.h:15:2: warning: #warning \"Using deprecated NumPy API, disable it by \" \"#defining NPY_NO_DEPRECATED_API NPY_1_7_API_VERSION\" [-Wcpp]\r\n",
        " #warning \"Using deprecated NumPy API, disable it by \" \\\r\n",
        "  ^\r\n"
       ]
      },
      {
       "output_type": "stream",
       "stream": "stdout",
       "text": [
        "In file included from /home/bitnami/anaconda/lib/python2.7/site-packages/numpy/core/include/numpy/ufuncobject.h:317:0,\r\n",
        "                 from _parametric.c:233:\r\n",
        "/home/bitnami/anaconda/lib/python2.7/site-packages/numpy/core/include/numpy/__ufunc_api.h:241:1: warning: \u2018_import_umath\u2019 defined but not used [-Wunused-function]\r\n",
        " _import_umath(void)\r\n",
        " ^\r\n"
       ]
      },
      {
       "output_type": "stream",
       "stream": "stdout",
       "text": [
        "\u001b[39mgcc -pthread -shared build/temp.linux-x86_64-2.7/_parametric.o build/temp.linux-x86_64-2.7/parametric.o build/temp.linux-x86_64-2.7/lu.o build/temp.linux-x86_64-2.7/tree.o build/temp.linux-x86_64-2.7/linalg.o build/temp.linux-x86_64-2.7/heap.o -L/home/bitnami/anaconda/lib -lpython2.7 -o /home/bitnami/STA663-pura-project/paramsimplex/parametric.so\u001b[0m\r\n"
       ]
      }
     ],
     "prompt_number": 26
    }
   ],
   "metadata": {}
  }
 ]
}