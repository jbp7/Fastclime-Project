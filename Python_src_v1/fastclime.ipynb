{
 "metadata": {
  "name": "",
  "signature": "sha256:564ed942257a650b82a9a65002a9a8b9fe55a7bc5b8e2cc8d25c263ae15ed646"
 },
 "nbformat": 3,
 "nbformat_minor": 0,
 "worksheets": [
  {
   "cells": [
    {
     "cell_type": "code",
     "collapsed": false,
     "input": [
      "from __future__ import division\n",
      "import os\n",
      "import sys\n",
      "import glob\n",
      "import matplotlib.pyplot as plt\n",
      "import numpy as np\n",
      "import pandas as pd\n",
      "%matplotlib inline\n",
      "%precision 4\n",
      "plt.style.use('ggplot')\n",
      "\n",
      "from IPython.core.display import Image\n",
      "import uuid \n",
      "\n",
      "import gc"
     ],
     "language": "python",
     "metadata": {},
     "outputs": [],
     "prompt_number": 34
    },
    {
     "cell_type": "code",
     "collapsed": false,
     "input": [
      "#R call\n",
      "\n",
      "import rpy2.robjects as robjects\n",
      "from rpy2.robjects.packages import importr\n",
      "fastclime = importr('fastclime')\n",
      "grdevices = importr('grDevices')\n",
      "base = importr('base')\n",
      "stats = importr('stats')"
     ],
     "language": "python",
     "metadata": {},
     "outputs": [],
     "prompt_number": 23
    },
    {
     "cell_type": "code",
     "collapsed": false,
     "input": [
      "#Call custom Python module\n",
      "import parametric as param"
     ],
     "language": "python",
     "metadata": {},
     "outputs": [],
     "prompt_number": 37
    },
    {
     "cell_type": "code",
     "collapsed": false,
     "input": [
      "def is_Hermitian(m):\n",
      "    #Set missing to zero prior to checking symmetry\n",
      "    m[np.isnan(m)] = 0.\n",
      "\n",
      "    try:\n",
      "        return np.allclose(np.transpose(m,(1,0)), m)\n",
      "    except:\n",
      "        return False"
     ],
     "language": "python",
     "metadata": {},
     "outputs": [],
     "prompt_number": 25
    },
    {
     "cell_type": "code",
     "collapsed": false,
     "input": [
      "def fastclime_py(x,lambda_min=0.1,nlambda=50):\n",
      "\n",
      "    cov_input = 1\n",
      "    SigmaInput = x.copy()\n",
      "    \n",
      "    if not is_Hermitian(SigmaInput):\n",
      "        SigmaInput = np.corrcoef(SigmaInput.T)\n",
      "        cov_input = 0\n",
      "    \n",
      "    #Run parametric simplex linear solver\n",
      "    Sigmahat, mu, maxnlambda, iicov = param.mainfunc(SigmaInput,lambda_min,nlambda)\n",
      "        \n",
      "    #Process output\n",
      "    maxnlambda+=1\n",
      "    lambdamtx = mu[:maxnlambda,]\n",
      "    mu = None\n",
      "\n",
      "    #Take each row of iicov and convert it to a d x d matrix\n",
      "    d = Sigmahat.shape[1]\n",
      "    icovlist = np.empty((d, d, maxnlambda)) \n",
      "    for i in range(maxnlambda):\n",
      "        icovlist[:,:,i] = iicov[i,:].reshape((d,d))\n",
      "    \n",
      "    gc.collect()\n",
      "    \n",
      "    return x, cov_input, Sigmahat, maxnlambda, lambdamtx, icovlist\n",
      "    "
     ],
     "language": "python",
     "metadata": {},
     "outputs": [],
     "prompt_number": 40
    },
    {
     "cell_type": "code",
     "collapsed": false,
     "input": [
      "#Generate data\n",
      "\n",
      "L = fastclime.fastclime_generator(n = 100, d = 20)\n",
      "pydat = np.array(L.rx2('data'))"
     ],
     "language": "python",
     "metadata": {},
     "outputs": [
      {
       "output_type": "stream",
       "stream": "stdout",
       "text": [
        "Generating data from the multivariate normal distribution with the random graph structure....done.\n"
       ]
      }
     ],
     "prompt_number": 27
    },
    {
     "cell_type": "code",
     "collapsed": false,
     "input": [
      "Pyout = fastclime_py(pydat,0.1)\n",
      "print Pyout[0]\n",
      "#%timeit -n1 -r1 fastclime_py(pydat,0.1)"
     ],
     "language": "python",
     "metadata": {},
     "outputs": [
      {
       "output_type": "stream",
       "stream": "stdout",
       "text": [
        "[[  1.0000e+00  -1.8842e-01  -1.0812e-01   7.7600e-03  -3.4952e-03\n",
        "   -3.9075e-02   3.0023e-01   1.6898e-01   1.9293e-01   1.4492e-01\n",
        "   -1.4563e-01   3.4667e-01  -3.5214e-01   1.7448e-01   2.6512e-02\n",
        "    8.0655e-02  -2.1975e-01  -4.3084e-02  -1.1703e-01  -3.3075e-01]\n",
        " [ -1.8842e-01   1.0000e+00   9.6847e-03  -9.4957e-02   3.6040e-03\n",
        "    1.1630e-01  -3.9670e-01  -1.2372e-01  -2.3394e-02  -2.0807e-02\n",
        "    1.4870e-01  -4.5824e-01   3.8403e-03  -3.5390e-01  -2.6845e-01\n",
        "   -3.0950e-01   9.6910e-02   2.6948e-01   3.1514e-01   1.9738e-01]\n",
        " [ -1.0812e-01   9.6847e-03   1.0000e+00  -9.9988e-02  -2.7212e-01\n",
        "    1.7454e-01  -3.0299e-01   3.4065e-03  -3.7128e-02  -3.1619e-01\n",
        "    1.8572e-01  -1.0003e-01   1.3835e-01   1.3767e-02   2.0699e-01\n",
        "   -1.0678e-02   2.2731e-01  -1.4017e-02  -3.7636e-02  -9.3357e-02]\n",
        " [  7.7600e-03  -9.4957e-02  -9.9988e-02   1.0000e+00  -6.8822e-02\n",
        "    1.4424e-02  -4.3927e-02  -2.0227e-02   1.0417e-01   3.2912e-01\n",
        "   -2.6556e-01   2.2128e-01  -2.6070e-02   1.1379e-02   8.4341e-02\n",
        "   -1.2910e-01  -1.8949e-01   1.1335e-01   2.1238e-02   5.8662e-03]\n",
        " [ -3.4952e-03   3.6040e-03  -2.7212e-01  -6.8822e-02   1.0000e+00\n",
        "   -2.9660e-01   1.0124e-01  -1.6745e-01  -8.8320e-02   1.8044e-01\n",
        "    3.9061e-03  -2.2093e-01  -7.7762e-02   9.1876e-02  -1.2331e-01\n",
        "    1.5861e-01  -9.3569e-02   7.1131e-02  -7.5810e-02   1.0153e-02]\n",
        " [ -3.9075e-02   1.1630e-01   1.7454e-01   1.4424e-02  -2.9660e-01\n",
        "    1.0000e+00  -2.2672e-01   8.1670e-02   8.2024e-02  -2.6318e-01\n",
        "    1.6007e-01   9.3698e-02  -2.5306e-02  -2.0152e-01   1.4366e-02\n",
        "   -2.7209e-01   1.9072e-01  -1.7580e-01   2.7739e-01   4.2148e-02]\n",
        " [  3.0023e-01  -3.9670e-01  -3.0299e-01  -4.3927e-02   1.0124e-01\n",
        "   -2.2672e-01   1.0000e+00  -8.3622e-03  -4.2659e-02   1.8609e-01\n",
        "   -2.9504e-01   2.4581e-01  -1.7222e-01   2.7358e-01   1.3909e-01\n",
        "    2.2353e-01  -7.1059e-02  -3.1880e-02  -2.2985e-01  -7.3587e-02]\n",
        " [  1.6898e-01  -1.2372e-01   3.4065e-03  -2.0227e-02  -1.6745e-01\n",
        "    8.1670e-02  -8.3622e-03   1.0000e+00   4.3091e-02  -1.3604e-01\n",
        "   -5.7072e-03   3.0430e-01  -1.3171e-01   3.3173e-02  -8.7170e-02\n",
        "    1.6918e-01  -5.6230e-02  -3.5076e-01   1.2029e-01  -1.8136e-01]\n",
        " [  1.9293e-01  -2.3394e-02  -3.7128e-02   1.0417e-01  -8.8320e-02\n",
        "    8.2024e-02  -4.2659e-02   4.3091e-02   1.0000e+00  -5.2087e-02\n",
        "    1.8007e-03   2.3525e-01  -3.0780e-01   1.4199e-01   2.4146e-01\n",
        "   -2.2340e-02  -2.7306e-01  -1.0358e-01  -1.9819e-01  -8.7892e-02]\n",
        " [  1.4492e-01  -2.0807e-02  -3.1619e-01   3.2912e-01   1.8044e-01\n",
        "   -2.6318e-01   1.8609e-01  -1.3604e-01  -5.2087e-02   1.0000e+00\n",
        "   -2.8640e-01   8.5652e-02  -6.6786e-02   7.0378e-02  -1.7370e-01\n",
        "   -2.0459e-01  -3.6773e-01   1.6923e-01  -7.6281e-02   1.6440e-02]\n",
        " [ -1.4563e-01   1.4870e-01   1.8572e-01  -2.6556e-01   3.9061e-03\n",
        "    1.6007e-01  -2.9504e-01  -5.7072e-03   1.8007e-03  -2.8640e-01\n",
        "    1.0000e+00  -2.8175e-01   8.5860e-02  -1.6273e-01  -2.5454e-01\n",
        "    4.2471e-02   1.8289e-01  -3.0909e-01   3.5857e-01   6.9760e-02]\n",
        " [  3.4667e-01  -4.5824e-01  -1.0003e-01   2.2128e-01  -2.2093e-01\n",
        "    9.3698e-02   2.4581e-01   3.0430e-01   2.3525e-01   8.5652e-02\n",
        "   -2.8175e-01   1.0000e+00  -1.4597e-01   1.9801e-01   1.6772e-01\n",
        "    1.5827e-01  -1.8971e-01  -3.0403e-01  -1.4239e-01  -1.5343e-01]\n",
        " [ -3.5214e-01   3.8403e-03   1.3835e-01  -2.6070e-02  -7.7762e-02\n",
        "   -2.5306e-02  -1.7222e-01  -1.3171e-01  -3.0780e-01  -6.6786e-02\n",
        "    8.5860e-02  -1.4597e-01   1.0000e+00  -1.0153e-01  -1.6000e-01\n",
        "    9.1038e-02  -7.9623e-04   2.1409e-02   7.7512e-02   8.4040e-02]\n",
        " [  1.7448e-01  -3.5390e-01   1.3767e-02   1.1379e-02   9.1876e-02\n",
        "   -2.0152e-01   2.7358e-01   3.3173e-02   1.4199e-01   7.0378e-02\n",
        "   -1.6273e-01   1.9801e-01  -1.0153e-01   1.0000e+00   1.4550e-01\n",
        "    1.5160e-01  -3.1187e-01   3.2669e-04  -3.4185e-01  -3.5208e-01]\n",
        " [  2.6512e-02  -2.6845e-01   2.0699e-01   8.4341e-02  -1.2331e-01\n",
        "    1.4366e-02   1.3909e-01  -8.7170e-02   2.4146e-01  -1.7370e-01\n",
        "   -2.5454e-01   1.6772e-01  -1.6000e-01   1.4550e-01   1.0000e+00\n",
        "    7.8607e-02  -1.3862e-01   1.8029e-03  -4.9841e-01  -2.8259e-01]\n",
        " [  8.0655e-02  -3.0950e-01  -1.0678e-02  -1.2910e-01   1.5861e-01\n",
        "   -2.7209e-01   2.2353e-01   1.6918e-01  -2.2340e-02  -2.0459e-01\n",
        "    4.2471e-02   1.5827e-01   9.1038e-02   1.5160e-01   7.8607e-02\n",
        "    1.0000e+00   8.5889e-03  -4.1262e-01  -1.1641e-01  -1.3856e-01]\n",
        " [ -2.1975e-01   9.6910e-02   2.2731e-01  -1.8949e-01  -9.3569e-02\n",
        "    1.9072e-01  -7.1059e-02  -5.6230e-02  -2.7306e-01  -3.6773e-01\n",
        "    1.8289e-01  -1.8971e-01  -7.9623e-04  -3.1187e-01  -1.3862e-01\n",
        "    8.5889e-03   1.0000e+00   7.9983e-02   1.5823e-01   2.4742e-01]\n",
        " [ -4.3084e-02   2.6948e-01  -1.4017e-02   1.1335e-01   7.1131e-02\n",
        "   -1.7580e-01  -3.1880e-02  -3.5076e-01  -1.0358e-01   1.6923e-01\n",
        "   -3.0909e-01  -3.0403e-01   2.1409e-02   3.2669e-04   1.8029e-03\n",
        "   -4.1262e-01   7.9983e-02   1.0000e+00  -1.0577e-01   1.4648e-01]\n",
        " [ -1.1703e-01   3.1514e-01  -3.7636e-02   2.1238e-02  -7.5810e-02\n",
        "    2.7739e-01  -2.2985e-01   1.2029e-01  -1.9819e-01  -7.6281e-02\n",
        "    3.5857e-01  -1.4239e-01   7.7512e-02  -3.4185e-01  -4.9841e-01\n",
        "   -1.1641e-01   1.5823e-01  -1.0577e-01   1.0000e+00   2.5898e-01]\n",
        " [ -3.3075e-01   1.9738e-01  -9.3357e-02   5.8662e-03   1.0153e-02\n",
        "    4.2148e-02  -7.3587e-02  -1.8136e-01  -8.7892e-02   1.6440e-02\n",
        "    6.9760e-02  -1.5343e-01   8.4040e-02  -3.5208e-01  -2.8259e-01\n",
        "   -1.3856e-01   2.4742e-01   1.4648e-01   2.5898e-01   1.0000e+00]]\n"
       ]
      }
     ],
     "prompt_number": 45
    },
    {
     "cell_type": "code",
     "collapsed": false,
     "input": [
      "#Compare results to R"
     ],
     "language": "python",
     "metadata": {},
     "outputs": []
    },
    {
     "cell_type": "code",
     "collapsed": false,
     "input": [
      "#%timeit -n1 -r1 fastclime.fastclime(L.rx2('data'),0.1)\n",
      "Rout = fastclime.fastclime(L.rx2('data'),0.1)\n",
      "#np.array(Rout.rx2('icovlist')[16])\n",
      "np.array(Rout.rx2('data'))"
     ],
     "language": "python",
     "metadata": {},
     "outputs": [
      {
       "output_type": "stream",
       "stream": "stdout",
       "text": [
        "Allocating memory \n",
        "start recovering \n",
        "preparing precision and path matrix list \n",
        "Done! \n"
       ]
      },
      {
       "metadata": {},
       "output_type": "pyout",
       "prompt_number": 43,
       "text": [
        "array([[-0.248 , -1.4987, -0.1713, ..., -1.1533, -1.5658, -1.2291],\n",
        "       [ 1.307 , -1.2043,  1.9422, ..., -1.0649, -0.2273, -1.0085],\n",
        "       [-0.1682, -0.3067,  0.3793, ..., -1.5419,  0.6406, -0.7746],\n",
        "       ..., \n",
        "       [-1.3649, -0.2636,  1.5092, ..., -0.1287, -1.4327, -0.183 ],\n",
        "       [-0.4937,  1.5993, -0.7299, ...,  1.0508,  0.9099,  0.18  ],\n",
        "       [-0.7915,  0.1382,  0.3128, ..., -1.1494, -0.4133, -0.974 ]])"
       ]
      }
     ],
     "prompt_number": 43
    },
    {
     "cell_type": "code",
     "collapsed": false,
     "input": [],
     "language": "python",
     "metadata": {},
     "outputs": []
    }
   ],
   "metadata": {}
  }
 ]
}