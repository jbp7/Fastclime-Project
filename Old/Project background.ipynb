{
 "metadata": {
  "name": "",
  "signature": "sha256:bc512457e289782533b63ab16266347d352b60ab3d87a320302d3aa9d97af9b8"
 },
 "nbformat": 3,
 "nbformat_minor": 0,
 "worksheets": [
  {
   "cells": [
    {
     "cell_type": "heading",
     "level": 1,
     "metadata": {},
     "source": [
      "Background"
     ]
    },
    {
     "cell_type": "markdown",
     "metadata": {},
     "source": [
      "The goal of this project is to implement a constrained \u21131 minimization estimator (CLIME) and covariance adjusted precision matrix estimator (CAPME), which are important tools in estimating sparse precision matrices. Sparse precision matrices are closely tied to undirected graphs, and under Gaussian models, have the property of quantifying conditional independence between variables. This project will have two components: 1) CLIME: an algorithm to estimate precision matrix for a banded matrix and 2) CAPME: an algorithm extending CLIME to perform graphical model selection in the presence of covariates. Each statistical problem will be translated into a linear programming framework, which will then be solved using the primal-dual simplex and primal-dual interior point methods. \n",
      "\n",
      "The following references will be used in this project:\n",
      "\n",
      "(CLIME) T. Cai, W. Liu, and X. Luo. A constrained \u21131 minimization approach to sparse precision matrix estimation. J. Amer. Statist. Assoc, 2011.\n",
      "\n",
      "(CAPME) T. Cai, H. Li, W. Liu, and J. Xie. Covariate adjusted precision matrix estimation with an application in genetical genomics. Biometrika, 2011.\n"
     ]
    }
   ],
   "metadata": {}
  }
 ]
}